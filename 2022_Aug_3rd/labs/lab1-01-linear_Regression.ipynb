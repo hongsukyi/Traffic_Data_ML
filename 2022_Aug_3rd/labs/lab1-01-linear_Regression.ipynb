{
 "cells": [
  {
   "cell_type": "markdown",
   "metadata": {},
   "source": [
    "# Tensorflow 2.x 버전 처음 시행하기"
   ]
  },
  {
   "cell_type": "markdown",
   "metadata": {
    "colab_type": "text",
    "id": "RFeXSskkFUV-",
    "slideshow": {
     "slide_type": "slide"
    }
   },
   "source": [
    "# Hypothesis and Cost\n",
    "### Hypothesis \n",
    "$$ H(x) = Wx + b $$\n",
    "\n",
    "\n",
    "### Cost\n",
    "$$ cost(W)=\\frac { 1 }{ m } \\sum _{i=1}^{m}{ { (W{ x }^{ i }-y^{ i } })^{ 2 } }  $$\n",
    "\n",
    "우선 cost function은 정답과 예측의 차이의 제곱의 평균으로 만들어서 계산 할 것이다\n"
   ]
  },
  {
   "cell_type": "markdown",
   "metadata": {
    "colab": {},
    "colab_type": "code",
    "id": "dk3ggjvmFUV5",
    "slideshow": {
     "slide_type": "slide"
    }
   },
   "source": [
    "## 케라스로 구현하는 선형 회귀"
   ]
  },
  {
   "cell_type": "code",
   "execution_count": 1,
   "metadata": {
    "colab": {},
    "colab_type": "code",
    "id": "dk3ggjvmFUV5",
    "slideshow": {
     "slide_type": "slide"
    }
   },
   "outputs": [
    {
     "name": "stdout",
     "output_type": "stream",
     "text": [
      "2.7.0\n"
     ]
    }
   ],
   "source": [
    "import tensorflow as tf\n",
    "import numpy as np\n",
    "print(tf.__version__)"
   ]
  },
  {
   "cell_type": "code",
   "execution_count": 2,
   "metadata": {
    "colab": {},
    "colab_type": "code",
    "id": "dk3ggjvmFUV5",
    "slideshow": {
     "slide_type": "slide"
    }
   },
   "outputs": [],
   "source": [
    "from tensorflow.keras.models import Sequential\n",
    "from tensorflow.keras.layers import Dense\n",
    "from tensorflow.keras import optimizers"
   ]
  },
  {
   "cell_type": "code",
   "execution_count": 3,
   "metadata": {
    "colab": {},
    "colab_type": "code",
    "id": "dk3ggjvmFUV5",
    "slideshow": {
     "slide_type": "slide"
    }
   },
   "outputs": [],
   "source": [
    "X=np.array([1,2,3,4,5,6,7,8,9])          \n",
    "# 공부하는 시간\n",
    "\n",
    "y=np.array([12,25,50,42,61, 67, 79, 85, 90])\n",
    "# 각 공부하는 시간에 맵핑되는 성적"
   ]
  },
  {
   "cell_type": "code",
   "execution_count": 4,
   "metadata": {
    "colab": {},
    "colab_type": "code",
    "id": "dk3ggjvmFUV5",
    "slideshow": {
     "slide_type": "slide"
    }
   },
   "outputs": [],
   "source": [
    "model = Sequential()\n",
    "\n",
    "model.add(Dense(1, input_dim=1, activation='linear'))"
   ]
  },
  {
   "cell_type": "code",
   "execution_count": 5,
   "metadata": {
    "colab": {},
    "colab_type": "code",
    "id": "dk3ggjvmFUV5",
    "slideshow": {
     "slide_type": "slide"
    }
   },
   "outputs": [
    {
     "name": "stderr",
     "output_type": "stream",
     "text": [
      "C:\\Python37\\lib\\site-packages\\keras\\optimizer_v2\\gradient_descent.py:102: UserWarning: The `lr` argument is deprecated, use `learning_rate` instead.\n",
      "  super(SGD, self).__init__(name, **kwargs)\n"
     ]
    }
   ],
   "source": [
    "# sgd는 경사 하강법을 의미. \n",
    "#학습률(learning rate, lr)은 0.01.\n",
    "sgd = optimizers.SGD(lr=0.01)"
   ]
  },
  {
   "cell_type": "markdown",
   "metadata": {},
   "source": [
    "## 회귀에서 \n",
    "- 손실함수는 오차 MSE을 주로 사용한다."
   ]
  },
  {
   "cell_type": "code",
   "execution_count": 6,
   "metadata": {
    "colab": {},
    "colab_type": "code",
    "id": "dk3ggjvmFUV5",
    "slideshow": {
     "slide_type": "slide"
    }
   },
   "outputs": [],
   "source": [
    "# 손실 함수(Loss function)은 평균제곱오차 mse를 사용합니다.\n",
    "model.compile(optimizer=sgd ,loss='mse',metrics=['mse'])"
   ]
  },
  {
   "cell_type": "code",
   "execution_count": 7,
   "metadata": {
    "colab": {},
    "colab_type": "code",
    "id": "dk3ggjvmFUV5",
    "slideshow": {
     "slide_type": "slide"
    }
   },
   "outputs": [
    {
     "name": "stdout",
     "output_type": "stream",
     "text": [
      "Epoch 1/30\n",
      "9/9 [==============================] - 2s 6ms/step - loss: 427.2355 - mse: 427.2355\n",
      "Epoch 2/30\n",
      "9/9 [==============================] - 0s 4ms/step - loss: 49.9089 - mse: 49.9089\n",
      "Epoch 3/30\n",
      "9/9 [==============================] - 0s 4ms/step - loss: 49.1633 - mse: 49.1633\n",
      "Epoch 4/30\n",
      "9/9 [==============================] - 0s 4ms/step - loss: 48.4731 - mse: 48.4731\n",
      "Epoch 5/30\n",
      "9/9 [==============================] - 0s 5ms/step - loss: 47.8343 - mse: 47.8343\n",
      "Epoch 6/30\n",
      "9/9 [==============================] - 0s 3ms/step - loss: 47.2435 - mse: 47.2435\n",
      "Epoch 7/30\n",
      "9/9 [==============================] - 0s 3ms/step - loss: 46.6973 - mse: 46.6973\n",
      "Epoch 8/30\n",
      "9/9 [==============================] - 0s 4ms/step - loss: 46.1927 - mse: 46.1927\n",
      "Epoch 9/30\n",
      "9/9 [==============================] - 0s 3ms/step - loss: 45.7267 - mse: 45.7267\n",
      "Epoch 10/30\n",
      "9/9 [==============================] - 0s 4ms/step - loss: 45.2966 - mse: 45.2966\n",
      "Epoch 11/30\n",
      "9/9 [==============================] - 0s 4ms/step - loss: 44.8999 - mse: 44.8999\n",
      "Epoch 12/30\n",
      "9/9 [==============================] - 0s 4ms/step - loss: 44.5343 - mse: 44.5343\n",
      "Epoch 13/30\n",
      "9/9 [==============================] - 0s 4ms/step - loss: 44.1976 - mse: 44.1976\n",
      "Epoch 14/30\n",
      "9/9 [==============================] - 0s 4ms/step - loss: 43.8877 - mse: 43.8877\n",
      "Epoch 15/30\n",
      "9/9 [==============================] - ETA: 0s - loss: 7.9242 - mse: 7.924 - 0s 4ms/step - loss: 43.6027 - mse: 43.6027\n",
      "Epoch 16/30\n",
      "9/9 [==============================] - 0s 4ms/step - loss: 43.3409 - mse: 43.3409\n",
      "Epoch 17/30\n",
      "9/9 [==============================] - 0s 4ms/step - loss: 43.1006 - mse: 43.1006\n",
      "Epoch 18/30\n",
      "9/9 [==============================] - 0s 3ms/step - loss: 42.8803 - mse: 42.8803\n",
      "Epoch 19/30\n",
      "9/9 [==============================] - 0s 3ms/step - loss: 42.6785 - mse: 42.6785\n",
      "Epoch 20/30\n",
      "9/9 [==============================] - 0s 3ms/step - loss: 42.4939 - mse: 42.4939\n",
      "Epoch 21/30\n",
      "9/9 [==============================] - 0s 3ms/step - loss: 42.3252 - mse: 42.3252\n",
      "Epoch 22/30\n",
      "9/9 [==============================] - 0s 4ms/step - loss: 42.1712 - mse: 42.1712\n",
      "Epoch 23/30\n",
      "9/9 [==============================] - 0s 5ms/step - loss: 42.0310 - mse: 42.0310\n",
      "Epoch 24/30\n",
      "9/9 [==============================] - 0s 3ms/step - loss: 41.9034 - mse: 41.9034\n",
      "Epoch 25/30\n",
      "9/9 [==============================] - 0s 3ms/step - loss: 41.7876 - mse: 41.7876\n",
      "Epoch 26/30\n",
      "9/9 [==============================] - 0s 3ms/step - loss: 41.6826 - mse: 41.6826\n",
      "Epoch 27/30\n",
      "9/9 [==============================] - 0s 3ms/step - loss: 41.5877 - mse: 41.5877\n",
      "Epoch 28/30\n",
      "9/9 [==============================] - 0s 3ms/step - loss: 41.5020 - mse: 41.5020\n",
      "Epoch 29/30\n",
      "9/9 [==============================] - 0s 3ms/step - loss: 41.4250 - mse: 41.4250\n",
      "Epoch 30/30\n",
      "9/9 [==============================] - 0s 4ms/step - loss: 41.3559 - mse: 41.3559\n"
     ]
    }
   ],
   "source": [
    "# 주어진 X와 y데이터에 대해서 오차를 최소화하는 작업을 300번 시도합니다.\n",
    "history=model.fit(X,y, batch_size=1, epochs=30, shuffle=False)"
   ]
  },
  {
   "cell_type": "code",
   "execution_count": 8,
   "metadata": {},
   "outputs": [],
   "source": [
    "%matplotlib inline"
   ]
  },
  {
   "cell_type": "code",
   "execution_count": 9,
   "metadata": {},
   "outputs": [],
   "source": [
    "import matplotlib.pyplot as plt"
   ]
  },
  {
   "cell_type": "code",
   "execution_count": 10,
   "metadata": {
    "scrolled": true
   },
   "outputs": [
    {
     "data": {
      "text/plain": [
       "[<matplotlib.lines.Line2D at 0x245bddcd348>,\n",
       " <matplotlib.lines.Line2D at 0x245bddfc248>]"
      ]
     },
     "execution_count": 10,
     "metadata": {},
     "output_type": "execute_result"
    },
    {
     "data": {
      "image/png": "[encoded data removed]",
      "text/plain": [
       "<Figure size 432x288 with 1 Axes>"
      ]
     },
     "metadata": {
      "needs_background": "light"
     },
     "output_type": "display_data"
    }
   ],
   "source": [
    "plt.plot(X, model.predict(X), 'b', X,y, 'k.')"
   ]
  },
  {
   "cell_type": "code",
   "execution_count": 11,
   "metadata": {},
   "outputs": [
    {
     "data": {
      "image/png": "[encoded data removed]",
      "text/plain": [
       "<Figure size 432x288 with 1 Axes>"
      ]
     },
     "metadata": {
      "needs_background": "light"
     },
     "output_type": "display_data"
    }
   ],
   "source": [
    "epochs = range(1, len(history.history['mse']) + 1)\n",
    "plt.plot(epochs, history.history['loss'])\n",
    "plt.title('model loss')\n",
    "plt.ylabel('loss')\n",
    "plt.xlabel('epoch')\n",
    "plt.legend(['train'], loc='upper left')\n",
    "plt.show()"
   ]
  },
  {
   "cell_type": "code",
   "execution_count": null,
   "metadata": {},
   "outputs": [],
   "source": []
  },
  {
   "cell_type": "code",
   "execution_count": null,
   "metadata": {},
   "outputs": [],
   "source": []
  }
 ],
 "metadata": {
  "colab": {
   "collapsed_sections": [],
   "name": "lab-02-1-Simple-Liner-Regression-eager.ipynb",
   "provenance": [],
   "version": "0.3.2"
  },
  "kernelspec": {
   "display_name": "tf-gpu",
   "language": "python",
   "name": "tf-gpu"
  },
  "language_info": {
   "codemirror_mode": {
    "name": "ipython",
    "version": 3
   },
   "file_extension": ".py",
   "mimetype": "text/x-python",
   "name": "python",
   "nbconvert_exporter": "python",
   "pygments_lexer": "ipython3",
   "version": "3.8.13"
  }
 },
 "nbformat": 4,
 "nbformat_minor": 4
}
