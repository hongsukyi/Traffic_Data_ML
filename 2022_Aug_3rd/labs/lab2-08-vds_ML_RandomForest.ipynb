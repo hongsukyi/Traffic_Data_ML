{
 "cells": [
  {
   "cell_type": "markdown",
   "metadata": {
    "id": "_TZBKyxZM09o"
   },
   "source": [
    "# 교통 데이터 VDS을 이용한 머신러닝 분류 \n",
    "## Decision Tree Classification"
   ]
  },
  {
   "cell_type": "markdown",
   "metadata": {
    "id": "OidGumNFM094"
   },
   "source": [
    "## I. 데이터 가져오기 \n",
    "- 판다스를 이용하여 교통 데이터 가져오기"
   ]
  },
  {
   "cell_type": "code",
   "execution_count": 1,
   "metadata": {},
   "outputs": [],
   "source": [
    "import tensorflow as tf\n",
    "gpus = tf.config.experimental.list_physical_devices('GPU')\n",
    "for gpu in gpus:\n",
    "    tf.config.experimental.set_memory_growth(gpu, True)"
   ]
  },
  {
   "cell_type": "code",
   "execution_count": 2,
   "metadata": {
    "id": "4v2sflRrM095"
   },
   "outputs": [],
   "source": [
    "import pandas as pd"
   ]
  },
  {
   "cell_type": "code",
   "execution_count": 3,
   "metadata": {
    "id": "AJPJFZblM09w"
   },
   "outputs": [],
   "source": [
    "import warnings\n",
    "warnings.filterwarnings(\"ignore\")"
   ]
  },
  {
   "cell_type": "code",
   "execution_count": 4,
   "metadata": {
    "id": "Bi0X_MlTM09-"
   },
   "outputs": [
    {
     "data": {
      "text/html": [
       "<div>\n",
       "<style scoped>\n",
       "    .dataframe tbody tr th:only-of-type {\n",
       "        vertical-align: middle;\n",
       "    }\n",
       "\n",
       "    .dataframe tbody tr th {\n",
       "        vertical-align: top;\n",
       "    }\n",
       "\n",
       "    .dataframe thead th {\n",
       "        text-align: right;\n",
       "    }\n",
       "</style>\n",
       "<table border=\"1\" class=\"dataframe\">\n",
       "  <thead>\n",
       "    <tr style=\"text-align: right;\">\n",
       "      <th></th>\n",
       "      <th>Date</th>\n",
       "      <th>ToVol</th>\n",
       "      <th>SmVol</th>\n",
       "      <th>MeVol</th>\n",
       "      <th>LaVol</th>\n",
       "      <th>Speed</th>\n",
       "      <th>Occ.Rate</th>\n",
       "    </tr>\n",
       "  </thead>\n",
       "  <tbody>\n",
       "    <tr>\n",
       "      <th>0</th>\n",
       "      <td>2017-04-02 0:00</td>\n",
       "      <td>43</td>\n",
       "      <td>34</td>\n",
       "      <td>9</td>\n",
       "      <td>0</td>\n",
       "      <td>50.3</td>\n",
       "      <td>1.90</td>\n",
       "    </tr>\n",
       "    <tr>\n",
       "      <th>1</th>\n",
       "      <td>2017-04-02 0:05</td>\n",
       "      <td>45</td>\n",
       "      <td>32</td>\n",
       "      <td>13</td>\n",
       "      <td>0</td>\n",
       "      <td>58.9</td>\n",
       "      <td>1.84</td>\n",
       "    </tr>\n",
       "    <tr>\n",
       "      <th>2</th>\n",
       "      <td>2017-04-02 0:10</td>\n",
       "      <td>46</td>\n",
       "      <td>34</td>\n",
       "      <td>12</td>\n",
       "      <td>0</td>\n",
       "      <td>50.6</td>\n",
       "      <td>1.87</td>\n",
       "    </tr>\n",
       "    <tr>\n",
       "      <th>3</th>\n",
       "      <td>2017-04-02 0:15</td>\n",
       "      <td>45</td>\n",
       "      <td>36</td>\n",
       "      <td>9</td>\n",
       "      <td>0</td>\n",
       "      <td>50.9</td>\n",
       "      <td>1.72</td>\n",
       "    </tr>\n",
       "    <tr>\n",
       "      <th>4</th>\n",
       "      <td>2017-04-02 0:20</td>\n",
       "      <td>27</td>\n",
       "      <td>13</td>\n",
       "      <td>13</td>\n",
       "      <td>1</td>\n",
       "      <td>62.2</td>\n",
       "      <td>1.12</td>\n",
       "    </tr>\n",
       "  </tbody>\n",
       "</table>\n",
       "</div>"
      ],
      "text/plain": [
       "              Date  ToVol  SmVol  MeVol  LaVol  Speed  Occ.Rate\n",
       "0  2017-04-02 0:00     43     34      9      0   50.3      1.90\n",
       "1  2017-04-02 0:05     45     32     13      0   58.9      1.84\n",
       "2  2017-04-02 0:10     46     34     12      0   50.6      1.87\n",
       "3  2017-04-02 0:15     45     36      9      0   50.9      1.72\n",
       "4  2017-04-02 0:20     27     13     13      1   62.2      1.12"
      ]
     },
     "execution_count": 4,
     "metadata": {},
     "output_type": "execute_result"
    }
   ],
   "source": [
    "df = pd.read_csv('./daejeon_vds16.csv')\n",
    "df.head()"
   ]
  },
  {
   "cell_type": "code",
   "execution_count": 5,
   "metadata": {},
   "outputs": [
    {
     "data": {
      "text/plain": [
       "array([<AxesSubplot:>], dtype=object)"
      ]
     },
     "execution_count": 5,
     "metadata": {},
     "output_type": "execute_result"
    },
    {
     "data": {
      "image/png": "[encoded data removed]",
      "text/plain": [
       "<Figure size 432x288 with 1 Axes>"
      ]
     },
     "metadata": {
      "needs_background": "light"
     },
     "output_type": "display_data"
    }
   ],
   "source": [
    "# 교통량 그림 그려보기\n",
    "df_plt = df['Speed']\n",
    "df_plt.plot(subplots=True)"
   ]
  },
  {
   "cell_type": "markdown",
   "metadata": {},
   "source": [
    "- 5분 간격 데이터를 하루 동안 수집하면 그 갯수는 12(1시간) * 24 = 288\n",
    "- 하루 동안 데이터를 그려보자 "
   ]
  },
  {
   "cell_type": "markdown",
   "metadata": {
    "id": "RYAp6RqFM0-D"
   },
   "source": [
    "## II. 라벨을 정하기\n",
    "- 지도학습을 위해서 데이터를 Feature와 Label로 나누자.\n",
    "- 무엇이 Feature이며 무엇이 Label 인가?\n",
    "- 라벨은 무엇으로 정하는게 좋은가? "
   ]
  },
  {
   "cell_type": "code",
   "execution_count": 6,
   "metadata": {
    "id": "coN_9W1uM0-D"
   },
   "outputs": [],
   "source": [
    "def get_score(v):\n",
    "    if v < 20:\n",
    "        score = 'Jam'\n",
    "    elif v < 40:\n",
    "        score = 'Slow'\n",
    "    else :\n",
    "        score = 'Normal'\n",
    "    return score"
   ]
  },
  {
   "cell_type": "code",
   "execution_count": 7,
   "metadata": {
    "colab": {
     "base_uri": "https://localhost:8080/",
     "height": 423
    },
    "id": "jr21m5kbM0-E",
    "outputId": "91f4ad6b-98a5-4b07-a701-dbd44a6c431f",
    "scrolled": true
   },
   "outputs": [
    {
     "data": {
      "text/html": [
       "<div>\n",
       "<style scoped>\n",
       "    .dataframe tbody tr th:only-of-type {\n",
       "        vertical-align: middle;\n",
       "    }\n",
       "\n",
       "    .dataframe tbody tr th {\n",
       "        vertical-align: top;\n",
       "    }\n",
       "\n",
       "    .dataframe thead th {\n",
       "        text-align: right;\n",
       "    }\n",
       "</style>\n",
       "<table border=\"1\" class=\"dataframe\">\n",
       "  <thead>\n",
       "    <tr style=\"text-align: right;\">\n",
       "      <th></th>\n",
       "      <th>Date</th>\n",
       "      <th>ToVol</th>\n",
       "      <th>SmVol</th>\n",
       "      <th>MeVol</th>\n",
       "      <th>LaVol</th>\n",
       "      <th>Speed</th>\n",
       "      <th>Occ.Rate</th>\n",
       "      <th>label_speed</th>\n",
       "    </tr>\n",
       "  </thead>\n",
       "  <tbody>\n",
       "    <tr>\n",
       "      <th>0</th>\n",
       "      <td>2017-04-02 0:00</td>\n",
       "      <td>43</td>\n",
       "      <td>34</td>\n",
       "      <td>9</td>\n",
       "      <td>0</td>\n",
       "      <td>50.3</td>\n",
       "      <td>1.90</td>\n",
       "      <td>Normal</td>\n",
       "    </tr>\n",
       "    <tr>\n",
       "      <th>1</th>\n",
       "      <td>2017-04-02 0:05</td>\n",
       "      <td>45</td>\n",
       "      <td>32</td>\n",
       "      <td>13</td>\n",
       "      <td>0</td>\n",
       "      <td>58.9</td>\n",
       "      <td>1.84</td>\n",
       "      <td>Normal</td>\n",
       "    </tr>\n",
       "    <tr>\n",
       "      <th>2</th>\n",
       "      <td>2017-04-02 0:10</td>\n",
       "      <td>46</td>\n",
       "      <td>34</td>\n",
       "      <td>12</td>\n",
       "      <td>0</td>\n",
       "      <td>50.6</td>\n",
       "      <td>1.87</td>\n",
       "      <td>Normal</td>\n",
       "    </tr>\n",
       "    <tr>\n",
       "      <th>3</th>\n",
       "      <td>2017-04-02 0:15</td>\n",
       "      <td>45</td>\n",
       "      <td>36</td>\n",
       "      <td>9</td>\n",
       "      <td>0</td>\n",
       "      <td>50.9</td>\n",
       "      <td>1.72</td>\n",
       "      <td>Normal</td>\n",
       "    </tr>\n",
       "    <tr>\n",
       "      <th>4</th>\n",
       "      <td>2017-04-02 0:20</td>\n",
       "      <td>27</td>\n",
       "      <td>13</td>\n",
       "      <td>13</td>\n",
       "      <td>1</td>\n",
       "      <td>62.2</td>\n",
       "      <td>1.12</td>\n",
       "      <td>Normal</td>\n",
       "    </tr>\n",
       "  </tbody>\n",
       "</table>\n",
       "</div>"
      ],
      "text/plain": [
       "              Date  ToVol  SmVol  MeVol  LaVol  Speed  Occ.Rate label_speed\n",
       "0  2017-04-02 0:00     43     34      9      0   50.3      1.90      Normal\n",
       "1  2017-04-02 0:05     45     32     13      0   58.9      1.84      Normal\n",
       "2  2017-04-02 0:10     46     34     12      0   50.6      1.87      Normal\n",
       "3  2017-04-02 0:15     45     36      9      0   50.9      1.72      Normal\n",
       "4  2017-04-02 0:20     27     13     13      1   62.2      1.12      Normal"
      ]
     },
     "execution_count": 7,
     "metadata": {},
     "output_type": "execute_result"
    }
   ],
   "source": [
    "df[\"label_speed\"] = df[\"Speed\"].apply(lambda v: get_score(v))\n",
    "df.head(5)"
   ]
  },
  {
   "cell_type": "markdown",
   "metadata": {
    "id": "Td2I4AR4M0-F"
   },
   "source": [
    "### 라벨을 위해 'label'의 텍스트는 범주형 혹은 숫자로 인코딩 해야한다"
   ]
  },
  {
   "cell_type": "markdown",
   "metadata": {
    "id": "sxOfxQUvM0-G"
   },
   "source": [
    "## 3. 데이터 가시화 "
   ]
  },
  {
   "cell_type": "code",
   "execution_count": 8,
   "metadata": {
    "id": "LaS3I1XfM0-G"
   },
   "outputs": [],
   "source": [
    "import matplotlib.pyplot as plt"
   ]
  },
  {
   "cell_type": "markdown",
   "metadata": {
    "id": "aAXcROI3M0-J"
   },
   "source": [
    "## 4 머신러닝을 위한 입력 데이터 만들자\n",
    "- 우선 무슨 문제를 풀어야 하는가?\n",
    "- 지도학습이며 라벨이 있고, 제일 먼저 해보는 것은 분류를 해보자\n",
    "- 즉, 교통 속도 라벨을 이용하여 해당 도로의 교통 흐름을 분류해보고 정확도를 논의하자"
   ]
  },
  {
   "cell_type": "markdown",
   "metadata": {
    "id": "Y-VhK-wRM0-J"
   },
   "source": [
    "### 1) 입력 X와 출력 y의 값을 정하기"
   ]
  },
  {
   "cell_type": "code",
   "execution_count": 9,
   "metadata": {
    "colab": {
     "base_uri": "https://localhost:8080/"
    },
    "execution": {
     "iopub.execute_input": "2020-11-04T17:04:31.233488Z",
     "iopub.status.busy": "2020-11-04T17:04:31.232181Z",
     "iopub.status.idle": "2020-11-04T17:04:31.235325Z",
     "shell.execute_reply": "2020-11-04T17:04:31.232878Z"
    },
    "id": "pGvLbBh9M0-J",
    "outputId": "fda76ee3-5a9d-49eb-9136-db49863b89bb",
    "papermill": {
     "duration": 0.048394,
     "end_time": "2020-11-04T17:04:31.235443",
     "exception": false,
     "start_time": "2020-11-04T17:04:31.187049",
     "status": "completed"
    },
    "tags": []
   },
   "outputs": [
    {
     "data": {
      "text/plain": [
       "array(['Normal', 'Slow', 'Jam'], dtype=object)"
      ]
     },
     "execution_count": 9,
     "metadata": {},
     "output_type": "execute_result"
    }
   ],
   "source": [
    "df['label_speed'].unique()"
   ]
  },
  {
   "cell_type": "markdown",
   "metadata": {},
   "source": [
    "- 머신러닝에서 특징(Feature)에 대하여, 그리고 라벨에 대하여 다시한번 복습합시다 "
   ]
  },
  {
   "cell_type": "code",
   "execution_count": 10,
   "metadata": {
    "execution": {
     "iopub.execute_input": "2020-11-04T17:04:31.233488Z",
     "iopub.status.busy": "2020-11-04T17:04:31.232181Z",
     "iopub.status.idle": "2020-11-04T17:04:31.235325Z",
     "shell.execute_reply": "2020-11-04T17:04:31.232878Z"
    },
    "id": "jODGCJY5M0-J",
    "papermill": {
     "duration": 0.048394,
     "end_time": "2020-11-04T17:04:31.235443",
     "exception": false,
     "start_time": "2020-11-04T17:04:31.187049",
     "status": "completed"
    },
    "tags": []
   },
   "outputs": [],
   "source": [
    "#feature_cols = ['ToVol', 'SmVol', 'Speed', 'Occ.Rate']\n",
    "#feature_cols = ['ToVol', 'SmVol', 'LaVol', 'MeVol']\n",
    "feature_cols = ['ToVol','Occ.Rate']\n",
    "target_col = 'label_speed'\n",
    "X = df[feature_cols]\n",
    "y = df[target_col]"
   ]
  },
  {
   "cell_type": "markdown",
   "metadata": {
    "id": "3FKoWfUWM0-K",
    "papermill": {
     "duration": 0.032638,
     "end_time": "2020-11-04T17:04:33.305151",
     "exception": false,
     "start_time": "2020-11-04T17:04:33.272513",
     "status": "completed"
    },
    "tags": []
   },
   "source": [
    "### 2) 출력용 라벨을 머신러닝 \n",
    "- 텍스트를 숫자로 바꾸자\n",
    "- One-Hot Encoding\n",
    "- 자연어 처리에는 Embedding을 사용함. \n",
    "- Word2Vec "
   ]
  },
  {
   "cell_type": "code",
   "execution_count": 11,
   "metadata": {
    "execution": {
     "iopub.execute_input": "2020-11-04T17:04:33.381959Z",
     "iopub.status.busy": "2020-11-04T17:04:33.381045Z",
     "iopub.status.idle": "2020-11-04T17:04:33.385463Z",
     "shell.execute_reply": "2020-11-04T17:04:33.384834Z"
    },
    "id": "ztjlMHzEM0-K",
    "papermill": {
     "duration": 0.046987,
     "end_time": "2020-11-04T17:04:33.385580",
     "exception": false,
     "start_time": "2020-11-04T17:04:33.338593",
     "status": "completed"
    },
    "tags": []
   },
   "outputs": [],
   "source": [
    "class_dic = {'Jam':0, 'Slow':1, 'Normal':2}\n",
    "y_ohc = y.apply(lambda z: class_dic[z])"
   ]
  },
  {
   "cell_type": "code",
   "execution_count": 12,
   "metadata": {
    "colab": {
     "base_uri": "https://localhost:8080/"
    },
    "execution": {
     "iopub.execute_input": "2020-11-04T17:04:33.381959Z",
     "iopub.status.busy": "2020-11-04T17:04:33.381045Z",
     "iopub.status.idle": "2020-11-04T17:04:33.385463Z",
     "shell.execute_reply": "2020-11-04T17:04:33.384834Z"
    },
    "id": "zJH95lDzM0-L",
    "outputId": "f2926907-6d61-4ef7-daec-f7f8476792c0",
    "papermill": {
     "duration": 0.046987,
     "end_time": "2020-11-04T17:04:33.385580",
     "exception": false,
     "start_time": "2020-11-04T17:04:33.338593",
     "status": "completed"
    },
    "tags": []
   },
   "outputs": [
    {
     "data": {
      "text/plain": [
       "0    2\n",
       "1    2\n",
       "2    2\n",
       "3    2\n",
       "4    2\n",
       "Name: label_speed, dtype: int64"
      ]
     },
     "execution_count": 12,
     "metadata": {},
     "output_type": "execute_result"
    }
   ],
   "source": [
    "y_ohc.head()"
   ]
  },
  {
   "cell_type": "markdown",
   "metadata": {
    "id": "8GwFxVXkM0-L"
   },
   "source": [
    "### 3) 데이터를 훈련과 테스트로 나누자 \n",
    "- (실전) 데이터를 validation을 포함해서 나눌수 있다.\n",
    "- (해보기) 전체 데이터를 train : validation : test = 0.6: 0.2: 0.2 로 나누어라"
   ]
  },
  {
   "cell_type": "code",
   "execution_count": 13,
   "metadata": {
    "id": "6gvGzzM3M0-L"
   },
   "outputs": [],
   "source": [
    "from sklearn.model_selection import train_test_split\n",
    "\n",
    "#from sklearn.model_selection import learning_curve, train_test_split, KFold,  ShuffleSplit\n",
    "\n",
    "X_train, X_test, y_train, y_test = train_test_split(X, y_ohc, test_size=0.20, random_state=30)"
   ]
  },
  {
   "cell_type": "code",
   "execution_count": 14,
   "metadata": {
    "colab": {
     "base_uri": "https://localhost:8080/"
    },
    "id": "8uKEdHULM0-L",
    "outputId": "04400871-e269-4cdc-f9a1-f8eac446799c"
   },
   "outputs": [
    {
     "name": "stdout",
     "output_type": "stream",
     "text": [
      "(6451, 2) (6451,)\n",
      "(1613, 2) (1613,)\n"
     ]
    }
   ],
   "source": [
    "print(X_train.shape, y_train.shape)\n",
    "print(X_test.shape,  y_test.shape)"
   ]
  },
  {
   "cell_type": "markdown",
   "metadata": {},
   "source": [
    "- 머신러닝에서는 훈련과정에서 입력 특징 데이터를 표준화, 정규화를 한다.\n",
    "- 왜?"
   ]
  },
  {
   "cell_type": "code",
   "execution_count": 15,
   "metadata": {
    "id": "xIxqnYdhM0-L"
   },
   "outputs": [],
   "source": [
    "from sklearn.preprocessing import StandardScaler\n",
    "scaler = StandardScaler()\n",
    "\n",
    "X_train = scaler.fit_transform(X_train)\n",
    "X_test = scaler.transform(X_test)"
   ]
  },
  {
   "cell_type": "markdown",
   "metadata": {
    "id": "kY2smZwEM0-M"
   },
   "source": [
    "# 5. 머신러닝 모델을 만들자"
   ]
  },
  {
   "cell_type": "code",
   "execution_count": 16,
   "metadata": {},
   "outputs": [],
   "source": [
    "import numpy as np\n",
    "def plot_ml_curve(estimator, title, X, y, ylim=None, cv=None,\n",
    "                        n_jobs=None, train_sizes=np.linspace(.1, 1.0, 20)):   \n",
    "    plt.figure()\n",
    "    plt.title(title)\n",
    "    plt.xlabel(\"Training examples\")\n",
    "    plt.ylabel(\"Score\")\n",
    "    \n",
    "    train_sizes, train_scores, test_scores = learning_curve(\n",
    "        estimator, X, y, cv=cv, n_jobs=n_jobs, train_sizes=train_sizes)\n",
    "    \n",
    "    train_mean = np.mean(train_scores, axis=1)\n",
    "    train_std = np.std(train_scores, axis=1)\n",
    "    test_mean = np.mean(test_scores, axis=1)\n",
    "    test_std = np.std(test_scores, axis=1)\n",
    "    plt.grid()\n",
    "\n",
    "    plt.fill_between(train_sizes, train_mean - train_std,\n",
    "                     train_mean + train_std, alpha=0.1, color=\"r\")\n",
    "    plt.fill_between(train_sizes, test_mean - test_std,\n",
    "                     test_mean + test_std, alpha=0.1, color=\"g\")\n",
    "    plt.plot(train_sizes, train_mean, 'o-', color=\"r\", label=\"Training score\")\n",
    "    plt.plot(train_sizes, test_mean, 'o-', color=\"g\", label=\"Cross-validation score\")\n",
    "\n",
    "    plt.legend(loc='lower right')\n",
    "    return plt"
   ]
  },
  {
   "cell_type": "code",
   "execution_count": 17,
   "metadata": {},
   "outputs": [],
   "source": [
    "from sklearn import metrics   \n",
    "from sklearn.metrics import plot_roc_curve\n",
    "from sklearn.model_selection import ShuffleSplit, learning_curve"
   ]
  },
  {
   "cell_type": "markdown",
   "metadata": {
    "id": "zRufAYCfM0-P",
    "papermill": {
     "duration": 0.035138,
     "end_time": "2020-11-04T17:04:34.002922",
     "exception": false,
     "start_time": "2020-11-04T17:04:33.967784",
     "status": "completed"
    },
    "tags": []
   },
   "source": [
    "### 5 램덤포레스트 (RandomForestClassifier)"
   ]
  },
  {
   "cell_type": "code",
   "execution_count": 18,
   "metadata": {},
   "outputs": [],
   "source": [
    "from sklearn.ensemble import RandomForestClassifier"
   ]
  },
  {
   "cell_type": "markdown",
   "metadata": {},
   "source": [
    "- class sklearn.ensemble.RandomForestClassifier(n_estimators=100, *, criterion='gini', max_depth=None, min_samples_split=2, min_samples_leaf=1, min_weight_fraction_leaf=0.0, max_features='sqrt', max_leaf_nodes=None, min_impurity_decrease=0.0, bootstrap=True, oob_score=False, n_jobs=None, random_state=None, verbose=0, warm_start=False, class_weight=None, ccp_alpha=0.0, max_samples=None)\n",
    "- n_estimators=100 (디폴트): The number of trees in the forest."
   ]
  },
  {
   "cell_type": "code",
   "execution_count": 19,
   "metadata": {
    "execution": {
     "iopub.execute_input": "2020-11-04T17:04:34.092688Z",
     "iopub.status.busy": "2020-11-04T17:04:34.091790Z",
     "iopub.status.idle": "2020-11-04T17:04:34.114636Z",
     "shell.execute_reply": "2020-11-04T17:04:34.114034Z"
    },
    "id": "6pYKWCh8M0-Q",
    "papermill": {
     "duration": 0.076342,
     "end_time": "2020-11-04T17:04:34.114764",
     "exception": false,
     "start_time": "2020-11-04T17:04:34.038422",
     "status": "completed"
    },
    "tags": []
   },
   "outputs": [],
   "source": [
    "m_rf = RandomForestClassifier(n_estimators=100, max_depth = 3)"
   ]
  },
  {
   "cell_type": "code",
   "execution_count": 20,
   "metadata": {
    "colab": {
     "base_uri": "https://localhost:8080/"
    },
    "execution": {
     "iopub.execute_input": "2020-11-04T17:04:34.092688Z",
     "iopub.status.busy": "2020-11-04T17:04:34.091790Z",
     "iopub.status.idle": "2020-11-04T17:04:34.114636Z",
     "shell.execute_reply": "2020-11-04T17:04:34.114034Z"
    },
    "id": "QH5nl1PzM0-Q",
    "outputId": "a6320d6c-36a7-47e5-f042-5ceab54e3f28",
    "papermill": {
     "duration": 0.076342,
     "end_time": "2020-11-04T17:04:34.114764",
     "exception": false,
     "start_time": "2020-11-04T17:04:34.038422",
     "status": "completed"
    },
    "tags": []
   },
   "outputs": [
    {
     "data": {
      "text/html": [
       "<style>#sk-container-id-1 {color: black;background-color: white;}#sk-container-id-1 pre{padding: 0;}#sk-container-id-1 div.sk-toggleable {background-color: white;}#sk-container-id-1 label.sk-toggleable__label {cursor: pointer;display: block;width: 100%;margin-bottom: 0;padding: 0.3em;box-sizing: border-box;text-align: center;}#sk-container-id-1 label.sk-toggleable__label-arrow:before {content: \"▸\";float: left;margin-right: 0.25em;color: #696969;}#sk-container-id-1 label.sk-toggleable__label-arrow:hover:before {color: black;}#sk-container-id-1 div.sk-estimator:hover label.sk-toggleable__label-arrow:before {color: black;}#sk-container-id-1 div.sk-toggleable__content {max-height: 0;max-width: 0;overflow: hidden;text-align: left;background-color: #f0f8ff;}#sk-container-id-1 div.sk-toggleable__content pre {margin: 0.2em;color: black;border-radius: 0.25em;background-color: #f0f8ff;}#sk-container-id-1 input.sk-toggleable__control:checked~div.sk-toggleable__content {max-height: 200px;max-width: 100%;overflow: auto;}#sk-container-id-1 input.sk-toggleable__control:checked~label.sk-toggleable__label-arrow:before {content: \"▾\";}#sk-container-id-1 div.sk-estimator input.sk-toggleable__control:checked~label.sk-toggleable__label {background-color: #d4ebff;}#sk-container-id-1 div.sk-label input.sk-toggleable__control:checked~label.sk-toggleable__label {background-color: #d4ebff;}#sk-container-id-1 input.sk-hidden--visually {border: 0;clip: rect(1px 1px 1px 1px);clip: rect(1px, 1px, 1px, 1px);height: 1px;margin: -1px;overflow: hidden;padding: 0;position: absolute;width: 1px;}#sk-container-id-1 div.sk-estimator {font-family: monospace;background-color: #f0f8ff;border: 1px dotted black;border-radius: 0.25em;box-sizing: border-box;margin-bottom: 0.5em;}#sk-container-id-1 div.sk-estimator:hover {background-color: #d4ebff;}#sk-container-id-1 div.sk-parallel-item::after {content: \"\";width: 100%;border-bottom: 1px solid gray;flex-grow: 1;}#sk-container-id-1 div.sk-label:hover label.sk-toggleable__label {background-color: #d4ebff;}#sk-container-id-1 div.sk-serial::before {content: \"\";position: absolute;border-left: 1px solid gray;box-sizing: border-box;top: 0;bottom: 0;left: 50%;z-index: 0;}#sk-container-id-1 div.sk-serial {display: flex;flex-direction: column;align-items: center;background-color: white;padding-right: 0.2em;padding-left: 0.2em;position: relative;}#sk-container-id-1 div.sk-item {position: relative;z-index: 1;}#sk-container-id-1 div.sk-parallel {display: flex;align-items: stretch;justify-content: center;background-color: white;position: relative;}#sk-container-id-1 div.sk-item::before, #sk-container-id-1 div.sk-parallel-item::before {content: \"\";position: absolute;border-left: 1px solid gray;box-sizing: border-box;top: 0;bottom: 0;left: 50%;z-index: -1;}#sk-container-id-1 div.sk-parallel-item {display: flex;flex-direction: column;z-index: 1;position: relative;background-color: white;}#sk-container-id-1 div.sk-parallel-item:first-child::after {align-self: flex-end;width: 50%;}#sk-container-id-1 div.sk-parallel-item:last-child::after {align-self: flex-start;width: 50%;}#sk-container-id-1 div.sk-parallel-item:only-child::after {width: 0;}#sk-container-id-1 div.sk-dashed-wrapped {border: 1px dashed gray;margin: 0 0.4em 0.5em 0.4em;box-sizing: border-box;padding-bottom: 0.4em;background-color: white;}#sk-container-id-1 div.sk-label label {font-family: monospace;font-weight: bold;display: inline-block;line-height: 1.2em;}#sk-container-id-1 div.sk-label-container {text-align: center;}#sk-container-id-1 div.sk-container {/* jupyter's `normalize.less` sets `[hidden] { display: none; }` but bootstrap.min.css set `[hidden] { display: none !important; }` so we also need the `!important` here to be able to override the default hidden behavior on the sphinx rendered scikit-learn.org. See: https://github.com/scikit-learn/scikit-learn/issues/21755 */display: inline-block !important;position: relative;}#sk-container-id-1 div.sk-text-repr-fallback {display: none;}</style><div id=\"sk-container-id-1\" class=\"sk-top-container\"><div class=\"sk-text-repr-fallback\"><pre>RandomForestClassifier(max_depth=3)</pre><b>In a Jupyter environment, please rerun this cell to show the HTML representation or trust the notebook. <br />On GitHub, the HTML representation is unable to render, please try loading this page with nbviewer.org.</b></div><div class=\"sk-container\" hidden><div class=\"sk-item\"><div class=\"sk-estimator sk-toggleable\"><input class=\"sk-toggleable__control sk-hidden--visually\" id=\"sk-estimator-id-1\" type=\"checkbox\" checked><label for=\"sk-estimator-id-1\" class=\"sk-toggleable__label sk-toggleable__label-arrow\">RandomForestClassifier</label><div class=\"sk-toggleable__content\"><pre>RandomForestClassifier(max_depth=3)</pre></div></div></div></div></div>"
      ],
      "text/plain": [
       "RandomForestClassifier(max_depth=3)"
      ]
     },
     "execution_count": 20,
     "metadata": {},
     "output_type": "execute_result"
    }
   ],
   "source": [
    "m_rf.fit(X_train, y_train)"
   ]
  },
  {
   "cell_type": "code",
   "execution_count": 21,
   "metadata": {
    "execution": {
     "iopub.execute_input": "2020-11-04T17:04:34.196250Z",
     "iopub.status.busy": "2020-11-04T17:04:34.195190Z",
     "iopub.status.idle": "2020-11-04T17:04:34.198547Z",
     "shell.execute_reply": "2020-11-04T17:04:34.197951Z"
    },
    "id": "-upEr1uUM0-Q",
    "papermill": {
     "duration": 0.048025,
     "end_time": "2020-11-04T17:04:34.198669",
     "exception": false,
     "start_time": "2020-11-04T17:04:34.150644",
     "status": "completed"
    },
    "tags": []
   },
   "outputs": [],
   "source": [
    "pred = m_rf.predict(X_test)"
   ]
  },
  {
   "cell_type": "code",
   "execution_count": 22,
   "metadata": {
    "colab": {
     "base_uri": "https://localhost:8080/"
    },
    "execution": {
     "iopub.execute_input": "2020-11-04T17:04:34.275059Z",
     "iopub.status.busy": "2020-11-04T17:04:34.274009Z",
     "iopub.status.idle": "2020-11-04T17:04:34.277307Z",
     "shell.execute_reply": "2020-11-04T17:04:34.276707Z"
    },
    "id": "aF9gtfz1M0-Q",
    "outputId": "29ce260e-a397-42ab-a7af-6b6a271ef7bb",
    "papermill": {
     "duration": 0.042884,
     "end_time": "2020-11-04T17:04:34.277424",
     "exception": false,
     "start_time": "2020-11-04T17:04:34.234540",
     "status": "completed"
    },
    "tags": []
   },
   "outputs": [
    {
     "name": "stdout",
     "output_type": "stream",
     "text": [
      "The accuracy of the RFC is: 0.9597024178549287\n"
     ]
    }
   ],
   "source": [
    "acc_rf = metrics.accuracy_score(pred,y_test)\n",
    "print('The accuracy of the RFC is:', acc_rf)"
   ]
  },
  {
   "cell_type": "code",
   "execution_count": 23,
   "metadata": {
    "colab": {
     "base_uri": "https://localhost:8080/",
     "height": 489
    },
    "id": "0_Iqjvu8M0-Q",
    "outputId": "a156de70-ae5c-49b0-ba35-19950ce17fde"
   },
   "outputs": [
    {
     "data": {
      "text/plain": [
       "<module 'matplotlib.pyplot' from 'C:\\\\Users\\\\admin\\\\Anaconda3\\\\envs\\\\tf-gpu\\\\lib\\\\site-packages\\\\matplotlib\\\\pyplot.py'>"
      ]
     },
     "execution_count": 23,
     "metadata": {},
     "output_type": "execute_result"
    },
    {
     "data": {
      "image/png": "[encoded data removed]",
      "text/plain": [
       "<Figure size 432x288 with 1 Axes>"
      ]
     },
     "metadata": {
      "needs_background": "light"
     },
     "output_type": "display_data"
    }
   ],
   "source": [
    "title = \"Random Forest Classifier\"\n",
    "cv = ShuffleSplit(n_splits=4, test_size=0.2, random_state=0)\n",
    "plot_ml_curve(m_rf, title, X_train, y_train, ylim=(0.6, 1.01), cv=cv)"
   ]
  }
 ],
 "metadata": {
  "accelerator": "GPU",
  "colab": {
   "collapsed_sections": [
    "hAi2SkaJM0-M"
   ],
   "name": "day1-05-VDS-ML.ipynb",
   "provenance": []
  },
  "kernelspec": {
   "display_name": "tf-gpu",
   "language": "python",
   "name": "tf-gpu"
  },
  "language_info": {
   "codemirror_mode": {
    "name": "ipython",
    "version": 3
   },
   "file_extension": ".py",
   "mimetype": "text/x-python",
   "name": "python",
   "nbconvert_exporter": "python",
   "pygments_lexer": "ipython3",
   "version": "3.8.13"
  },
  "papermill": {
   "duration": 31.125685,
   "end_time": "2020-11-04T17:04:50.944017",
   "environment_variables": {},
   "exception": null,
   "input_path": "__notebook__.ipynb",
   "output_path": "__notebook__.ipynb",
   "parameters": {},
   "start_time": "2020-11-04T17:04:19.818332",
   "version": "2.1.0"
  }
 },
 "nbformat": 4,
 "nbformat_minor": 1
}
