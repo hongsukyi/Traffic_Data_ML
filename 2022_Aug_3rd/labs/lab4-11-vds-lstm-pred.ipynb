{
 "cells": [
  {
   "cell_type": "markdown",
   "metadata": {},
   "source": [
    "# LSTM을 이용한 교통 흐름 예측"
   ]
  },
  {
   "attachments": {
    "image.png": {
     "image/png": "[encoded data removed]"
    }
   },
   "cell_type": "markdown",
   "metadata": {},
   "source": [
    "![image.png](attachment:image.png)"
   ]
  },
  {
   "cell_type": "markdown",
   "metadata": {},
   "source": [
    "# VDS 데이터를 이용한 교통 흐름 예측 모델 단계 "
   ]
  },
  {
   "cell_type": "markdown",
   "metadata": {},
   "source": [
    "- Data Preprocessing\n",
    "- Building the RNN\n",
    "- Making the prediction and visualization"
   ]
  },
  {
   "cell_type": "code",
   "execution_count": 3,
   "metadata": {},
   "outputs": [],
   "source": [
    "import numpy as np\n",
    "import matplotlib.pyplot as plt\n",
    "import pandas as pd\n"
   ]
  },
  {
   "cell_type": "code",
   "execution_count": 4,
   "metadata": {},
   "outputs": [
    {
     "name": "stderr",
     "output_type": "stream",
     "text": [
      "C:\\Python37\\lib\\site-packages\\ipykernel_launcher.py:1: FutureWarning: The pandas.datetime class is deprecated and will be removed from pandas in a future version. Import from datetime module instead.\n",
      "  \"\"\"Entry point for launching an IPython kernel.\n"
     ]
    }
   ],
   "source": [
    "from pandas import datetime\n",
    "def parser(x):\n",
    "    return datetime.strptime(x, '%Y-%m-%d %H:%M')"
   ]
  },
  {
   "cell_type": "code",
   "execution_count": 5,
   "metadata": {},
   "outputs": [],
   "source": [
    "df = pd.read_csv('./daejeon_vds16.csv',  date_parser=parser)"
   ]
  },
  {
   "cell_type": "code",
   "execution_count": 6,
   "metadata": {},
   "outputs": [
    {
     "data": {
      "text/html": [
       "<div>\n",
       "<style scoped>\n",
       "    .dataframe tbody tr th:only-of-type {\n",
       "        vertical-align: middle;\n",
       "    }\n",
       "\n",
       "    .dataframe tbody tr th {\n",
       "        vertical-align: top;\n",
       "    }\n",
       "\n",
       "    .dataframe thead th {\n",
       "        text-align: right;\n",
       "    }\n",
       "</style>\n",
       "<table border=\"1\" class=\"dataframe\">\n",
       "  <thead>\n",
       "    <tr style=\"text-align: right;\">\n",
       "      <th></th>\n",
       "      <th>Date</th>\n",
       "      <th>ToVol</th>\n",
       "      <th>SmVol</th>\n",
       "      <th>MeVol</th>\n",
       "      <th>LaVol</th>\n",
       "      <th>Speed</th>\n",
       "      <th>Occ.Rate</th>\n",
       "    </tr>\n",
       "  </thead>\n",
       "  <tbody>\n",
       "    <tr>\n",
       "      <th>0</th>\n",
       "      <td>2017-04-02 0:00</td>\n",
       "      <td>43</td>\n",
       "      <td>34</td>\n",
       "      <td>9</td>\n",
       "      <td>0</td>\n",
       "      <td>50.3</td>\n",
       "      <td>1.90</td>\n",
       "    </tr>\n",
       "    <tr>\n",
       "      <th>1</th>\n",
       "      <td>2017-04-02 0:05</td>\n",
       "      <td>45</td>\n",
       "      <td>32</td>\n",
       "      <td>13</td>\n",
       "      <td>0</td>\n",
       "      <td>58.9</td>\n",
       "      <td>1.84</td>\n",
       "    </tr>\n",
       "    <tr>\n",
       "      <th>2</th>\n",
       "      <td>2017-04-02 0:10</td>\n",
       "      <td>46</td>\n",
       "      <td>34</td>\n",
       "      <td>12</td>\n",
       "      <td>0</td>\n",
       "      <td>50.6</td>\n",
       "      <td>1.87</td>\n",
       "    </tr>\n",
       "    <tr>\n",
       "      <th>3</th>\n",
       "      <td>2017-04-02 0:15</td>\n",
       "      <td>45</td>\n",
       "      <td>36</td>\n",
       "      <td>9</td>\n",
       "      <td>0</td>\n",
       "      <td>50.9</td>\n",
       "      <td>1.72</td>\n",
       "    </tr>\n",
       "    <tr>\n",
       "      <th>4</th>\n",
       "      <td>2017-04-02 0:20</td>\n",
       "      <td>27</td>\n",
       "      <td>13</td>\n",
       "      <td>13</td>\n",
       "      <td>1</td>\n",
       "      <td>62.2</td>\n",
       "      <td>1.12</td>\n",
       "    </tr>\n",
       "  </tbody>\n",
       "</table>\n",
       "</div>"
      ],
      "text/plain": [
       "              Date  ToVol  SmVol  MeVol  LaVol  Speed  Occ.Rate\n",
       "0  2017-04-02 0:00     43     34      9      0   50.3      1.90\n",
       "1  2017-04-02 0:05     45     32     13      0   58.9      1.84\n",
       "2  2017-04-02 0:10     46     34     12      0   50.6      1.87\n",
       "3  2017-04-02 0:15     45     36      9      0   50.9      1.72\n",
       "4  2017-04-02 0:20     27     13     13      1   62.2      1.12"
      ]
     },
     "execution_count": 6,
     "metadata": {},
     "output_type": "execute_result"
    }
   ],
   "source": [
    "df.head()"
   ]
  },
  {
   "cell_type": "code",
   "execution_count": 7,
   "metadata": {},
   "outputs": [
    {
     "data": {
      "text/plain": [
       "(8064, 7)"
      ]
     },
     "execution_count": 7,
     "metadata": {},
     "output_type": "execute_result"
    }
   ],
   "source": [
    "df.shape"
   ]
  },
  {
   "cell_type": "code",
   "execution_count": 8,
   "metadata": {
    "scrolled": true
   },
   "outputs": [
    {
     "data": {
      "text/html": [
       "<div>\n",
       "<style scoped>\n",
       "    .dataframe tbody tr th:only-of-type {\n",
       "        vertical-align: middle;\n",
       "    }\n",
       "\n",
       "    .dataframe tbody tr th {\n",
       "        vertical-align: top;\n",
       "    }\n",
       "\n",
       "    .dataframe thead th {\n",
       "        text-align: right;\n",
       "    }\n",
       "</style>\n",
       "<table border=\"1\" class=\"dataframe\">\n",
       "  <thead>\n",
       "    <tr style=\"text-align: right;\">\n",
       "      <th></th>\n",
       "      <th>Date</th>\n",
       "      <th>ToVol</th>\n",
       "      <th>SmVol</th>\n",
       "      <th>MeVol</th>\n",
       "      <th>LaVol</th>\n",
       "      <th>Speed</th>\n",
       "      <th>Occ.Rate</th>\n",
       "    </tr>\n",
       "  </thead>\n",
       "  <tbody>\n",
       "    <tr>\n",
       "      <th>8059</th>\n",
       "      <td>2017-04-29 23:35</td>\n",
       "      <td>45</td>\n",
       "      <td>35</td>\n",
       "      <td>10</td>\n",
       "      <td>0</td>\n",
       "      <td>51.3</td>\n",
       "      <td>2.01</td>\n",
       "    </tr>\n",
       "    <tr>\n",
       "      <th>8060</th>\n",
       "      <td>2017-04-29 23:40</td>\n",
       "      <td>47</td>\n",
       "      <td>33</td>\n",
       "      <td>14</td>\n",
       "      <td>0</td>\n",
       "      <td>53.9</td>\n",
       "      <td>1.89</td>\n",
       "    </tr>\n",
       "    <tr>\n",
       "      <th>8061</th>\n",
       "      <td>2017-04-29 23:45</td>\n",
       "      <td>32</td>\n",
       "      <td>28</td>\n",
       "      <td>4</td>\n",
       "      <td>0</td>\n",
       "      <td>50.6</td>\n",
       "      <td>1.36</td>\n",
       "    </tr>\n",
       "    <tr>\n",
       "      <th>8062</th>\n",
       "      <td>2017-04-29 23:50</td>\n",
       "      <td>31</td>\n",
       "      <td>21</td>\n",
       "      <td>10</td>\n",
       "      <td>0</td>\n",
       "      <td>59.3</td>\n",
       "      <td>1.40</td>\n",
       "    </tr>\n",
       "    <tr>\n",
       "      <th>8063</th>\n",
       "      <td>2017-04-29 23:55</td>\n",
       "      <td>39</td>\n",
       "      <td>33</td>\n",
       "      <td>6</td>\n",
       "      <td>0</td>\n",
       "      <td>52.5</td>\n",
       "      <td>1.74</td>\n",
       "    </tr>\n",
       "  </tbody>\n",
       "</table>\n",
       "</div>"
      ],
      "text/plain": [
       "                  Date  ToVol  SmVol  MeVol  LaVol  Speed  Occ.Rate\n",
       "8059  2017-04-29 23:35     45     35     10      0   51.3      2.01\n",
       "8060  2017-04-29 23:40     47     33     14      0   53.9      1.89\n",
       "8061  2017-04-29 23:45     32     28      4      0   50.6      1.36\n",
       "8062  2017-04-29 23:50     31     21     10      0   59.3      1.40\n",
       "8063  2017-04-29 23:55     39     33      6      0   52.5      1.74"
      ]
     },
     "execution_count": 8,
     "metadata": {},
     "output_type": "execute_result"
    }
   ],
   "source": [
    "df.tail()"
   ]
  },
  {
   "cell_type": "markdown",
   "metadata": {},
   "source": [
    "## 정규화를 위하여 'Data' 특성을 제외하자"
   ]
  },
  {
   "cell_type": "code",
   "execution_count": 44,
   "metadata": {},
   "outputs": [],
   "source": [
    "train = df[df['Date'] <'2017-04-28'].copy() \n",
    "test = df[df['Date'] >='2017-04-28'].copy()"
   ]
  },
  {
   "cell_type": "markdown",
   "metadata": {},
   "source": [
    "### Traffic Volume "
   ]
  },
  {
   "cell_type": "code",
   "execution_count": 46,
   "metadata": {},
   "outputs": [],
   "source": [
    "train_vol = train.drop(['Date','Speed','SmVol','MeVol','LaVol','Occ.Rate'], axis = 1)\n",
    "test_vol  = test.drop(['Date','Speed','SmVol','MeVol','LaVol','Occ.Rate'], axis = 1)"
   ]
  },
  {
   "cell_type": "code",
   "execution_count": 47,
   "metadata": {},
   "outputs": [
    {
     "data": {
      "text/html": [
       "<div>\n",
       "<style scoped>\n",
       "    .dataframe tbody tr th:only-of-type {\n",
       "        vertical-align: middle;\n",
       "    }\n",
       "\n",
       "    .dataframe tbody tr th {\n",
       "        vertical-align: top;\n",
       "    }\n",
       "\n",
       "    .dataframe thead th {\n",
       "        text-align: right;\n",
       "    }\n",
       "</style>\n",
       "<table border=\"1\" class=\"dataframe\">\n",
       "  <thead>\n",
       "    <tr style=\"text-align: right;\">\n",
       "      <th></th>\n",
       "      <th>ToVol</th>\n",
       "    </tr>\n",
       "  </thead>\n",
       "  <tbody>\n",
       "    <tr>\n",
       "      <th>0</th>\n",
       "      <td>43</td>\n",
       "    </tr>\n",
       "    <tr>\n",
       "      <th>1</th>\n",
       "      <td>45</td>\n",
       "    </tr>\n",
       "    <tr>\n",
       "      <th>2</th>\n",
       "      <td>46</td>\n",
       "    </tr>\n",
       "    <tr>\n",
       "      <th>3</th>\n",
       "      <td>45</td>\n",
       "    </tr>\n",
       "    <tr>\n",
       "      <th>4</th>\n",
       "      <td>27</td>\n",
       "    </tr>\n",
       "  </tbody>\n",
       "</table>\n",
       "</div>"
      ],
      "text/plain": [
       "   ToVol\n",
       "0     43\n",
       "1     45\n",
       "2     46\n",
       "3     45\n",
       "4     27"
      ]
     },
     "execution_count": 47,
     "metadata": {},
     "output_type": "execute_result"
    }
   ],
   "source": [
    "train_vol.head()"
   ]
  },
  {
   "cell_type": "markdown",
   "metadata": {},
   "source": [
    "## 정규화 "
   ]
  },
  {
   "cell_type": "code",
   "execution_count": 48,
   "metadata": {},
   "outputs": [],
   "source": [
    "from sklearn.preprocessing import StandardScaler\n",
    "scaler = StandardScaler()"
   ]
  },
  {
   "cell_type": "code",
   "execution_count": 54,
   "metadata": {},
   "outputs": [],
   "source": [
    "data_training = scaler.fit_transform(train_vol)\n",
    "data_test = scaler.fit_transform(test_vol)"
   ]
  },
  {
   "cell_type": "code",
   "execution_count": 55,
   "metadata": {},
   "outputs": [
    {
     "data": {
      "text/plain": [
       "(7488, 1)"
      ]
     },
     "execution_count": 55,
     "metadata": {},
     "output_type": "execute_result"
    }
   ],
   "source": [
    "data_training.shape"
   ]
  },
  {
   "cell_type": "code",
   "execution_count": 56,
   "metadata": {},
   "outputs": [
    {
     "data": {
      "text/plain": [
       "(576, 1)"
      ]
     },
     "execution_count": 56,
     "metadata": {},
     "output_type": "execute_result"
    }
   ],
   "source": [
    "data_test.shape"
   ]
  },
  {
   "cell_type": "markdown",
   "metadata": {},
   "source": [
    "# RNN을 위하여 데이터를 재구성하자.\n",
    "### Loop_Back = 60으로 설정하자.\n",
    "### 예측은 단일 예측 1개로 즉, 5분단위\n",
    "create RNN with 60 timesteps, i.e. look 60 previous time steps"
   ]
  },
  {
   "cell_type": "code",
   "execution_count": 66,
   "metadata": {},
   "outputs": [],
   "source": [
    "X_train = []\n",
    "y_train = []\n",
    "X_test = []\n",
    "y_test = []"
   ]
  },
  {
   "cell_type": "markdown",
   "metadata": {},
   "source": [
    "### train 데이터를 RNN 구조로 만들자"
   ]
  },
  {
   "cell_type": "code",
   "execution_count": 67,
   "metadata": {},
   "outputs": [],
   "source": [
    "look_back = 60\n",
    "for i in range(look_back, data_training.shape[0]):\n",
    "    X_train.append(data_training[i-look_back:i])\n",
    "    y_train.append(data_training[i, 0])"
   ]
  },
  {
   "cell_type": "code",
   "execution_count": 68,
   "metadata": {},
   "outputs": [],
   "source": [
    "X_train, y_train = np.array(X_train), np.array(y_train)"
   ]
  },
  {
   "cell_type": "code",
   "execution_count": 69,
   "metadata": {
    "scrolled": true
   },
   "outputs": [
    {
     "name": "stdout",
     "output_type": "stream",
     "text": [
      "(7428, 60, 1) (7428,)\n"
     ]
    }
   ],
   "source": [
    "print(X_train.shape,y_train.shape)"
   ]
  },
  {
   "cell_type": "markdown",
   "metadata": {},
   "source": [
    "### test 데이터에도 같은 구조로 해주자"
   ]
  },
  {
   "cell_type": "code",
   "execution_count": 70,
   "metadata": {},
   "outputs": [],
   "source": [
    "for i in range(look_back, data_test.shape[0]):\n",
    "    X_test.append(data_test[i-look_back:i])\n",
    "    y_test.append(data_test[i, 0])"
   ]
  },
  {
   "cell_type": "code",
   "execution_count": 71,
   "metadata": {},
   "outputs": [],
   "source": [
    "X_test, y_test = np.array(X_test), np.array(y_test)"
   ]
  },
  {
   "cell_type": "code",
   "execution_count": 72,
   "metadata": {},
   "outputs": [
    {
     "data": {
      "text/plain": [
       "((516, 60, 1), (516,))"
      ]
     },
     "execution_count": 72,
     "metadata": {},
     "output_type": "execute_result"
    }
   ],
   "source": [
    "X_test.shape, y_test.shape"
   ]
  },
  {
   "cell_type": "markdown",
   "metadata": {},
   "source": [
    "### Building LSTM "
   ]
  },
  {
   "cell_type": "code",
   "execution_count": 73,
   "metadata": {},
   "outputs": [],
   "source": [
    "from tensorflow.keras import Sequential\n",
    "from tensorflow.keras.layers import Dense, LSTM, Dropout"
   ]
  },
  {
   "cell_type": "code",
   "execution_count": 75,
   "metadata": {},
   "outputs": [
    {
     "name": "stdout",
     "output_type": "stream",
     "text": [
      "WARNING:tensorflow:Layer lstm_4 will not use cuDNN kernels since it doesn't meet the criteria. It will use a generic GPU kernel as fallback when running on GPU.\n",
      "WARNING:tensorflow:Layer lstm_5 will not use cuDNN kernels since it doesn't meet the criteria. It will use a generic GPU kernel as fallback when running on GPU.\n"
     ]
    }
   ],
   "source": [
    "neuron1 = 64\n",
    "neuron2 = 128\n",
    "\n",
    "model = Sequential()\n",
    "model.add(LSTM(units = neuron1, activation = 'relu', return_sequences = True,\n",
    "               input_shape = (X_train.shape[1], 1)))\n",
    "model.add(LSTM(units = neuron2, activation = 'sigmoid'))\n",
    "\n",
    "model.add(Dense(units = 1))"
   ]
  },
  {
   "cell_type": "code",
   "execution_count": 76,
   "metadata": {
    "scrolled": true
   },
   "outputs": [
    {
     "name": "stdout",
     "output_type": "stream",
     "text": [
      "Model: \"sequential_2\"\n",
      "_________________________________________________________________\n",
      " Layer (type)                Output Shape              Param #   \n",
      "=================================================================\n",
      " lstm_4 (LSTM)               (None, 60, 64)            16896     \n",
      "                                                                 \n",
      " lstm_5 (LSTM)               (None, 128)               98816     \n",
      "                                                                 \n",
      " dense_2 (Dense)             (None, 1)                 129       \n",
      "                                                                 \n",
      "=================================================================\n",
      "Total params: 115,841\n",
      "Trainable params: 115,841\n",
      "Non-trainable params: 0\n",
      "_________________________________________________________________\n"
     ]
    }
   ],
   "source": [
    "model.summary()"
   ]
  },
  {
   "cell_type": "code",
   "execution_count": 77,
   "metadata": {},
   "outputs": [],
   "source": [
    "model.compile(optimizer='adam', loss = 'mean_squared_error',\n",
    "             metrics =['accuracy'])"
   ]
  },
  {
   "cell_type": "code",
   "execution_count": null,
   "metadata": {
    "scrolled": true
   },
   "outputs": [
    {
     "name": "stdout",
     "output_type": "stream",
     "text": [
      "Epoch 1/20\n",
      "30/30 [==============================] - 29s 909ms/step - loss: 0.5457 - accuracy: 0.0000e+00\n",
      "Epoch 2/20\n",
      "30/30 [==============================] - 28s 919ms/step - loss: 0.1269 - accuracy: 0.0000e+00\n",
      "Epoch 3/20\n",
      "30/30 [==============================] - 27s 911ms/step - loss: 0.1158 - accuracy: 0.0000e+00\n",
      "Epoch 4/20\n",
      "30/30 [==============================] - 28s 933ms/step - loss: 0.1054 - accuracy: 0.0000e+00\n",
      "Epoch 5/20\n",
      "30/30 [==============================] - 27s 908ms/step - loss: 0.1489 - accuracy: 0.0000e+00\n",
      "Epoch 6/20\n",
      "30/30 [==============================] - 27s 912ms/step - loss: 0.1265 - accuracy: 0.0000e+00\n",
      "Epoch 7/20\n",
      "30/30 [==============================] - 28s 940ms/step - loss: 0.1116 - accuracy: 0.0000e+00\n",
      "Epoch 8/20\n",
      "30/30 [==============================] - 28s 917ms/step - loss: 0.1118 - accuracy: 0.0000e+00\n",
      "Epoch 9/20\n",
      "30/30 [==============================] - 27s 914ms/step - loss: 0.1316 - accuracy: 0.0000e+00\n",
      "Epoch 10/20\n",
      "30/30 [==============================] - 28s 925ms/step - loss: 0.1071 - accuracy: 0.0000e+00\n",
      "Epoch 11/20\n",
      "30/30 [==============================] - 26s 880ms/step - loss: 0.1084 - accuracy: 0.0000e+00\n",
      "Epoch 12/20\n",
      "30/30 [==============================] - 26s 882ms/step - loss: 0.1032 - accuracy: 0.0000e+00\n",
      "Epoch 13/20\n",
      "30/30 [==============================] - 32s 1s/step - loss: 0.1030 - accuracy: 0.0000e+00\n",
      "Epoch 14/20\n",
      "30/30 [==============================] - 28s 918ms/step - loss: 0.1016 - accuracy: 0.0000e+00\n",
      "Epoch 15/20\n",
      "23/30 [======================>.......] - ETA: 6s - loss: 0.1154 - accuracy: 0.0000e+00"
     ]
    }
   ],
   "source": [
    "history= model.fit(X_train, y_train, epochs=20, batch_size=256)"
   ]
  },
  {
   "cell_type": "code",
   "execution_count": null,
   "metadata": {},
   "outputs": [],
   "source": [
    "print(history.history)"
   ]
  },
  {
   "cell_type": "code",
   "execution_count": null,
   "metadata": {
    "scrolled": true
   },
   "outputs": [],
   "source": [
    "history.history.keys()"
   ]
  },
  {
   "cell_type": "markdown",
   "metadata": {},
   "source": [
    "### Prepare test dataset "
   ]
  },
  {
   "cell_type": "code",
   "execution_count": null,
   "metadata": {},
   "outputs": [],
   "source": [
    "#X_test, y_test = np.array(X_test), np.array(y_test)"
   ]
  },
  {
   "cell_type": "code",
   "execution_count": null,
   "metadata": {},
   "outputs": [],
   "source": [
    "#X_test.shape, y_test.shape"
   ]
  },
  {
   "cell_type": "code",
   "execution_count": null,
   "metadata": {},
   "outputs": [],
   "source": [
    "model.evaluate(X_test, y_test, batch_size=128)"
   ]
  },
  {
   "cell_type": "code",
   "execution_count": null,
   "metadata": {},
   "outputs": [],
   "source": [
    "y_pred = model.predict(X_test)"
   ]
  },
  {
   "cell_type": "code",
   "execution_count": null,
   "metadata": {},
   "outputs": [],
   "source": [
    "y_pred"
   ]
  },
  {
   "cell_type": "code",
   "execution_count": 37,
   "metadata": {},
   "outputs": [
    {
     "data": {
      "text/plain": [
       "array([61.54378554])"
      ]
     },
     "execution_count": 37,
     "metadata": {},
     "output_type": "execute_result"
    }
   ],
   "source": [
    "scaler.scale_"
   ]
  },
  {
   "cell_type": "code",
   "execution_count": 38,
   "metadata": {},
   "outputs": [],
   "source": [
    "#scale = 1/8.18605127e-04\n",
    "scale = 1/0.01547988"
   ]
  },
  {
   "cell_type": "code",
   "execution_count": 39,
   "metadata": {},
   "outputs": [],
   "source": [
    "y_pred = y_pred*scale\n",
    "y_test = y_test*scale"
   ]
  },
  {
   "cell_type": "code",
   "execution_count": 40,
   "metadata": {},
   "outputs": [
    {
     "data": {
      "text/plain": [
       "array([[-9.79537735e+01],\n",
       "       [-9.57393188e+01],\n",
       "       [-9.43796921e+01],\n",
       "       [-9.18975067e+01],\n",
       "       [-8.87647171e+01],\n",
       "       [-8.40187683e+01],\n",
       "       [-7.86094055e+01],\n",
       "       [-7.57954025e+01],\n",
       "       [-6.96403732e+01],\n",
       "       [-6.49930420e+01],\n",
       "       [-6.17388725e+01],\n",
       "       [-5.76209412e+01],\n",
       "       [-5.09964256e+01],\n",
       "       [-4.47364960e+01],\n",
       "       [-3.79475136e+01],\n",
       "       [-3.37851257e+01],\n",
       "       [-3.06807022e+01],\n",
       "       [-1.99742298e+01],\n",
       "       [-9.89188957e+00],\n",
       "       [-1.18269312e+00],\n",
       "       [ 6.28955555e+00],\n",
       "       [ 1.89366570e+01],\n",
       "       [ 2.46571865e+01],\n",
       "       [ 2.92584686e+01],\n",
       "       [ 3.25279770e+01],\n",
       "       [ 3.14930515e+01],\n",
       "       [ 3.98025856e+01],\n",
       "       [ 4.88647728e+01],\n",
       "       [ 5.82993202e+01],\n",
       "       [ 7.18422928e+01],\n",
       "       [ 8.16416321e+01],\n",
       "       [ 9.58154907e+01],\n",
       "       [ 1.13007332e+02],\n",
       "       [ 1.15233482e+02],\n",
       "       [ 1.24404060e+02],\n",
       "       [ 1.16651100e+02],\n",
       "       [ 1.25618446e+02],\n",
       "       [ 1.21027245e+02],\n",
       "       [ 1.18940948e+02],\n",
       "       [ 1.20247726e+02],\n",
       "       [ 1.08916275e+02],\n",
       "       [ 9.69444351e+01],\n",
       "       [ 9.60548859e+01],\n",
       "       [ 9.25605545e+01],\n",
       "       [ 9.13066483e+01],\n",
       "       [ 9.13101349e+01],\n",
       "       [ 8.24959259e+01],\n",
       "       [ 6.97866364e+01],\n",
       "       [ 6.59098663e+01],\n",
       "       [ 6.00670357e+01],\n",
       "       [ 5.34548798e+01],\n",
       "       [ 4.34514084e+01],\n",
       "       [ 4.29348030e+01],\n",
       "       [ 4.63155975e+01],\n",
       "       [ 4.36038666e+01],\n",
       "       [ 4.53280792e+01],\n",
       "       [ 4.01404877e+01],\n",
       "       [ 4.21054039e+01],\n",
       "       [ 4.06428375e+01],\n",
       "       [ 3.97448196e+01],\n",
       "       [ 4.34239082e+01],\n",
       "       [ 4.39628525e+01],\n",
       "       [ 4.40905533e+01],\n",
       "       [ 3.70966187e+01],\n",
       "       [ 3.65227547e+01],\n",
       "       [ 2.57805214e+01],\n",
       "       [ 2.21024704e+01],\n",
       "       [ 2.11793499e+01],\n",
       "       [ 2.28462849e+01],\n",
       "       [ 2.14170666e+01],\n",
       "       [ 2.11992321e+01],\n",
       "       [ 2.15125179e+01],\n",
       "       [ 1.64188824e+01],\n",
       "       [ 1.87363148e+01],\n",
       "       [ 1.56882639e+01],\n",
       "       [ 1.60328560e+01],\n",
       "       [ 1.74422569e+01],\n",
       "       [ 1.77244320e+01],\n",
       "       [ 2.09761963e+01],\n",
       "       [ 2.03048363e+01],\n",
       "       [ 2.60470543e+01],\n",
       "       [ 2.86283722e+01],\n",
       "       [ 3.19884186e+01],\n",
       "       [ 3.59750290e+01],\n",
       "       [ 3.79555130e+01],\n",
       "       [ 4.06041412e+01],\n",
       "       [ 4.34904785e+01],\n",
       "       [ 4.25412750e+01],\n",
       "       [ 3.62932358e+01],\n",
       "       [ 3.35142441e+01],\n",
       "       [ 3.09033737e+01],\n",
       "       [ 2.92446308e+01],\n",
       "       [ 2.56884480e+01],\n",
       "       [ 2.83265991e+01],\n",
       "       [ 2.65679798e+01],\n",
       "       [ 2.49551773e+01],\n",
       "       [ 2.77864647e+01],\n",
       "       [ 2.27692432e+01],\n",
       "       [ 2.66106434e+01],\n",
       "       [ 2.81472797e+01],\n",
       "       [ 3.03298244e+01],\n",
       "       [ 3.19347878e+01],\n",
       "       [ 3.31219940e+01],\n",
       "       [ 3.77140274e+01],\n",
       "       [ 3.06935234e+01],\n",
       "       [ 3.62109337e+01],\n",
       "       [ 3.87590370e+01],\n",
       "       [ 4.01155701e+01],\n",
       "       [ 4.29718933e+01],\n",
       "       [ 4.47595825e+01],\n",
       "       [ 4.65860863e+01],\n",
       "       [ 4.22632484e+01],\n",
       "       [ 3.96631432e+01],\n",
       "       [ 4.18676682e+01],\n",
       "       [ 3.90090637e+01],\n",
       "       [ 4.20670319e+01],\n",
       "       [ 4.52494888e+01],\n",
       "       [ 4.93104362e+01],\n",
       "       [ 5.02199326e+01],\n",
       "       [ 4.60337448e+01],\n",
       "       [ 5.17900391e+01],\n",
       "       [ 4.85024643e+01],\n",
       "       [ 4.82205620e+01],\n",
       "       [ 4.97828941e+01],\n",
       "       [ 5.00700264e+01],\n",
       "       [ 4.89541130e+01],\n",
       "       [ 4.55470848e+01],\n",
       "       [ 4.00781822e+01],\n",
       "       [ 3.73691406e+01],\n",
       "       [ 3.78850784e+01],\n",
       "       [ 3.69020805e+01],\n",
       "       [ 3.74813423e+01],\n",
       "       [ 4.06992302e+01],\n",
       "       [ 4.60586891e+01],\n",
       "       [ 4.87640457e+01],\n",
       "       [ 4.55923195e+01],\n",
       "       [ 5.36325874e+01],\n",
       "       [ 5.32935333e+01],\n",
       "       [ 5.09451027e+01],\n",
       "       [ 5.03519783e+01],\n",
       "       [ 4.91973801e+01],\n",
       "       [ 4.90990028e+01],\n",
       "       [ 4.42560387e+01],\n",
       "       [ 4.30442238e+01],\n",
       "       [ 4.00227966e+01],\n",
       "       [ 3.48852463e+01],\n",
       "       [ 3.84028511e+01],\n",
       "       [ 3.36835670e+01],\n",
       "       [ 3.66251411e+01],\n",
       "       [ 3.86987000e+01],\n",
       "       [ 3.99687119e+01],\n",
       "       [ 4.15927849e+01],\n",
       "       [ 3.78053207e+01],\n",
       "       [ 4.20419960e+01],\n",
       "       [ 4.06340561e+01],\n",
       "       [ 4.60031471e+01],\n",
       "       [ 4.56606369e+01],\n",
       "       [ 4.97017746e+01],\n",
       "       [ 5.83818130e+01],\n",
       "       [ 6.34202614e+01],\n",
       "       [ 6.26077194e+01],\n",
       "       [ 7.00619583e+01],\n",
       "       [ 7.68355942e+01],\n",
       "       [ 7.53851929e+01],\n",
       "       [ 7.47096176e+01],\n",
       "       [ 7.77501373e+01],\n",
       "       [ 7.78685913e+01],\n",
       "       [ 7.56319580e+01],\n",
       "       [ 7.09793549e+01],\n",
       "       [ 6.32549171e+01],\n",
       "       [ 5.56910858e+01],\n",
       "       [ 5.74308319e+01],\n",
       "       [ 5.43444519e+01],\n",
       "       [ 4.19540138e+01],\n",
       "       [ 3.67427101e+01],\n",
       "       [ 3.74140358e+01],\n",
       "       [ 3.02510853e+01],\n",
       "       [ 2.60592022e+01],\n",
       "       [ 2.26022263e+01],\n",
       "       [ 2.32921867e+01],\n",
       "       [ 1.79415836e+01],\n",
       "       [ 1.81882668e+01],\n",
       "       [ 1.32477646e+01],\n",
       "       [ 1.24536009e+01],\n",
       "       [ 1.24133692e+01],\n",
       "       [ 1.08183918e+01],\n",
       "       [ 5.41001081e+00],\n",
       "       [ 5.25997448e+00],\n",
       "       [ 6.63707352e+00],\n",
       "       [ 1.60308218e+00],\n",
       "       [-2.04665685e+00],\n",
       "       [-1.90961695e+00],\n",
       "       [-1.15339744e+00],\n",
       "       [ 7.86301553e-01],\n",
       "       [ 1.27915275e+00],\n",
       "       [-2.43144298e+00],\n",
       "       [-1.04692352e+00],\n",
       "       [ 3.87797862e-01],\n",
       "       [-9.78816688e-01],\n",
       "       [-5.91917992e+00],\n",
       "       [-7.69467926e+00],\n",
       "       [-1.08792324e+01],\n",
       "       [-1.72091160e+01],\n",
       "       [-2.08542728e+01],\n",
       "       [-2.17451897e+01],\n",
       "       [-2.26325207e+01],\n",
       "       [-2.22056561e+01],\n",
       "       [-2.20512943e+01],\n",
       "       [-2.39708881e+01],\n",
       "       [-2.66066685e+01],\n",
       "       [-2.67955837e+01],\n",
       "       [-2.95020638e+01],\n",
       "       [-3.19364929e+01],\n",
       "       [-3.21448936e+01],\n",
       "       [-3.24489403e+01],\n",
       "       [-3.49175148e+01],\n",
       "       [-3.55144196e+01],\n",
       "       [-3.88169785e+01],\n",
       "       [-4.31884918e+01],\n",
       "       [-4.46487350e+01],\n",
       "       [-4.64143524e+01],\n",
       "       [-4.89089241e+01],\n",
       "       [-5.06494255e+01],\n",
       "       [-5.29984627e+01],\n",
       "       [-5.64006119e+01],\n",
       "       [-5.89504967e+01],\n",
       "       [-5.85443916e+01],\n",
       "       [-6.11581078e+01],\n",
       "       [-6.32691650e+01],\n",
       "       [-6.53214722e+01],\n",
       "       [-6.69214783e+01],\n",
       "       [-6.93377075e+01],\n",
       "       [-7.06131744e+01],\n",
       "       [-7.24970474e+01],\n",
       "       [-7.35712051e+01],\n",
       "       [-7.49639816e+01],\n",
       "       [-7.57182617e+01],\n",
       "       [-7.78013382e+01],\n",
       "       [-7.98111496e+01],\n",
       "       [-8.19129791e+01],\n",
       "       [-8.41135101e+01],\n",
       "       [-8.62335815e+01],\n",
       "       [-8.72804184e+01],\n",
       "       [-8.87058182e+01],\n",
       "       [-8.97605896e+01],\n",
       "       [-9.11978073e+01],\n",
       "       [-9.22624283e+01],\n",
       "       [-9.41605225e+01],\n",
       "       [-9.64959793e+01],\n",
       "       [-9.73357468e+01],\n",
       "       [-9.80042953e+01],\n",
       "       [-9.87441254e+01],\n",
       "       [-1.00049538e+02],\n",
       "       [-1.00996262e+02],\n",
       "       [-1.00674316e+02],\n",
       "       [-1.00614754e+02],\n",
       "       [-1.01373985e+02],\n",
       "       [-1.02803116e+02],\n",
       "       [-1.03355705e+02],\n",
       "       [-1.03429123e+02],\n",
       "       [-1.03400093e+02],\n",
       "       [-1.03950256e+02],\n",
       "       [-1.03523247e+02],\n",
       "       [-1.03844727e+02],\n",
       "       [-1.04178696e+02],\n",
       "       [-1.04875786e+02],\n",
       "       [-1.04676117e+02],\n",
       "       [-1.04255638e+02],\n",
       "       [-1.03702820e+02],\n",
       "       [-1.03374229e+02],\n",
       "       [-1.04040909e+02],\n",
       "       [-1.03850868e+02],\n",
       "       [-1.04236565e+02],\n",
       "       [-1.03807037e+02],\n",
       "       [-1.04103668e+02],\n",
       "       [-1.03849800e+02],\n",
       "       [-1.03625084e+02],\n",
       "       [-1.02953583e+02],\n",
       "       [-1.02156364e+02],\n",
       "       [-1.01109131e+02],\n",
       "       [-1.01293304e+02],\n",
       "       [-1.01922424e+02],\n",
       "       [-1.00449776e+02],\n",
       "       [-1.00730148e+02],\n",
       "       [-9.92980194e+01],\n",
       "       [-9.85399399e+01],\n",
       "       [-9.75692978e+01],\n",
       "       [-9.68618317e+01],\n",
       "       [-9.67130280e+01],\n",
       "       [-9.59878616e+01],\n",
       "       [-9.49956360e+01],\n",
       "       [-9.50055847e+01],\n",
       "       [-9.36114960e+01],\n",
       "       [-9.29079819e+01],\n",
       "       [-8.91793442e+01],\n",
       "       [-8.64336472e+01],\n",
       "       [-8.56162491e+01],\n",
       "       [-8.59996643e+01],\n",
       "       [-8.50163879e+01],\n",
       "       [-8.14964066e+01],\n",
       "       [-7.72429123e+01],\n",
       "       [-7.21080933e+01],\n",
       "       [-6.68593979e+01],\n",
       "       [-6.20667992e+01],\n",
       "       [-5.72265053e+01],\n",
       "       [-5.17242355e+01],\n",
       "       [-4.24230766e+01],\n",
       "       [-3.40015678e+01],\n",
       "       [-2.76520557e+01],\n",
       "       [-2.08054161e+01],\n",
       "       [-1.44963608e+01],\n",
       "       [-1.07136459e+01],\n",
       "       [-7.81926203e+00],\n",
       "       [-4.83652878e+00],\n",
       "       [-4.04027849e-01],\n",
       "       [ 5.33746862e+00],\n",
       "       [ 8.38627625e+00],\n",
       "       [ 1.04644918e+01],\n",
       "       [ 1.04227619e+01],\n",
       "       [ 1.21016760e+01],\n",
       "       [ 2.16503296e+01],\n",
       "       [ 2.73087368e+01],\n",
       "       [ 2.74975147e+01],\n",
       "       [ 3.26551895e+01],\n",
       "       [ 3.18986530e+01],\n",
       "       [ 2.83446350e+01],\n",
       "       [ 2.02583046e+01],\n",
       "       [ 1.63396397e+01],\n",
       "       [ 1.61198864e+01],\n",
       "       [ 1.49092760e+01],\n",
       "       [ 1.20660057e+01],\n",
       "       [ 1.25581512e+01],\n",
       "       [ 1.37384109e+01],\n",
       "       [ 1.36494427e+01],\n",
       "       [ 1.56114912e+01],\n",
       "       [ 2.18198929e+01],\n",
       "       [ 2.07261124e+01],\n",
       "       [ 1.62431660e+01],\n",
       "       [ 1.81814213e+01],\n",
       "       [ 1.64300556e+01],\n",
       "       [ 1.76636982e+01],\n",
       "       [ 2.08476391e+01],\n",
       "       [ 2.07247410e+01],\n",
       "       [ 1.63069839e+01],\n",
       "       [ 1.65416622e+01],\n",
       "       [ 1.38365307e+01],\n",
       "       [ 1.36215096e+01],\n",
       "       [ 1.48719749e+01],\n",
       "       [ 1.59547005e+01],\n",
       "       [ 1.51203470e+01],\n",
       "       [ 1.72782917e+01],\n",
       "       [ 1.47255859e+01],\n",
       "       [ 1.44105968e+01],\n",
       "       [ 9.73055363e+00],\n",
       "       [ 9.03847599e+00],\n",
       "       [ 8.95821190e+00],\n",
       "       [ 1.15592995e+01],\n",
       "       [ 1.48619881e+01],\n",
       "       [ 1.80012436e+01],\n",
       "       [ 1.70633430e+01],\n",
       "       [ 1.78658295e+01],\n",
       "       [ 1.65731449e+01],\n",
       "       [ 1.52137547e+01],\n",
       "       [ 1.79593925e+01],\n",
       "       [ 2.16311398e+01],\n",
       "       [ 2.84065609e+01],\n",
       "       [ 3.44427872e+01],\n",
       "       [ 3.58999329e+01],\n",
       "       [ 3.43885117e+01],\n",
       "       [ 4.00239716e+01],\n",
       "       [ 4.45911331e+01],\n",
       "       [ 4.52079620e+01],\n",
       "       [ 4.31622467e+01],\n",
       "       [ 4.43373299e+01],\n",
       "       [ 4.78270798e+01],\n",
       "       [ 4.53693504e+01],\n",
       "       [ 4.21188850e+01],\n",
       "       [ 4.33507500e+01],\n",
       "       [ 4.20599251e+01],\n",
       "       [ 4.03375702e+01],\n",
       "       [ 3.72243614e+01],\n",
       "       [ 3.69220428e+01],\n",
       "       [ 4.19326172e+01],\n",
       "       [ 4.39336739e+01],\n",
       "       [ 4.37074432e+01],\n",
       "       [ 4.22455406e+01],\n",
       "       [ 4.29161873e+01],\n",
       "       [ 4.52158356e+01],\n",
       "       [ 4.41980667e+01],\n",
       "       [ 4.12172050e+01],\n",
       "       [ 4.24104996e+01],\n",
       "       [ 4.47556763e+01],\n",
       "       [ 4.45134811e+01],\n",
       "       [ 4.12267227e+01],\n",
       "       [ 4.32331734e+01],\n",
       "       [ 4.70509682e+01],\n",
       "       [ 4.95232620e+01],\n",
       "       [ 4.40903168e+01],\n",
       "       [ 4.20960655e+01],\n",
       "       [ 4.14439888e+01],\n",
       "       [ 4.37993774e+01],\n",
       "       [ 4.20086517e+01],\n",
       "       [ 4.09412308e+01],\n",
       "       [ 4.39736137e+01],\n",
       "       [ 4.84958496e+01],\n",
       "       [ 4.82957420e+01],\n",
       "       [ 4.61721306e+01],\n",
       "       [ 4.54985352e+01],\n",
       "       [ 5.11218910e+01],\n",
       "       [ 5.15673141e+01],\n",
       "       [ 4.60006676e+01],\n",
       "       [ 4.49809074e+01],\n",
       "       [ 4.55534058e+01],\n",
       "       [ 4.61888161e+01],\n",
       "       [ 4.28986092e+01],\n",
       "       [ 4.23926773e+01],\n",
       "       [ 4.80831451e+01],\n",
       "       [ 4.93162842e+01],\n",
       "       [ 5.00652962e+01],\n",
       "       [ 4.80169029e+01],\n",
       "       [ 5.02760925e+01],\n",
       "       [ 5.43637276e+01],\n",
       "       [ 5.26837540e+01],\n",
       "       [ 5.01957855e+01],\n",
       "       [ 4.91211014e+01],\n",
       "       [ 4.89182549e+01],\n",
       "       [ 4.33273315e+01],\n",
       "       [ 3.74398117e+01],\n",
       "       [ 3.53127480e+01],\n",
       "       [ 3.59758377e+01],\n",
       "       [ 3.98783569e+01],\n",
       "       [ 4.01453552e+01],\n",
       "       [ 3.80333900e+01],\n",
       "       [ 3.73970184e+01],\n",
       "       [ 3.59128952e+01],\n",
       "       [ 3.29882202e+01],\n",
       "       [ 2.85729179e+01],\n",
       "       [ 2.87083683e+01],\n",
       "       [ 2.80045166e+01],\n",
       "       [ 2.70985146e+01],\n",
       "       [ 2.31935692e+01],\n",
       "       [ 2.42126675e+01],\n",
       "       [ 2.80034924e+01],\n",
       "       [ 2.98073616e+01],\n",
       "       [ 2.71600208e+01],\n",
       "       [ 2.88305893e+01],\n",
       "       [ 3.13268661e+01],\n",
       "       [ 3.41927338e+01],\n",
       "       [ 3.47130470e+01],\n",
       "       [ 3.82411728e+01],\n",
       "       [ 4.08805656e+01],\n",
       "       [ 4.10137024e+01],\n",
       "       [ 4.09264259e+01],\n",
       "       [ 3.92506485e+01],\n",
       "       [ 4.10177002e+01],\n",
       "       [ 4.07964058e+01],\n",
       "       [ 3.71149635e+01],\n",
       "       [ 3.13475533e+01],\n",
       "       [ 2.52202301e+01],\n",
       "       [ 2.36134052e+01],\n",
       "       [ 1.91785431e+01],\n",
       "       [ 1.42663536e+01],\n",
       "       [ 1.05448341e+01],\n",
       "       [ 8.99454498e+00],\n",
       "       [ 8.84686470e+00],\n",
       "       [ 4.81162786e+00],\n",
       "       [-3.31097275e-01],\n",
       "       [ 2.88958168e+00],\n",
       "       [ 2.86129284e+00],\n",
       "       [ 2.14428139e+00],\n",
       "       [ 1.24264264e+00],\n",
       "       [ 2.44655824e+00],\n",
       "       [ 4.72651243e+00],\n",
       "       [ 1.03639759e-01],\n",
       "       [-6.90449572e+00],\n",
       "       [-5.24160099e+00],\n",
       "       [-3.92581367e+00],\n",
       "       [-5.15452290e+00],\n",
       "       [-9.12557030e+00],\n",
       "       [-7.20518398e+00],\n",
       "       [-7.34412289e+00],\n",
       "       [-1.17495012e+01],\n",
       "       [-1.76129475e+01],\n",
       "       [-2.26320019e+01],\n",
       "       [-2.11367683e+01],\n",
       "       [-2.08662453e+01],\n",
       "       [-2.40235062e+01],\n",
       "       [-2.67957439e+01],\n",
       "       [-2.85003166e+01],\n",
       "       [-3.17707367e+01],\n",
       "       [-3.22221298e+01],\n",
       "       [-3.46901512e+01],\n",
       "       [-3.59370499e+01],\n",
       "       [-3.47788963e+01],\n",
       "       [-3.55418739e+01],\n",
       "       [-3.60837555e+01],\n",
       "       [-3.33524399e+01],\n",
       "       [-3.56180077e+01],\n",
       "       [-3.85649834e+01],\n",
       "       [-4.29090958e+01],\n",
       "       [-4.45535965e+01],\n",
       "       [-4.57401924e+01],\n",
       "       [-4.75598106e+01],\n",
       "       [-4.90901947e+01],\n",
       "       [-5.16891594e+01],\n",
       "       [-5.49986000e+01],\n",
       "       [-5.84207306e+01],\n",
       "       [-6.14371033e+01],\n",
       "       [-6.39721069e+01],\n",
       "       [-6.47571716e+01],\n",
       "       [-6.51535339e+01],\n",
       "       [-6.80407639e+01],\n",
       "       [-7.02745056e+01],\n",
       "       [-7.20828171e+01],\n",
       "       [-7.49424362e+01],\n",
       "       [-7.77931595e+01]], dtype=float32)"
      ]
     },
     "execution_count": 40,
     "metadata": {},
     "output_type": "execute_result"
    }
   ],
   "source": [
    "y_pred"
   ]
  },
  {
   "cell_type": "markdown",
   "metadata": {},
   "source": [
    "### Visualization "
   ]
  },
  {
   "cell_type": "code",
   "execution_count": 42,
   "metadata": {},
   "outputs": [
    {
     "data": {
      "image/png": "[encoded data removed]",
      "text/plain": [
       "<Figure size 432x288 with 1 Axes>"
      ]
     },
     "metadata": {
      "needs_background": "light"
     },
     "output_type": "display_data"
    }
   ],
   "source": [
    "# 7 훈련 과정 시각화 (손실)\n",
    "plt.plot(history.history['loss'])\n",
    "plt.title('Model loss')\n",
    "plt.xlabel('Epoch')\n",
    "plt.ylabel('Loss')\n",
    "plt.legend(['Train', 'Test'], loc='upper left')\n",
    "plt.show()"
   ]
  },
  {
   "cell_type": "code",
   "execution_count": 43,
   "metadata": {
    "scrolled": false
   },
   "outputs": [
    {
     "data": {
      "image/png": "[encoded data removed]",
      "text/plain": [
       "<Figure size 1008x648 with 1 Axes>"
      ]
     },
     "metadata": {
      "needs_background": "light"
     },
     "output_type": "display_data"
    }
   ],
   "source": [
    "# Visualising the results\n",
    "plt.figure(figsize=(14,9))\n",
    "plt.plot(y_test, color = 'red', label = 'Real VDS Data')\n",
    "plt.plot(y_pred, color = 'blue', label = 'Predicted VDS Data')\n",
    "plt.title('Traffic Speed Prediction')\n",
    "plt.xlabel('Time')\n",
    "plt.ylabel('VDS (Speed)')\n",
    "plt.legend()\n",
    "plt.show()"
   ]
  },
  {
   "cell_type": "code",
   "execution_count": null,
   "metadata": {},
   "outputs": [],
   "source": []
  }
 ],
 "metadata": {
  "kernelspec": {
   "display_name": "tf-gpu",
   "language": "python",
   "name": "tf-gpu"
  },
  "language_info": {
   "codemirror_mode": {
    "name": "ipython",
    "version": 3
   },
   "file_extension": ".py",
   "mimetype": "text/x-python",
   "name": "python",
   "nbconvert_exporter": "python",
   "pygments_lexer": "ipython3",
   "version": "3.8.13"
  }
 },
 "nbformat": 4,
 "nbformat_minor": 2
}
