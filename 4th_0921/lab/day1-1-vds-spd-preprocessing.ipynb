{
 "cells": [
  {
   "cell_type": "markdown",
   "metadata": {},
   "source": [
    "## 스마트교통 데이터 첫 실습\n",
    "#### 학습목표: 차량검지기 데이터 (VDS) 읽고 전처리하기\n",
    "\n",
    "대전시 VDS 데이터의 속도에 대하여 가시화 하자"
   ]
  },
  {
   "cell_type": "code",
   "execution_count": 2,
   "metadata": {
    "scrolled": true
   },
   "outputs": [
    {
     "name": "stdout",
     "output_type": "stream",
     "text": [
      "<class 'pandas.core.frame.DataFrame'>\n",
      "RangeIndex: 25632 entries, 0 to 25631\n",
      "Data columns (total 3 columns):\n",
      " #   Column   Non-Null Count  Dtype  \n",
      "---  ------   --------------  -----  \n",
      " 0   date     25632 non-null  object \n",
      " 1   VDS0017  25632 non-null  float64\n",
      " 2   VDS0016  25632 non-null  float64\n",
      "dtypes: float64(2), object(1)\n",
      "memory usage: 600.9+ KB\n"
     ]
    },
    {
     "data": {
      "text/html": [
       "<div>\n",
       "<style scoped>\n",
       "    .dataframe tbody tr th:only-of-type {\n",
       "        vertical-align: middle;\n",
       "    }\n",
       "\n",
       "    .dataframe tbody tr th {\n",
       "        vertical-align: top;\n",
       "    }\n",
       "\n",
       "    .dataframe thead th {\n",
       "        text-align: right;\n",
       "    }\n",
       "</style>\n",
       "<table border=\"1\" class=\"dataframe\">\n",
       "  <thead>\n",
       "    <tr style=\"text-align: right;\">\n",
       "      <th></th>\n",
       "      <th>date</th>\n",
       "      <th>VDS0017</th>\n",
       "      <th>VDS0016</th>\n",
       "    </tr>\n",
       "  </thead>\n",
       "  <tbody>\n",
       "    <tr>\n",
       "      <th>0</th>\n",
       "      <td>01/02/2018 00:00</td>\n",
       "      <td>66.7</td>\n",
       "      <td>52.3</td>\n",
       "    </tr>\n",
       "    <tr>\n",
       "      <th>1</th>\n",
       "      <td>01/02/2018 00:05</td>\n",
       "      <td>52.8</td>\n",
       "      <td>55.9</td>\n",
       "    </tr>\n",
       "    <tr>\n",
       "      <th>2</th>\n",
       "      <td>01/02/2018 00:10</td>\n",
       "      <td>65.0</td>\n",
       "      <td>60.3</td>\n",
       "    </tr>\n",
       "    <tr>\n",
       "      <th>3</th>\n",
       "      <td>01/02/2018 00:15</td>\n",
       "      <td>57.8</td>\n",
       "      <td>54.9</td>\n",
       "    </tr>\n",
       "    <tr>\n",
       "      <th>4</th>\n",
       "      <td>01/02/2018 00:20</td>\n",
       "      <td>58.5</td>\n",
       "      <td>57.7</td>\n",
       "    </tr>\n",
       "  </tbody>\n",
       "</table>\n",
       "</div>"
      ],
      "text/plain": [
       "               date  VDS0017  VDS0016\n",
       "0  01/02/2018 00:00     66.7     52.3\n",
       "1  01/02/2018 00:05     52.8     55.9\n",
       "2  01/02/2018 00:10     65.0     60.3\n",
       "3  01/02/2018 00:15     57.8     54.9\n",
       "4  01/02/2018 00:20     58.5     57.7"
      ]
     },
     "execution_count": 2,
     "metadata": {},
     "output_type": "execute_result"
    }
   ],
   "source": [
    "df = pd.read_csv('./input/daejeon_vds_Feb_Apr_2018.csv')\n",
    "df.head()\n",
    "usecols=['date','VDS0017','VDS0016']\n",
    "df=df[usecols]\n",
    "df.head()\n",
    "df.tail()\n",
    "df.info()\n",
    "df.describe()\n",
    "df.sort_values('date', inplace=True)\n",
    "df.head()\n",
    "\n",
    "import matplotlib.pyplot as plt\n",
    "df['VDS0017'][:288].plot(rot=45,figsize=(8,6))\n",
    "df['VDS0016'][:288].plot(rot=45,figsize=(8,6))\n",
    "plt.legend()\n",
    "df.set_index('date', inplace=True)\n",
    "df.head()\n",
    "df['VDS0017'][:288].plot(rot=45,figsize=(8,6))\n",
    "df['VDS0016'][:288].plot(rot=45,figsize=(8,6))\n",
    "plt.legend()"
   ]
  },
  {
   "cell_type": "code",
   "execution_count": null,
   "metadata": {},
   "outputs": [],
   "source": []
  }
 ],
 "metadata": {
  "colab": {
   "collapsed_sections": [],
   "name": "IBM_Transformer+TimeEmbedding_Github.ipynb",
   "provenance": []
  },
  "kernelspec": {
   "display_name": "tf-gpu",
   "language": "python",
   "name": "tf-gpu"
  },
  "language_info": {
   "codemirror_mode": {
    "name": "ipython",
    "version": 3
   },
   "file_extension": ".py",
   "mimetype": "text/x-python",
   "name": "python",
   "nbconvert_exporter": "python",
   "pygments_lexer": "ipython3",
   "version": "3.8.13"
  }
 },
 "nbformat": 4,
 "nbformat_minor": 1
}
