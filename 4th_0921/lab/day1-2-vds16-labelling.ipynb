{
 "cells": [
  {
   "cell_type": "code",
   "execution_count": 1,
   "metadata": {},
   "outputs": [],
   "source": [
    "import tensorflow as tf\n",
    "import pandas as pd\n",
    "\n",
    "df = pd.read_csv('./input/daejeon_vds16.csv')\n",
    "df.head()\n",
    "df.tail()\n",
    "df.info()\n",
    "df.describe()\n",
    "df.set_index('Date', inplace=True)\n",
    "df.head()\n",
    "\n",
    "df['ToVol'].plot()\n",
    "df['ToVol'][:288].plot(rot=45,figsize=(8,6))\n",
    "df['ToVol'][288:576].plot(rot=45,figsize=(8,6))\n",
    "df['Speed'][288:576].plot(rot=45,figsize=(8,6))\n",
    "df['Occ.Rate'][288:576].plot(rot=45,figsize=(8,6))\n",
    "\n",
    "def get_score(v):\n",
    "    if v < 30:\n",
    "        score = 'Jam'\n",
    "    elif v < 50:\n",
    "        score = 'Slow'\n",
    "    else :\n",
    "        score = 'Normal'\n",
    "    return score\n",
    "\n",
    "df[\"label_speed\"] = df[\"Speed\"].apply(lambda v: get_score(v))\n",
    "\n",
    "import matplotlib.pyplot as plt\n",
    "import seaborn as sns\n",
    "plt.style.use(\"classic\")\n",
    "\n",
    "plt.figure(figsize=(14,8))\n",
    "sns.scatterplot(data=df, x = 'Date', y = 'Speed', hue='label_speed')\n",
    "df2=df[288:576]\n",
    "sns.scatterplot(data=df2, x = 'Date', y = 'Speed', hue='label_speed') \n",
    "plt.figure(figsize=(14,6))\n",
    "sns.scatterplot(data=df, x = 'Date', y = 'ToVol', hue='label_speed')\n",
    "\n",
    "df.hist(edgecolor='black', linewidth=1.2)\n",
    "fig=plt.gcf()\n",
    "fig.set_size_inches(16,8)\n",
    "plt.show()\n",
    "plt.figure(figsize=(15,10))\n",
    "plt.subplot(2,2,1)\n",
    "sns.violinplot(x='label_speed',y='ToVol',data=df)\n",
    "plt.subplot(2,2,2)\n",
    "sns.violinplot(x='label_speed',y='Speed',data=df)\n",
    "plt.subplot(2,2,3)\n",
    "sns.violinplot(x='label_speed',y='Occ.Rate',data=df)\n",
    "plt.subplot(2,2,4)\n",
    "sns.violinplot(x='label_speed',y='LaVol',data=df)\n",
    "sns.pairplot(df,hue='label_speed')\n",
    "plt.figure(figsize=(12,6)) \n",
    "sns.heatmap(df.corr(),annot=True,cmap='YlGnBu')\n",
    "plt.show()"
   ]
  }
 ],
 "metadata": {
  "accelerator": "GPU",
  "colab": {
   "collapsed_sections": [
    "hAi2SkaJM0-M"
   ],
   "name": "day1-05-VDS-ML.ipynb",
   "provenance": []
  },
  "kernelspec": {
   "display_name": "tf-gpu",
   "language": "python",
   "name": "tf-gpu"
  },
  "language_info": {
   "codemirror_mode": {
    "name": "ipython",
    "version": 3
   },
   "file_extension": ".py",
   "mimetype": "text/x-python",
   "name": "python",
   "nbconvert_exporter": "python",
   "pygments_lexer": "ipython3",
   "version": "3.8.13"
  },
  "papermill": {
   "duration": 31.125685,
   "end_time": "2020-11-04T17:04:50.944017",
   "environment_variables": {},
   "exception": null,
   "input_path": "__notebook__.ipynb",
   "output_path": "__notebook__.ipynb",
   "parameters": {},
   "start_time": "2020-11-04T17:04:19.818332",
   "version": "2.1.0"
  }
 },
 "nbformat": 4,
 "nbformat_minor": 1
}
