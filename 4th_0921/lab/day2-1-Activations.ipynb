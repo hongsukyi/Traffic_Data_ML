{
 "cells": [
  {
   "cell_type": "markdown",
   "metadata": {
    "id": "dk3ggjvmFUV5"
   },
   "source": [
    "# 활성함수의 종류 및 케라스 모델"
   ]
  },
  {
   "cell_type": "code",
   "execution_count": 9,
   "metadata": {
    "id": "Vd9J8k6R6mTF"
   },
   "outputs": [
    {
     "data": {
      "text/plain": [
       "Text(0.5, 1.0, 'Softmax Function')"
      ]
     },
     "execution_count": 9,
     "metadata": {},
     "output_type": "execute_result"
    },
    {
     "data": {
      "image/png": "[encoded data removed]",
      "text/plain": [
       "<Figure size 432x288 with 1 Axes>"
      ]
     },
     "metadata": {
      "needs_background": "light"
     },
     "output_type": "display_data"
    }
   ],
   "source": [
    "import numpy as np                \n",
    "import matplotlib.pyplot as plt  \n",
    "\n",
    "def step(x):\n",
    "    return np.array(x > 0, dtype=np.int)\n",
    "\n",
    "# -5.0부터 5.0까지 0.1 간격 생성\n",
    "x = np.arange(-5.0, 5.0, 0.1)          \n",
    "y = step(x)\n",
    "\n",
    "plt.title('Step Function')\n",
    "plt.plot(x,y)\n",
    "\n",
    "# 시그모이드 함수 그래프를 그리는 코드\n",
    "def sigmoid(x):\n",
    "    return 1/(1+np.exp(-x))\n",
    "\n",
    "y = sigmoid(x)\n",
    "plt.plot(x, y)\n",
    "plt.title('Sigmoid Function')\n",
    "\n",
    "# tanh(x) 그리기 \n",
    "y = np.tanh(x)\n",
    "plt.plot(x, y)\n",
    "plt.title('Tanh Function')\n",
    "\n",
    "def relu(x):\n",
    "    return np.maximum(0, x)\n",
    "y = relu(x)\n",
    "plt.plot(x, y)\n",
    "plt.title('Relu Function')\n",
    "\n",
    "y = np.exp(x) / np.sum(np.exp(x))\n",
    "plt.plot(x, y)\n",
    "plt.title('Softmax Function')\n",
    "\n",
    "def leaky_relu(x):\n",
    "    return np.maximum(a*x, x)\n",
    "plt.plot(x, y)\n",
    "plt.title('Softmax Function')"
   ]
  },
  {
   "cell_type": "code",
   "execution_count": null,
   "metadata": {},
   "outputs": [],
   "source": []
  }
 ],
 "metadata": {
  "colab": {
   "collapsed_sections": [],
   "name": "day1-03-Activations.ipynb",
   "provenance": []
  },
  "kernelspec": {
   "display_name": "tf-2.8-CPU",
   "language": "python",
   "name": "tf-cpu"
  },
  "language_info": {
   "codemirror_mode": {
    "name": "ipython",
    "version": 3
   },
   "file_extension": ".py",
   "mimetype": "text/x-python",
   "name": "python",
   "nbconvert_exporter": "python",
   "pygments_lexer": "ipython3",
   "version": "3.7.6"
  }
 },
 "nbformat": 4,
 "nbformat_minor": 1
}
