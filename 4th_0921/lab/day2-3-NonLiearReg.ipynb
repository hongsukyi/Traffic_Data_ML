{
 "cells": [
  {
   "cell_type": "markdown",
   "metadata": {
    "id": "avp9PC2a4qyC"
   },
   "source": [
    "# Tensorflow 2.x로 시작하는 로지스틱 회귀"
   ]
  },
  {
   "cell_type": "code",
   "execution_count": 1,
   "metadata": {
    "scrolled": false
   },
   "outputs": [
    {
     "name": "stdout",
     "output_type": "stream",
     "text": [
      "Epoch 1/20\n",
      "1/1 [==============================] - 1s 1s/step - loss: 0.9428 - mse: 0.0819\n",
      "Epoch 2/20\n",
      "1/1 [==============================] - 0s 10ms/step - loss: 0.9425 - mse: 0.0819\n",
      "Epoch 3/20\n",
      "1/1 [==============================] - 0s 10ms/step - loss: 0.9422 - mse: 0.0819\n",
      "Epoch 4/20\n",
      "1/1 [==============================] - 0s 8ms/step - loss: 0.9419 - mse: 0.0819\n",
      "Epoch 5/20\n",
      "1/1 [==============================] - 0s 7ms/step - loss: 0.9416 - mse: 0.0819\n",
      "Epoch 6/20\n",
      "1/1 [==============================] - 0s 6ms/step - loss: 0.9413 - mse: 0.0819\n",
      "Epoch 7/20\n",
      "1/1 [==============================] - 0s 6ms/step - loss: 0.9410 - mse: 0.0819\n",
      "Epoch 8/20\n",
      "1/1 [==============================] - 0s 6ms/step - loss: 0.9407 - mse: 0.0819\n",
      "Epoch 9/20\n",
      "1/1 [==============================] - 0s 7ms/step - loss: 0.9404 - mse: 0.0819\n",
      "Epoch 10/20\n",
      "1/1 [==============================] - 0s 7ms/step - loss: 0.9401 - mse: 0.0819\n",
      "Epoch 11/20\n",
      "1/1 [==============================] - 0s 8ms/step - loss: 0.9398 - mse: 0.0819\n",
      "Epoch 12/20\n",
      "1/1 [==============================] - 0s 8ms/step - loss: 0.9395 - mse: 0.0819\n",
      "Epoch 13/20\n",
      "1/1 [==============================] - 0s 7ms/step - loss: 0.9392 - mse: 0.0819\n",
      "Epoch 14/20\n",
      "1/1 [==============================] - 0s 7ms/step - loss: 0.9389 - mse: 0.0819\n",
      "Epoch 15/20\n",
      "1/1 [==============================] - 0s 8ms/step - loss: 0.9386 - mse: 0.0819\n",
      "Epoch 16/20\n",
      "1/1 [==============================] - 0s 8ms/step - loss: 0.9383 - mse: 0.0819\n",
      "Epoch 17/20\n",
      "1/1 [==============================] - 0s 10ms/step - loss: 0.9380 - mse: 0.0818\n",
      "Epoch 18/20\n",
      "1/1 [==============================] - 0s 9ms/step - loss: 0.9377 - mse: 0.0818\n",
      "Epoch 19/20\n",
      "1/1 [==============================] - 0s 10ms/step - loss: 0.9374 - mse: 0.0818\n",
      "Epoch 20/20\n",
      "1/1 [==============================] - 0s 10ms/step - loss: 0.9371 - mse: 0.0818\n",
      "1/1 [==============================] - 0s 108ms/step\n",
      "1/1 [==============================] - 0s 104ms/step\n",
      "[[2.8907461e-04]\n",
      " [3.6947664e-02]\n",
      " [1.6365306e-01]\n",
      " [3.0647749e-01]\n",
      " [4.9950400e-01]\n",
      " [6.9267839e-01]\n",
      " [8.3580303e-01]\n",
      " [9.6291089e-01]\n",
      " [9.9250472e-01]\n",
      " [9.9852151e-01]\n",
      " [9.9970978e-01]]\n"
     ]
    },
    {
     "data": {
      "text/plain": [
       "dict_keys(['loss', 'mse'])"
      ]
     },
     "execution_count": 1,
     "metadata": {},
     "output_type": "execute_result"
    },
    {
     "data": {
      "image/png": "[encoded data removed]",
      "text/plain": [
       "<Figure size 432x288 with 1 Axes>"
      ]
     },
     "metadata": {
      "needs_background": "light"
     },
     "output_type": "display_data"
    }
   ],
   "source": [
    "import tensorflow as tf\n",
    "gpus = tf.config.experimental.list_physical_devices('GPU')\n",
    "for gpu in gpus:\n",
    "    tf.config.experimental.set_memory_growth(gpu, True)\n",
    "    \n",
    "import numpy as np\n",
    "from tensorflow.keras.models import Sequential\n",
    "from tensorflow.keras.layers import Dense\n",
    "from tensorflow.keras import optimizers\n",
    "\n",
    "X=np.array([-50, -40, -30, -20, -10, -5, 0, 5, 10, 20, 30, 40, 50])\n",
    "y=np.array([0.01, 0.1, -0.01, 0.02, -0.020, -0.030, 0.03,0.1, 0.99, 0.98, 1.04, 0.9, 1.1])         \n",
    "model=Sequential()\n",
    "model.add(Dense(1, input_dim=1, activation='sigmoid'))\n",
    "learning_rate =0.001\n",
    "sgd=optimizers.SGD(learning_rate)\n",
    "model.compile(optimizer=sgd, loss='binary_crossentropy',metrics=['mse'])\n",
    "\n",
    "history = model.fit(X,y,epochs=40, shuffle=False)\n",
    "import matplotlib.pyplot as plt\n",
    "plt.plot(X, model.predict(X), 'b', X,y, 'k.')\n",
    "print(model.predict([-5, -2, -1, -0.5, 0.0, 0.5, 1,2,3,4,5]))\n",
    "history.history.keys()\n",
    "#plt.plot(history.history['mse'])\n",
    "#plt.plot(history.history['loss'],label='loss')\n",
    "#plt.legend()"
   ]
  },
  {
   "cell_type": "markdown",
   "metadata": {},
   "source": [
    "- learning_rate =0.0001\n",
    "- learning_rate =0.001\n",
    "- learning_rate =0.01\n",
    "- learning_rate =0.1"
   ]
  },
  {
   "cell_type": "code",
   "execution_count": null,
   "metadata": {},
   "outputs": [],
   "source": []
  }
 ],
 "metadata": {
  "colab": {
   "collapsed_sections": [],
   "name": "day1-02-Logistic-Regression.ipynb",
   "provenance": []
  },
  "kernelspec": {
   "display_name": "tf-gpu",
   "language": "python",
   "name": "tf-gpu"
  },
  "language_info": {
   "codemirror_mode": {
    "name": "ipython",
    "version": 3
   },
   "file_extension": ".py",
   "mimetype": "text/x-python",
   "name": "python",
   "nbconvert_exporter": "python",
   "pygments_lexer": "ipython3",
   "version": "3.8.13"
  }
 },
 "nbformat": 4,
 "nbformat_minor": 1
}
