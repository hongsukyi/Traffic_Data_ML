{
 "cells": [
  {
   "cell_type": "markdown",
   "id": "5fcb7ca7",
   "metadata": {},
   "source": [
    "### 코랩에서 Jupyter notebook 단축키 "
   ]
  },
  {
   "cell_type": "markdown",
   "id": "fd17788b",
   "metadata": {},
   "source": [
    "줄을 합칠때:\n",
    "- Shift-'M'"
   ]
  },
  {
   "cell_type": "markdown",
   "id": "021ea076",
   "metadata": {},
   "source": [
    "코드에 넘버링하기: \n",
    "- 실행모드에서 'L'"
   ]
  },
  {
   "cell_type": "code",
   "execution_count": null,
   "id": "7470334c",
   "metadata": {},
   "outputs": [],
   "source": []
  }
 ],
 "metadata": {
  "kernelspec": {
   "display_name": "tf-gpu",
   "language": "python",
   "name": "tf-gpu"
  },
  "language_info": {
   "codemirror_mode": {
    "name": "ipython",
    "version": 3
   },
   "file_extension": ".py",
   "mimetype": "text/x-python",
   "name": "python",
   "nbconvert_exporter": "python",
   "pygments_lexer": "ipython3",
   "version": "3.8.13"
  }
 },
 "nbformat": 4,
 "nbformat_minor": 5
}
