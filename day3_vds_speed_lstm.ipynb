{
 "cells": [
  {
   "cell_type": "markdown",
   "metadata": {},
   "source": [
    "# LSTM을 이용한 교통 흐름 예측"
   ]
  },
  {
   "attachments": {
    "image.png": {
     "image/png": "[encoded data removed]"
    }
   },
   "cell_type": "markdown",
   "metadata": {},
   "source": [
    "![image.png](attachment:image.png)"
   ]
  },
  {
   "cell_type": "markdown",
   "metadata": {},
   "source": [
    "# VDS 데이터를 이용한 교통 흐름 예측 모델 단계 "
   ]
  },
  {
   "cell_type": "markdown",
   "metadata": {},
   "source": [
    "- Data Preprocessing\n",
    "- Building the RNN\n",
    "- Making the prediction and visualization"
   ]
  },
  {
   "cell_type": "code",
   "execution_count": 1,
   "metadata": {},
   "outputs": [],
   "source": [
    "import numpy as np\n",
    "import matplotlib.pyplot as plt\n",
    "import pandas as pd\n",
    "from sklearn.preprocessing import MinMaxScaler"
   ]
  },
  {
   "cell_type": "code",
   "execution_count": 2,
   "metadata": {},
   "outputs": [
    {
     "name": "stderr",
     "output_type": "stream",
     "text": [
      "C:\\Python37\\lib\\site-packages\\ipykernel_launcher.py:1: FutureWarning: The pandas.datetime class is deprecated and will be removed from pandas in a future version. Import from datetime module instead.\n",
      "  \"\"\"Entry point for launching an IPython kernel.\n"
     ]
    }
   ],
   "source": [
    "from pandas import datetime\n",
    "def parser(x):\n",
    "    return datetime.strptime(x, '%Y-%m-%d %H:%M')"
   ]
  },
  {
   "cell_type": "code",
   "execution_count": 3,
   "metadata": {},
   "outputs": [],
   "source": [
    "df = pd.read_csv('./daejeon_vds16.csv',  date_parser=parser)"
   ]
  },
  {
   "cell_type": "code",
   "execution_count": 4,
   "metadata": {},
   "outputs": [
    {
     "data": {
      "text/html": [
       "<div>\n",
       "<style scoped>\n",
       "    .dataframe tbody tr th:only-of-type {\n",
       "        vertical-align: middle;\n",
       "    }\n",
       "\n",
       "    .dataframe tbody tr th {\n",
       "        vertical-align: top;\n",
       "    }\n",
       "\n",
       "    .dataframe thead th {\n",
       "        text-align: right;\n",
       "    }\n",
       "</style>\n",
       "<table border=\"1\" class=\"dataframe\">\n",
       "  <thead>\n",
       "    <tr style=\"text-align: right;\">\n",
       "      <th></th>\n",
       "      <th>Date</th>\n",
       "      <th>ToVol</th>\n",
       "      <th>SmVol</th>\n",
       "      <th>MeVol</th>\n",
       "      <th>LaVol</th>\n",
       "      <th>Speed</th>\n",
       "      <th>Occ.Rate</th>\n",
       "    </tr>\n",
       "  </thead>\n",
       "  <tbody>\n",
       "    <tr>\n",
       "      <th>0</th>\n",
       "      <td>2017-04-02 0:00</td>\n",
       "      <td>43</td>\n",
       "      <td>34</td>\n",
       "      <td>9</td>\n",
       "      <td>0</td>\n",
       "      <td>50.3</td>\n",
       "      <td>1.90</td>\n",
       "    </tr>\n",
       "    <tr>\n",
       "      <th>1</th>\n",
       "      <td>2017-04-02 0:05</td>\n",
       "      <td>45</td>\n",
       "      <td>32</td>\n",
       "      <td>13</td>\n",
       "      <td>0</td>\n",
       "      <td>58.9</td>\n",
       "      <td>1.84</td>\n",
       "    </tr>\n",
       "    <tr>\n",
       "      <th>2</th>\n",
       "      <td>2017-04-02 0:10</td>\n",
       "      <td>46</td>\n",
       "      <td>34</td>\n",
       "      <td>12</td>\n",
       "      <td>0</td>\n",
       "      <td>50.6</td>\n",
       "      <td>1.87</td>\n",
       "    </tr>\n",
       "    <tr>\n",
       "      <th>3</th>\n",
       "      <td>2017-04-02 0:15</td>\n",
       "      <td>45</td>\n",
       "      <td>36</td>\n",
       "      <td>9</td>\n",
       "      <td>0</td>\n",
       "      <td>50.9</td>\n",
       "      <td>1.72</td>\n",
       "    </tr>\n",
       "    <tr>\n",
       "      <th>4</th>\n",
       "      <td>2017-04-02 0:20</td>\n",
       "      <td>27</td>\n",
       "      <td>13</td>\n",
       "      <td>13</td>\n",
       "      <td>1</td>\n",
       "      <td>62.2</td>\n",
       "      <td>1.12</td>\n",
       "    </tr>\n",
       "  </tbody>\n",
       "</table>\n",
       "</div>"
      ],
      "text/plain": [
       "              Date  ToVol  SmVol  MeVol  LaVol  Speed  Occ.Rate\n",
       "0  2017-04-02 0:00     43     34      9      0   50.3      1.90\n",
       "1  2017-04-02 0:05     45     32     13      0   58.9      1.84\n",
       "2  2017-04-02 0:10     46     34     12      0   50.6      1.87\n",
       "3  2017-04-02 0:15     45     36      9      0   50.9      1.72\n",
       "4  2017-04-02 0:20     27     13     13      1   62.2      1.12"
      ]
     },
     "execution_count": 4,
     "metadata": {},
     "output_type": "execute_result"
    }
   ],
   "source": [
    "df.head()"
   ]
  },
  {
   "cell_type": "code",
   "execution_count": 5,
   "metadata": {},
   "outputs": [
    {
     "data": {
      "text/plain": [
       "(8064, 7)"
      ]
     },
     "execution_count": 5,
     "metadata": {},
     "output_type": "execute_result"
    }
   ],
   "source": [
    "df.shape"
   ]
  },
  {
   "cell_type": "code",
   "execution_count": 6,
   "metadata": {
    "scrolled": true
   },
   "outputs": [
    {
     "data": {
      "text/html": [
       "<div>\n",
       "<style scoped>\n",
       "    .dataframe tbody tr th:only-of-type {\n",
       "        vertical-align: middle;\n",
       "    }\n",
       "\n",
       "    .dataframe tbody tr th {\n",
       "        vertical-align: top;\n",
       "    }\n",
       "\n",
       "    .dataframe thead th {\n",
       "        text-align: right;\n",
       "    }\n",
       "</style>\n",
       "<table border=\"1\" class=\"dataframe\">\n",
       "  <thead>\n",
       "    <tr style=\"text-align: right;\">\n",
       "      <th></th>\n",
       "      <th>Date</th>\n",
       "      <th>ToVol</th>\n",
       "      <th>SmVol</th>\n",
       "      <th>MeVol</th>\n",
       "      <th>LaVol</th>\n",
       "      <th>Speed</th>\n",
       "      <th>Occ.Rate</th>\n",
       "    </tr>\n",
       "  </thead>\n",
       "  <tbody>\n",
       "    <tr>\n",
       "      <th>8059</th>\n",
       "      <td>2017-04-29 23:35</td>\n",
       "      <td>45</td>\n",
       "      <td>35</td>\n",
       "      <td>10</td>\n",
       "      <td>0</td>\n",
       "      <td>51.3</td>\n",
       "      <td>2.01</td>\n",
       "    </tr>\n",
       "    <tr>\n",
       "      <th>8060</th>\n",
       "      <td>2017-04-29 23:40</td>\n",
       "      <td>47</td>\n",
       "      <td>33</td>\n",
       "      <td>14</td>\n",
       "      <td>0</td>\n",
       "      <td>53.9</td>\n",
       "      <td>1.89</td>\n",
       "    </tr>\n",
       "    <tr>\n",
       "      <th>8061</th>\n",
       "      <td>2017-04-29 23:45</td>\n",
       "      <td>32</td>\n",
       "      <td>28</td>\n",
       "      <td>4</td>\n",
       "      <td>0</td>\n",
       "      <td>50.6</td>\n",
       "      <td>1.36</td>\n",
       "    </tr>\n",
       "    <tr>\n",
       "      <th>8062</th>\n",
       "      <td>2017-04-29 23:50</td>\n",
       "      <td>31</td>\n",
       "      <td>21</td>\n",
       "      <td>10</td>\n",
       "      <td>0</td>\n",
       "      <td>59.3</td>\n",
       "      <td>1.40</td>\n",
       "    </tr>\n",
       "    <tr>\n",
       "      <th>8063</th>\n",
       "      <td>2017-04-29 23:55</td>\n",
       "      <td>39</td>\n",
       "      <td>33</td>\n",
       "      <td>6</td>\n",
       "      <td>0</td>\n",
       "      <td>52.5</td>\n",
       "      <td>1.74</td>\n",
       "    </tr>\n",
       "  </tbody>\n",
       "</table>\n",
       "</div>"
      ],
      "text/plain": [
       "                  Date  ToVol  SmVol  MeVol  LaVol  Speed  Occ.Rate\n",
       "8059  2017-04-29 23:35     45     35     10      0   51.3      2.01\n",
       "8060  2017-04-29 23:40     47     33     14      0   53.9      1.89\n",
       "8061  2017-04-29 23:45     32     28      4      0   50.6      1.36\n",
       "8062  2017-04-29 23:50     31     21     10      0   59.3      1.40\n",
       "8063  2017-04-29 23:55     39     33      6      0   52.5      1.74"
      ]
     },
     "execution_count": 6,
     "metadata": {},
     "output_type": "execute_result"
    }
   ],
   "source": [
    "df.tail()"
   ]
  },
  {
   "cell_type": "markdown",
   "metadata": {},
   "source": [
    "## 정규화를 위하여 'Data' 특성을 제외하자"
   ]
  },
  {
   "cell_type": "code",
   "execution_count": 7,
   "metadata": {},
   "outputs": [],
   "source": [
    "data_training  = df[df['Date'] <'2017-04-28'].copy() \n",
    "data_test = df[df['Date'] >='2017-04-28'].copy()"
   ]
  },
  {
   "cell_type": "markdown",
   "metadata": {},
   "source": [
    "### Speed(속도) 데이터만을 선택해보자"
   ]
  },
  {
   "cell_type": "code",
   "execution_count": 8,
   "metadata": {},
   "outputs": [],
   "source": [
    "data_training = data_training.drop(['Date','ToVol','SmVol','MeVol','LaVol','Occ.Rate'], axis = 1)\n",
    "data_test = data_test.drop(['Date','ToVol','SmVol','MeVol','LaVol','Occ.Rate'], axis = 1)"
   ]
  },
  {
   "cell_type": "code",
   "execution_count": 9,
   "metadata": {},
   "outputs": [
    {
     "data": {
      "text/html": [
       "<div>\n",
       "<style scoped>\n",
       "    .dataframe tbody tr th:only-of-type {\n",
       "        vertical-align: middle;\n",
       "    }\n",
       "\n",
       "    .dataframe tbody tr th {\n",
       "        vertical-align: top;\n",
       "    }\n",
       "\n",
       "    .dataframe thead th {\n",
       "        text-align: right;\n",
       "    }\n",
       "</style>\n",
       "<table border=\"1\" class=\"dataframe\">\n",
       "  <thead>\n",
       "    <tr style=\"text-align: right;\">\n",
       "      <th></th>\n",
       "      <th>Speed</th>\n",
       "    </tr>\n",
       "  </thead>\n",
       "  <tbody>\n",
       "    <tr>\n",
       "      <th>0</th>\n",
       "      <td>50.3</td>\n",
       "    </tr>\n",
       "    <tr>\n",
       "      <th>1</th>\n",
       "      <td>58.9</td>\n",
       "    </tr>\n",
       "    <tr>\n",
       "      <th>2</th>\n",
       "      <td>50.6</td>\n",
       "    </tr>\n",
       "    <tr>\n",
       "      <th>3</th>\n",
       "      <td>50.9</td>\n",
       "    </tr>\n",
       "    <tr>\n",
       "      <th>4</th>\n",
       "      <td>62.2</td>\n",
       "    </tr>\n",
       "  </tbody>\n",
       "</table>\n",
       "</div>"
      ],
      "text/plain": [
       "   Speed\n",
       "0   50.3\n",
       "1   58.9\n",
       "2   50.6\n",
       "3   50.9\n",
       "4   62.2"
      ]
     },
     "execution_count": 9,
     "metadata": {},
     "output_type": "execute_result"
    }
   ],
   "source": [
    "data_training.head()"
   ]
  },
  {
   "cell_type": "markdown",
   "metadata": {},
   "source": [
    "## 정규화 "
   ]
  },
  {
   "cell_type": "code",
   "execution_count": 10,
   "metadata": {},
   "outputs": [],
   "source": [
    "scaler = MinMaxScaler()\n",
    "data_training = scaler.fit_transform(data_training)\n",
    "data_test = scaler.fit_transform(data_test)"
   ]
  },
  {
   "cell_type": "code",
   "execution_count": 11,
   "metadata": {},
   "outputs": [
    {
     "data": {
      "text/plain": [
       "(7488, 1)"
      ]
     },
     "execution_count": 11,
     "metadata": {},
     "output_type": "execute_result"
    }
   ],
   "source": [
    "data_training.shape"
   ]
  },
  {
   "cell_type": "code",
   "execution_count": 12,
   "metadata": {},
   "outputs": [
    {
     "data": {
      "text/plain": [
       "(576, 1)"
      ]
     },
     "execution_count": 12,
     "metadata": {},
     "output_type": "execute_result"
    }
   ],
   "source": [
    "data_test.shape"
   ]
  },
  {
   "cell_type": "markdown",
   "metadata": {},
   "source": [
    "# RNN을 위하여 데이터를 재구성하자.\n",
    "### Loop_Back = 60으로 설정하자.\n",
    "### 예측은 단일 예측 1개로 즉, 5분단위\n",
    "create RNN with 60 timesteps, i.e. look 60 previous time steps"
   ]
  },
  {
   "cell_type": "code",
   "execution_count": 13,
   "metadata": {},
   "outputs": [],
   "source": [
    "X_train = []\n",
    "y_train = []\n",
    "X_test = []\n",
    "y_test = []"
   ]
  },
  {
   "cell_type": "code",
   "execution_count": 14,
   "metadata": {},
   "outputs": [
    {
     "data": {
      "text/plain": [
       "7488"
      ]
     },
     "execution_count": 14,
     "metadata": {},
     "output_type": "execute_result"
    }
   ],
   "source": [
    "data_training.shape[0]"
   ]
  },
  {
   "cell_type": "code",
   "execution_count": 15,
   "metadata": {},
   "outputs": [
    {
     "data": {
      "text/plain": [
       "576"
      ]
     },
     "execution_count": 15,
     "metadata": {},
     "output_type": "execute_result"
    }
   ],
   "source": [
    "data_test.shape[0]"
   ]
  },
  {
   "cell_type": "markdown",
   "metadata": {},
   "source": [
    "### train 데이터를 RNN 구조로 만들자"
   ]
  },
  {
   "cell_type": "code",
   "execution_count": 16,
   "metadata": {},
   "outputs": [],
   "source": [
    "for i in range(60, data_training.shape[0]):\n",
    "    X_train.append(data_training[i-60:i])\n",
    "    y_train.append(data_training[i, 0])"
   ]
  },
  {
   "cell_type": "code",
   "execution_count": 17,
   "metadata": {},
   "outputs": [],
   "source": [
    "X_train, y_train = np.array(X_train), np.array(y_train)"
   ]
  },
  {
   "cell_type": "code",
   "execution_count": 18,
   "metadata": {
    "scrolled": true
   },
   "outputs": [
    {
     "data": {
      "text/plain": [
       "(7428, 60, 1)"
      ]
     },
     "execution_count": 18,
     "metadata": {},
     "output_type": "execute_result"
    }
   ],
   "source": [
    "X_train.shape"
   ]
  },
  {
   "cell_type": "markdown",
   "metadata": {},
   "source": [
    "### test 데이터에도 같은 구조로 해주자"
   ]
  },
  {
   "cell_type": "code",
   "execution_count": 19,
   "metadata": {},
   "outputs": [],
   "source": [
    "for i in range(60, data_test.shape[0]):\n",
    "    X_test.append(data_test[i-60:i])\n",
    "    y_test.append(data_test[i, 0])"
   ]
  },
  {
   "cell_type": "code",
   "execution_count": 20,
   "metadata": {},
   "outputs": [],
   "source": [
    "X_test, y_test = np.array(X_test), np.array(y_test)"
   ]
  },
  {
   "cell_type": "code",
   "execution_count": 21,
   "metadata": {},
   "outputs": [
    {
     "data": {
      "text/plain": [
       "((516, 60, 1), (516,))"
      ]
     },
     "execution_count": 21,
     "metadata": {},
     "output_type": "execute_result"
    }
   ],
   "source": [
    "X_test.shape, y_test.shape"
   ]
  },
  {
   "cell_type": "markdown",
   "metadata": {},
   "source": [
    "### Building LSTM "
   ]
  },
  {
   "cell_type": "code",
   "execution_count": 22,
   "metadata": {},
   "outputs": [],
   "source": [
    "from tensorflow.keras import Sequential\n",
    "from tensorflow.keras.layers import Dense, LSTM, Dropout"
   ]
  },
  {
   "cell_type": "code",
   "execution_count": 23,
   "metadata": {},
   "outputs": [
    {
     "name": "stdout",
     "output_type": "stream",
     "text": [
      "WARNING:tensorflow:Layer lstm will not use cuDNN kernels since it doesn't meet the criteria. It will use a generic GPU kernel as fallback when running on GPU.\n",
      "WARNING:tensorflow:Layer lstm_1 will not use cuDNN kernels since it doesn't meet the criteria. It will use a generic GPU kernel as fallback when running on GPU.\n"
     ]
    }
   ],
   "source": [
    "model = Sequential()\n",
    "model.add(LSTM(units = 60, activation = 'relu', return_sequences = True,\n",
    "               input_shape = (X_train.shape[1], 1)))\n",
    "model.add(LSTM(units = 60, activation = 'sigmoid'))\n",
    "\n",
    "model.add(Dense(units = 1))"
   ]
  },
  {
   "cell_type": "code",
   "execution_count": 24,
   "metadata": {
    "scrolled": true
   },
   "outputs": [
    {
     "name": "stdout",
     "output_type": "stream",
     "text": [
      "Model: \"sequential\"\n",
      "_________________________________________________________________\n",
      " Layer (type)                Output Shape              Param #   \n",
      "=================================================================\n",
      " lstm (LSTM)                 (None, 60, 60)            14880     \n",
      "                                                                 \n",
      " lstm_1 (LSTM)               (None, 60)                29040     \n",
      "                                                                 \n",
      " dense (Dense)               (None, 1)                 61        \n",
      "                                                                 \n",
      "=================================================================\n",
      "Total params: 43,981\n",
      "Trainable params: 43,981\n",
      "Non-trainable params: 0\n",
      "_________________________________________________________________\n"
     ]
    }
   ],
   "source": [
    "model.summary()"
   ]
  },
  {
   "cell_type": "code",
   "execution_count": 25,
   "metadata": {},
   "outputs": [],
   "source": [
    "model.compile(optimizer='adam', loss = 'mean_squared_error',\n",
    "             metrics =['accuracy'])"
   ]
  },
  {
   "cell_type": "code",
   "execution_count": 26,
   "metadata": {
    "scrolled": true
   },
   "outputs": [
    {
     "name": "stdout",
     "output_type": "stream",
     "text": [
      "Epoch 1/3\n",
      "30/30 [==============================] - 26s 775ms/step - loss: 0.0914 - accuracy: 1.3463e-04\n",
      "Epoch 2/3\n",
      "30/30 [==============================] - 23s 754ms/step - loss: 0.0124 - accuracy: 1.3463e-04\n",
      "Epoch 3/3\n",
      "30/30 [==============================] - 23s 757ms/step - loss: 0.0092 - accuracy: 2.6925e-04\n"
     ]
    }
   ],
   "source": [
    "history= model.fit(X_train, y_train, epochs=5, batch_size=256)"
   ]
  },
  {
   "cell_type": "code",
   "execution_count": 27,
   "metadata": {},
   "outputs": [
    {
     "name": "stdout",
     "output_type": "stream",
     "text": [
      "{'loss': [0.09142845124006271, 0.01238595973700285, 0.009211527183651924], 'accuracy': [0.00013462573406286538, 0.00013462573406286538, 0.00026925146812573075]}\n"
     ]
    }
   ],
   "source": [
    "print(history.history)"
   ]
  },
  {
   "cell_type": "code",
   "execution_count": 28,
   "metadata": {
    "scrolled": true
   },
   "outputs": [
    {
     "data": {
      "text/plain": [
       "dict_keys(['loss', 'accuracy'])"
      ]
     },
     "execution_count": 28,
     "metadata": {},
     "output_type": "execute_result"
    }
   ],
   "source": [
    "history.history.keys()"
   ]
  },
  {
   "cell_type": "markdown",
   "metadata": {},
   "source": [
    "### Prepare test dataset "
   ]
  },
  {
   "cell_type": "code",
   "execution_count": 29,
   "metadata": {},
   "outputs": [],
   "source": [
    "X_test, y_test = np.array(X_test), np.array(y_test)"
   ]
  },
  {
   "cell_type": "code",
   "execution_count": 30,
   "metadata": {},
   "outputs": [
    {
     "data": {
      "text/plain": [
       "((516, 60, 1), (516,))"
      ]
     },
     "execution_count": 30,
     "metadata": {},
     "output_type": "execute_result"
    }
   ],
   "source": [
    "X_test.shape, y_test.shape"
   ]
  },
  {
   "cell_type": "code",
   "execution_count": 41,
   "metadata": {},
   "outputs": [
    {
     "name": "stdout",
     "output_type": "stream",
     "text": [
      "5/5 [==============================] - 0s 70ms/step - loss: 1387.8113 - accuracy: 0.0019\n"
     ]
    },
    {
     "data": {
      "text/plain": [
       "[1387.811279296875, 0.0019379844889044762]"
      ]
     },
     "execution_count": 41,
     "metadata": {},
     "output_type": "execute_result"
    }
   ],
   "source": [
    "model.evaluate(X_test, y_test, batch_size=128)"
   ]
  },
  {
   "cell_type": "code",
   "execution_count": 31,
   "metadata": {},
   "outputs": [],
   "source": [
    "y_pred = model.predict(X_test)"
   ]
  },
  {
   "cell_type": "code",
   "execution_count": 32,
   "metadata": {},
   "outputs": [
    {
     "data": {
      "text/plain": [
       "array([[0.5196103 ],\n",
       "       [0.51958615],\n",
       "       [0.51965153],\n",
       "       [0.5210893 ],\n",
       "       [0.52114886],\n",
       "       [0.52041614],\n",
       "       [0.521863  ],\n",
       "       [0.5225507 ],\n",
       "       [0.52398515],\n",
       "       [0.52527   ],\n",
       "       [0.5271542 ],\n",
       "       [0.52746594],\n",
       "       [0.5268582 ],\n",
       "       [0.5265019 ],\n",
       "       [0.5261961 ],\n",
       "       [0.5254935 ],\n",
       "       [0.52421784],\n",
       "       [0.5244183 ],\n",
       "       [0.52369386],\n",
       "       [0.5244552 ],\n",
       "       [0.5236645 ],\n",
       "       [0.5229633 ],\n",
       "       [0.52328604],\n",
       "       [0.5230562 ],\n",
       "       [0.5222318 ],\n",
       "       [0.5213609 ],\n",
       "       [0.52063173],\n",
       "       [0.51972955],\n",
       "       [0.5178206 ],\n",
       "       [0.5158281 ],\n",
       "       [0.5132814 ],\n",
       "       [0.51089394],\n",
       "       [0.5081454 ],\n",
       "       [0.5060609 ],\n",
       "       [0.5048417 ],\n",
       "       [0.50446594],\n",
       "       [0.5041324 ],\n",
       "       [0.5030101 ],\n",
       "       [0.5023257 ],\n",
       "       [0.50136155],\n",
       "       [0.50168383],\n",
       "       [0.5002449 ],\n",
       "       [0.499008  ],\n",
       "       [0.49797472],\n",
       "       [0.49783227],\n",
       "       [0.49880937],\n",
       "       [0.49964124],\n",
       "       [0.50094754],\n",
       "       [0.5025814 ],\n",
       "       [0.50417   ],\n",
       "       [0.5059529 ],\n",
       "       [0.50716376],\n",
       "       [0.508392  ],\n",
       "       [0.50941867],\n",
       "       [0.5083648 ],\n",
       "       [0.5088782 ],\n",
       "       [0.50935686],\n",
       "       [0.5096847 ],\n",
       "       [0.5102335 ],\n",
       "       [0.5107994 ],\n",
       "       [0.511162  ],\n",
       "       [0.51100695],\n",
       "       [0.5110426 ],\n",
       "       [0.51093006],\n",
       "       [0.51048857],\n",
       "       [0.5115718 ],\n",
       "       [0.512748  ],\n",
       "       [0.5130726 ],\n",
       "       [0.51346415],\n",
       "       [0.5141542 ],\n",
       "       [0.5137011 ],\n",
       "       [0.5143725 ],\n",
       "       [0.5149087 ],\n",
       "       [0.514002  ],\n",
       "       [0.5142501 ],\n",
       "       [0.5137685 ],\n",
       "       [0.51353115],\n",
       "       [0.5137739 ],\n",
       "       [0.5137211 ],\n",
       "       [0.51267654],\n",
       "       [0.51253885],\n",
       "       [0.5119715 ],\n",
       "       [0.51127315],\n",
       "       [0.5098939 ],\n",
       "       [0.5093133 ],\n",
       "       [0.5093463 ],\n",
       "       [0.51002216],\n",
       "       [0.5102857 ],\n",
       "       [0.51058847],\n",
       "       [0.51075107],\n",
       "       [0.51126486],\n",
       "       [0.51138693],\n",
       "       [0.511705  ],\n",
       "       [0.51193815],\n",
       "       [0.51196164],\n",
       "       [0.51247066],\n",
       "       [0.5130376 ],\n",
       "       [0.5132432 ],\n",
       "       [0.51288843],\n",
       "       [0.51344323],\n",
       "       [0.5131505 ],\n",
       "       [0.5127704 ],\n",
       "       [0.5114929 ],\n",
       "       [0.5107849 ],\n",
       "       [0.5098514 ],\n",
       "       [0.5095781 ],\n",
       "       [0.5105247 ],\n",
       "       [0.51065195],\n",
       "       [0.5109533 ],\n",
       "       [0.51064104],\n",
       "       [0.5104182 ],\n",
       "       [0.5105168 ],\n",
       "       [0.51016027],\n",
       "       [0.50976354],\n",
       "       [0.5098207 ],\n",
       "       [0.5100063 ],\n",
       "       [0.5097332 ],\n",
       "       [0.50976   ],\n",
       "       [0.5096427 ],\n",
       "       [0.509624  ],\n",
       "       [0.5086771 ],\n",
       "       [0.50795484],\n",
       "       [0.5080095 ],\n",
       "       [0.50804484],\n",
       "       [0.5077348 ],\n",
       "       [0.508347  ],\n",
       "       [0.5091295 ],\n",
       "       [0.50991005],\n",
       "       [0.5104107 ],\n",
       "       [0.510419  ],\n",
       "       [0.5107031 ],\n",
       "       [0.51031137],\n",
       "       [0.51037645],\n",
       "       [0.5099156 ],\n",
       "       [0.5097001 ],\n",
       "       [0.5089085 ],\n",
       "       [0.5081216 ],\n",
       "       [0.50790197],\n",
       "       [0.50874275],\n",
       "       [0.5088794 ],\n",
       "       [0.5092788 ],\n",
       "       [0.5090755 ],\n",
       "       [0.50964236],\n",
       "       [0.5104631 ],\n",
       "       [0.5107171 ],\n",
       "       [0.5115867 ],\n",
       "       [0.5110103 ],\n",
       "       [0.510095  ],\n",
       "       [0.50952107],\n",
       "       [0.5098389 ],\n",
       "       [0.5097828 ],\n",
       "       [0.509806  ],\n",
       "       [0.50983596],\n",
       "       [0.50928015],\n",
       "       [0.5102017 ],\n",
       "       [0.5086487 ],\n",
       "       [0.5072179 ],\n",
       "       [0.5058152 ],\n",
       "       [0.5050838 ],\n",
       "       [0.50207007],\n",
       "       [0.49899125],\n",
       "       [0.49544165],\n",
       "       [0.49262306],\n",
       "       [0.4907405 ],\n",
       "       [0.48904243],\n",
       "       [0.48900074],\n",
       "       [0.49097857],\n",
       "       [0.49134192],\n",
       "       [0.49279562],\n",
       "       [0.49390963],\n",
       "       [0.49672407],\n",
       "       [0.49870804],\n",
       "       [0.49975497],\n",
       "       [0.50122625],\n",
       "       [0.5024317 ],\n",
       "       [0.5028507 ],\n",
       "       [0.50363886],\n",
       "       [0.5035585 ],\n",
       "       [0.50440407],\n",
       "       [0.5041151 ],\n",
       "       [0.5045565 ],\n",
       "       [0.5044596 ],\n",
       "       [0.5056339 ],\n",
       "       [0.5060351 ],\n",
       "       [0.50583994],\n",
       "       [0.5064995 ],\n",
       "       [0.50682074],\n",
       "       [0.50725955],\n",
       "       [0.506752  ],\n",
       "       [0.50676256],\n",
       "       [0.50692564],\n",
       "       [0.50746834],\n",
       "       [0.5071698 ],\n",
       "       [0.5066502 ],\n",
       "       [0.5055158 ],\n",
       "       [0.505345  ],\n",
       "       [0.5049253 ],\n",
       "       [0.5055271 ],\n",
       "       [0.5056544 ],\n",
       "       [0.5063083 ],\n",
       "       [0.50611514],\n",
       "       [0.50626993],\n",
       "       [0.5067961 ],\n",
       "       [0.5071907 ],\n",
       "       [0.50707865],\n",
       "       [0.507095  ],\n",
       "       [0.5070114 ],\n",
       "       [0.5075965 ],\n",
       "       [0.5074942 ],\n",
       "       [0.5076346 ],\n",
       "       [0.50769293],\n",
       "       [0.50838786],\n",
       "       [0.5088354 ],\n",
       "       [0.50915754],\n",
       "       [0.50914204],\n",
       "       [0.5107985 ],\n",
       "       [0.5112919 ],\n",
       "       [0.5116174 ],\n",
       "       [0.51292104],\n",
       "       [0.5134746 ],\n",
       "       [0.51385003],\n",
       "       [0.5138452 ],\n",
       "       [0.51460654],\n",
       "       [0.5146074 ],\n",
       "       [0.5149445 ],\n",
       "       [0.51656127],\n",
       "       [0.51768357],\n",
       "       [0.5186124 ],\n",
       "       [0.5184126 ],\n",
       "       [0.52034724],\n",
       "       [0.521583  ],\n",
       "       [0.5221307 ],\n",
       "       [0.52122694],\n",
       "       [0.5216049 ],\n",
       "       [0.5222002 ],\n",
       "       [0.52252686],\n",
       "       [0.52275217],\n",
       "       [0.5216152 ],\n",
       "       [0.5208806 ],\n",
       "       [0.52116215],\n",
       "       [0.5213646 ],\n",
       "       [0.5214563 ],\n",
       "       [0.52327967],\n",
       "       [0.52356994],\n",
       "       [0.52420765],\n",
       "       [0.5239481 ],\n",
       "       [0.5246922 ],\n",
       "       [0.5244422 ],\n",
       "       [0.52459335],\n",
       "       [0.5259098 ],\n",
       "       [0.52577025],\n",
       "       [0.5255455 ],\n",
       "       [0.52664375],\n",
       "       [0.52914935],\n",
       "       [0.529303  ],\n",
       "       [0.5285618 ],\n",
       "       [0.5274993 ],\n",
       "       [0.5284158 ],\n",
       "       [0.52808845],\n",
       "       [0.528352  ],\n",
       "       [0.5291048 ],\n",
       "       [0.5294255 ],\n",
       "       [0.52900267],\n",
       "       [0.5274618 ],\n",
       "       [0.5275957 ],\n",
       "       [0.5275751 ],\n",
       "       [0.52906483],\n",
       "       [0.52922434],\n",
       "       [0.52871734],\n",
       "       [0.5285828 ],\n",
       "       [0.5277916 ],\n",
       "       [0.53047866],\n",
       "       [0.5305533 ],\n",
       "       [0.5314395 ],\n",
       "       [0.5315576 ],\n",
       "       [0.5313772 ],\n",
       "       [0.5296421 ],\n",
       "       [0.5280449 ],\n",
       "       [0.5286471 ],\n",
       "       [0.52920324],\n",
       "       [0.5274031 ],\n",
       "       [0.52782077],\n",
       "       [0.52878666],\n",
       "       [0.5303944 ],\n",
       "       [0.5292688 ],\n",
       "       [0.5281733 ],\n",
       "       [0.52868414],\n",
       "       [0.52795666],\n",
       "       [0.528111  ],\n",
       "       [0.52620494],\n",
       "       [0.5283975 ],\n",
       "       [0.5288089 ],\n",
       "       [0.5274339 ],\n",
       "       [0.52579343],\n",
       "       [0.5247157 ],\n",
       "       [0.5265447 ],\n",
       "       [0.5264958 ],\n",
       "       [0.52786165],\n",
       "       [0.530329  ],\n",
       "       [0.530697  ],\n",
       "       [0.5289797 ],\n",
       "       [0.52694094],\n",
       "       [0.52501166],\n",
       "       [0.5251534 ],\n",
       "       [0.52263266],\n",
       "       [0.5226941 ],\n",
       "       [0.52164096],\n",
       "       [0.5216414 ],\n",
       "       [0.5209906 ],\n",
       "       [0.52069885],\n",
       "       [0.51865196],\n",
       "       [0.5168044 ],\n",
       "       [0.51550907],\n",
       "       [0.5151354 ],\n",
       "       [0.51525676],\n",
       "       [0.5148568 ],\n",
       "       [0.51455545],\n",
       "       [0.51298076],\n",
       "       [0.51248354],\n",
       "       [0.5127127 ],\n",
       "       [0.51232195],\n",
       "       [0.5119618 ],\n",
       "       [0.5109793 ],\n",
       "       [0.5109621 ],\n",
       "       [0.5110643 ],\n",
       "       [0.5113802 ],\n",
       "       [0.5106492 ],\n",
       "       [0.51237947],\n",
       "       [0.51337695],\n",
       "       [0.51089036],\n",
       "       [0.5065576 ],\n",
       "       [0.5002862 ],\n",
       "       [0.49428105],\n",
       "       [0.48859954],\n",
       "       [0.48413396],\n",
       "       [0.481625  ],\n",
       "       [0.47950086],\n",
       "       [0.4773292 ],\n",
       "       [0.4762533 ],\n",
       "       [0.4770605 ],\n",
       "       [0.47919324],\n",
       "       [0.484092  ],\n",
       "       [0.48872063],\n",
       "       [0.4936391 ],\n",
       "       [0.49688655],\n",
       "       [0.50019485],\n",
       "       [0.50243753],\n",
       "       [0.503829  ],\n",
       "       [0.50530565],\n",
       "       [0.5074634 ],\n",
       "       [0.5075968 ],\n",
       "       [0.5089104 ],\n",
       "       [0.5085579 ],\n",
       "       [0.50919557],\n",
       "       [0.50993955],\n",
       "       [0.5102481 ],\n",
       "       [0.5094582 ],\n",
       "       [0.5105587 ],\n",
       "       [0.51022756],\n",
       "       [0.5106149 ],\n",
       "       [0.51021415],\n",
       "       [0.50999475],\n",
       "       [0.51037985],\n",
       "       [0.51053834],\n",
       "       [0.5103954 ],\n",
       "       [0.50957763],\n",
       "       [0.5083239 ],\n",
       "       [0.5073266 ],\n",
       "       [0.50718063],\n",
       "       [0.5057929 ],\n",
       "       [0.50343287],\n",
       "       [0.50095695],\n",
       "       [0.49728724],\n",
       "       [0.4949954 ],\n",
       "       [0.49197897],\n",
       "       [0.4900496 ],\n",
       "       [0.49299797],\n",
       "       [0.4948468 ],\n",
       "       [0.49760848],\n",
       "       [0.5000671 ],\n",
       "       [0.5015338 ],\n",
       "       [0.5025256 ],\n",
       "       [0.5034461 ],\n",
       "       [0.50439644],\n",
       "       [0.50462   ],\n",
       "       [0.5045396 ],\n",
       "       [0.5050707 ],\n",
       "       [0.50525945],\n",
       "       [0.50587374],\n",
       "       [0.50607806],\n",
       "       [0.5067279 ],\n",
       "       [0.5070707 ],\n",
       "       [0.5067017 ],\n",
       "       [0.5066448 ],\n",
       "       [0.5063496 ],\n",
       "       [0.50637466],\n",
       "       [0.5066271 ],\n",
       "       [0.5072596 ],\n",
       "       [0.5075209 ],\n",
       "       [0.508258  ],\n",
       "       [0.50866264],\n",
       "       [0.5080407 ],\n",
       "       [0.5073619 ],\n",
       "       [0.5074193 ],\n",
       "       [0.5072628 ],\n",
       "       [0.50786597],\n",
       "       [0.50672   ],\n",
       "       [0.5074546 ],\n",
       "       [0.50680715],\n",
       "       [0.5059324 ],\n",
       "       [0.5062176 ],\n",
       "       [0.50631255],\n",
       "       [0.50734156],\n",
       "       [0.5073367 ],\n",
       "       [0.5075308 ],\n",
       "       [0.5072374 ],\n",
       "       [0.5058009 ],\n",
       "       [0.5062852 ],\n",
       "       [0.50576705],\n",
       "       [0.505966  ],\n",
       "       [0.505726  ],\n",
       "       [0.5055481 ],\n",
       "       [0.5050115 ],\n",
       "       [0.5044531 ],\n",
       "       [0.50456494],\n",
       "       [0.50459915],\n",
       "       [0.50496864],\n",
       "       [0.5052799 ],\n",
       "       [0.5059059 ],\n",
       "       [0.50632334],\n",
       "       [0.50622505],\n",
       "       [0.50655055],\n",
       "       [0.5068833 ],\n",
       "       [0.5069562 ],\n",
       "       [0.50689155],\n",
       "       [0.50664157],\n",
       "       [0.50752586],\n",
       "       [0.50799316],\n",
       "       [0.5091652 ],\n",
       "       [0.5088532 ],\n",
       "       [0.50908303],\n",
       "       [0.50981003],\n",
       "       [0.5100839 ],\n",
       "       [0.5101689 ],\n",
       "       [0.50947535],\n",
       "       [0.5090911 ],\n",
       "       [0.50905013],\n",
       "       [0.50896966],\n",
       "       [0.50854075],\n",
       "       [0.5071837 ],\n",
       "       [0.5055779 ],\n",
       "       [0.50492865],\n",
       "       [0.50411797],\n",
       "       [0.50327605],\n",
       "       [0.5019732 ],\n",
       "       [0.5018296 ],\n",
       "       [0.49965802],\n",
       "       [0.4969819 ],\n",
       "       [0.4957469 ],\n",
       "       [0.49395248],\n",
       "       [0.4942132 ],\n",
       "       [0.49651036],\n",
       "       [0.49839234],\n",
       "       [0.50012255],\n",
       "       [0.5011845 ],\n",
       "       [0.5027323 ],\n",
       "       [0.50346994],\n",
       "       [0.503842  ],\n",
       "       [0.5042653 ],\n",
       "       [0.50444293],\n",
       "       [0.5048991 ],\n",
       "       [0.5053557 ],\n",
       "       [0.5057892 ],\n",
       "       [0.5066335 ],\n",
       "       [0.5073658 ],\n",
       "       [0.50791097],\n",
       "       [0.5088131 ],\n",
       "       [0.50885123],\n",
       "       [0.5085406 ],\n",
       "       [0.50853896],\n",
       "       [0.5089422 ],\n",
       "       [0.5098881 ],\n",
       "       [0.51011884],\n",
       "       [0.5103322 ],\n",
       "       [0.5095809 ],\n",
       "       [0.5096185 ],\n",
       "       [0.50947094],\n",
       "       [0.5104506 ],\n",
       "       [0.5098061 ],\n",
       "       [0.5093275 ],\n",
       "       [0.5087999 ],\n",
       "       [0.5081978 ],\n",
       "       [0.5083823 ],\n",
       "       [0.50762266],\n",
       "       [0.50875664],\n",
       "       [0.5085695 ],\n",
       "       [0.5089134 ],\n",
       "       [0.50942546],\n",
       "       [0.5093876 ],\n",
       "       [0.5099496 ],\n",
       "       [0.5102903 ],\n",
       "       [0.5103181 ],\n",
       "       [0.51104116],\n",
       "       [0.5118882 ],\n",
       "       [0.5118352 ],\n",
       "       [0.51213855],\n",
       "       [0.5125636 ],\n",
       "       [0.5129331 ],\n",
       "       [0.51464796],\n",
       "       [0.5153813 ],\n",
       "       [0.51495415],\n",
       "       [0.51506853],\n",
       "       [0.51523036],\n",
       "       [0.5159002 ],\n",
       "       [0.51580507],\n",
       "       [0.51750636]], dtype=float32)"
      ]
     },
     "execution_count": 32,
     "metadata": {},
     "output_type": "execute_result"
    }
   ],
   "source": [
    "y_pred"
   ]
  },
  {
   "cell_type": "code",
   "execution_count": 33,
   "metadata": {},
   "outputs": [
    {
     "data": {
      "text/plain": [
       "array([0.01547988])"
      ]
     },
     "execution_count": 33,
     "metadata": {},
     "output_type": "execute_result"
    }
   ],
   "source": [
    "scaler.scale_"
   ]
  },
  {
   "cell_type": "code",
   "execution_count": 34,
   "metadata": {},
   "outputs": [],
   "source": [
    "#scale = 1/8.18605127e-04\n",
    "scale = 1/0.01547988"
   ]
  },
  {
   "cell_type": "code",
   "execution_count": 35,
   "metadata": {},
   "outputs": [],
   "source": [
    "y_pred = y_pred*scale\n",
    "y_test = y_test*scale"
   ]
  },
  {
   "cell_type": "code",
   "execution_count": 36,
   "metadata": {},
   "outputs": [
    {
     "data": {
      "text/plain": [
       "array([[33.566814],\n",
       "       [33.565258],\n",
       "       [33.56948 ],\n",
       "       [33.66236 ],\n",
       "       [33.666206],\n",
       "       [33.618874],\n",
       "       [33.71234 ],\n",
       "       [33.756767],\n",
       "       [33.84943 ],\n",
       "       [33.932434],\n",
       "       [34.054153],\n",
       "       [34.07429 ],\n",
       "       [34.03503 ],\n",
       "       [34.012012],\n",
       "       [33.99226 ],\n",
       "       [33.946873],\n",
       "       [33.864464],\n",
       "       [33.877415],\n",
       "       [33.830616],\n",
       "       [33.879795],\n",
       "       [33.828716],\n",
       "       [33.78342 ],\n",
       "       [33.804268],\n",
       "       [33.78942 ],\n",
       "       [33.736168],\n",
       "       [33.679905],\n",
       "       [33.6328  ],\n",
       "       [33.57452 ],\n",
       "       [33.451202],\n",
       "       [33.322483],\n",
       "       [33.15797 ],\n",
       "       [33.00374 ],\n",
       "       [32.826183],\n",
       "       [32.691525],\n",
       "       [32.612766],\n",
       "       [32.58849 ],\n",
       "       [32.566944],\n",
       "       [32.494442],\n",
       "       [32.450233],\n",
       "       [32.387947],\n",
       "       [32.408768],\n",
       "       [32.315815],\n",
       "       [32.23591 ],\n",
       "       [32.16916 ],\n",
       "       [32.159958],\n",
       "       [32.223076],\n",
       "       [32.276817],\n",
       "       [32.361202],\n",
       "       [32.46675 ],\n",
       "       [32.569374],\n",
       "       [32.684547],\n",
       "       [32.76277 ],\n",
       "       [32.842113],\n",
       "       [32.908436],\n",
       "       [32.84036 ],\n",
       "       [32.87352 ],\n",
       "       [32.904446],\n",
       "       [32.92562 ],\n",
       "       [32.96108 ],\n",
       "       [32.997635],\n",
       "       [33.021057],\n",
       "       [33.01104 ],\n",
       "       [33.013344],\n",
       "       [33.006073],\n",
       "       [32.977554],\n",
       "       [33.04753 ],\n",
       "       [33.123512],\n",
       "       [33.14448 ],\n",
       "       [33.169777],\n",
       "       [33.21435 ],\n",
       "       [33.18508 ],\n",
       "       [33.22846 ],\n",
       "       [33.263092],\n",
       "       [33.20452 ],\n",
       "       [33.220547],\n",
       "       [33.189438],\n",
       "       [33.174103],\n",
       "       [33.189785],\n",
       "       [33.186375],\n",
       "       [33.118896],\n",
       "       [33.11    ],\n",
       "       [33.07335 ],\n",
       "       [33.028236],\n",
       "       [32.939137],\n",
       "       [32.90163 ],\n",
       "       [32.903763],\n",
       "       [32.947422],\n",
       "       [32.964447],\n",
       "       [32.984005],\n",
       "       [32.99451 ],\n",
       "       [33.027702],\n",
       "       [33.035587],\n",
       "       [33.056133],\n",
       "       [33.071198],\n",
       "       [33.072712],\n",
       "       [33.105595],\n",
       "       [33.142223],\n",
       "       [33.155502],\n",
       "       [33.132584],\n",
       "       [33.168423],\n",
       "       [33.149513],\n",
       "       [33.12496 ],\n",
       "       [33.042435],\n",
       "       [32.996696],\n",
       "       [32.93639 ],\n",
       "       [32.918736],\n",
       "       [32.979885],\n",
       "       [32.988106],\n",
       "       [33.007576],\n",
       "       [32.987404],\n",
       "       [32.973007],\n",
       "       [32.979378],\n",
       "       [32.956345],\n",
       "       [32.930717],\n",
       "       [32.93441 ],\n",
       "       [32.9464  ],\n",
       "       [32.928757],\n",
       "       [32.93049 ],\n",
       "       [32.922913],\n",
       "       [32.921703],\n",
       "       [32.860535],\n",
       "       [32.813873],\n",
       "       [32.817406],\n",
       "       [32.819687],\n",
       "       [32.79966 ],\n",
       "       [32.839207],\n",
       "       [32.88976 ],\n",
       "       [32.94018 ],\n",
       "       [32.972523],\n",
       "       [32.97306 ],\n",
       "       [32.99141 ],\n",
       "       [32.966106],\n",
       "       [32.97031 ],\n",
       "       [32.94054 ],\n",
       "       [32.92662 ],\n",
       "       [32.87548 ],\n",
       "       [32.824646],\n",
       "       [32.81046 ],\n",
       "       [32.864773],\n",
       "       [32.873604],\n",
       "       [32.8994  ],\n",
       "       [32.88627 ],\n",
       "       [32.92289 ],\n",
       "       [32.97591 ],\n",
       "       [32.992317],\n",
       "       [33.048492],\n",
       "       [33.011257],\n",
       "       [32.95213 ],\n",
       "       [32.91505 ],\n",
       "       [32.93558 ],\n",
       "       [32.93196 ],\n",
       "       [32.933456],\n",
       "       [32.935394],\n",
       "       [32.89949 ],\n",
       "       [32.959023],\n",
       "       [32.858696],\n",
       "       [32.766266],\n",
       "       [32.675655],\n",
       "       [32.628407],\n",
       "       [32.43372 ],\n",
       "       [32.234825],\n",
       "       [32.005524],\n",
       "       [31.82344 ],\n",
       "       [31.701828],\n",
       "       [31.592133],\n",
       "       [31.58944 ],\n",
       "       [31.717207],\n",
       "       [31.740679],\n",
       "       [31.834589],\n",
       "       [31.906553],\n",
       "       [32.088367],\n",
       "       [32.21653 ],\n",
       "       [32.28416 ],\n",
       "       [32.379208],\n",
       "       [32.457077],\n",
       "       [32.484146],\n",
       "       [32.53506 ],\n",
       "       [32.529873],\n",
       "       [32.584496],\n",
       "       [32.565826],\n",
       "       [32.59434 ],\n",
       "       [32.58808 ],\n",
       "       [32.66394 ],\n",
       "       [32.689857],\n",
       "       [32.677254],\n",
       "       [32.71986 ],\n",
       "       [32.740612],\n",
       "       [32.76896 ],\n",
       "       [32.73617 ],\n",
       "       [32.736855],\n",
       "       [32.747387],\n",
       "       [32.782448],\n",
       "       [32.76316 ],\n",
       "       [32.729595],\n",
       "       [32.656315],\n",
       "       [32.64528 ],\n",
       "       [32.618168],\n",
       "       [32.65704 ],\n",
       "       [32.665264],\n",
       "       [32.707508],\n",
       "       [32.69503 ],\n",
       "       [32.70503 ],\n",
       "       [32.73902 ],\n",
       "       [32.76451 ],\n",
       "       [32.75727 ],\n",
       "       [32.758327],\n",
       "       [32.75293 ],\n",
       "       [32.790726],\n",
       "       [32.78412 ],\n",
       "       [32.793186],\n",
       "       [32.796955],\n",
       "       [32.841846],\n",
       "       [32.870758],\n",
       "       [32.891567],\n",
       "       [32.890568],\n",
       "       [32.997574],\n",
       "       [33.02945 ],\n",
       "       [33.050476],\n",
       "       [33.13469 ],\n",
       "       [33.17045 ],\n",
       "       [33.194702],\n",
       "       [33.194393],\n",
       "       [33.243572],\n",
       "       [33.24363 ],\n",
       "       [33.265404],\n",
       "       [33.36985 ],\n",
       "       [33.44235 ],\n",
       "       [33.50235 ],\n",
       "       [33.489445],\n",
       "       [33.61442 ],\n",
       "       [33.694256],\n",
       "       [33.729637],\n",
       "       [33.671253],\n",
       "       [33.695667],\n",
       "       [33.734127],\n",
       "       [33.755226],\n",
       "       [33.769783],\n",
       "       [33.696335],\n",
       "       [33.648876],\n",
       "       [33.667065],\n",
       "       [33.680145],\n",
       "       [33.68607 ],\n",
       "       [33.803856],\n",
       "       [33.82261 ],\n",
       "       [33.863804],\n",
       "       [33.84704 ],\n",
       "       [33.895107],\n",
       "       [33.878956],\n",
       "       [33.88872 ],\n",
       "       [33.973763],\n",
       "       [33.96475 ],\n",
       "       [33.95023 ],\n",
       "       [34.02118 ],\n",
       "       [34.18304 ],\n",
       "       [34.192966],\n",
       "       [34.14508 ],\n",
       "       [34.076447],\n",
       "       [34.13565 ],\n",
       "       [34.114506],\n",
       "       [34.13153 ],\n",
       "       [34.180164],\n",
       "       [34.20088 ],\n",
       "       [34.173565],\n",
       "       [34.074024],\n",
       "       [34.082672],\n",
       "       [34.08134 ],\n",
       "       [34.177578],\n",
       "       [34.18788 ],\n",
       "       [34.155132],\n",
       "       [34.146442],\n",
       "       [34.09533 ],\n",
       "       [34.268913],\n",
       "       [34.27373 ],\n",
       "       [34.330982],\n",
       "       [34.33861 ],\n",
       "       [34.326958],\n",
       "       [34.21487 ],\n",
       "       [34.11169 ],\n",
       "       [34.150597],\n",
       "       [34.18652 ],\n",
       "       [34.070232],\n",
       "       [34.097214],\n",
       "       [34.15961 ],\n",
       "       [34.263466],\n",
       "       [34.190754],\n",
       "       [34.119987],\n",
       "       [34.152985],\n",
       "       [34.10599 ],\n",
       "       [34.11596 ],\n",
       "       [33.992832],\n",
       "       [34.134468],\n",
       "       [34.161045],\n",
       "       [34.07222 ],\n",
       "       [33.966248],\n",
       "       [33.896626],\n",
       "       [34.01478 ],\n",
       "       [34.01162 ],\n",
       "       [34.099854],\n",
       "       [34.259243],\n",
       "       [34.283016],\n",
       "       [34.17208 ],\n",
       "       [34.040375],\n",
       "       [33.915745],\n",
       "       [33.9249  ],\n",
       "       [33.762062],\n",
       "       [33.76603 ],\n",
       "       [33.697998],\n",
       "       [33.698025],\n",
       "       [33.655983],\n",
       "       [33.63714 ],\n",
       "       [33.50491 ],\n",
       "       [33.385555],\n",
       "       [33.301876],\n",
       "       [33.27774 ],\n",
       "       [33.28558 ],\n",
       "       [33.259743],\n",
       "       [33.240273],\n",
       "       [33.13855 ],\n",
       "       [33.106426],\n",
       "       [33.12123 ],\n",
       "       [33.09599 ],\n",
       "       [33.072723],\n",
       "       [33.009254],\n",
       "       [33.008144],\n",
       "       [33.014744],\n",
       "       [33.035152],\n",
       "       [32.98793 ],\n",
       "       [33.099705],\n",
       "       [33.164143],\n",
       "       [33.00351 ],\n",
       "       [32.72361 ],\n",
       "       [32.31848 ],\n",
       "       [31.930548],\n",
       "       [31.563522],\n",
       "       [31.275045],\n",
       "       [31.112967],\n",
       "       [30.975748],\n",
       "       [30.835459],\n",
       "       [30.765955],\n",
       "       [30.8181  ],\n",
       "       [30.955875],\n",
       "       [31.272335],\n",
       "       [31.571344],\n",
       "       [31.889078],\n",
       "       [32.09886 ],\n",
       "       [32.31258 ],\n",
       "       [32.457455],\n",
       "       [32.547344],\n",
       "       [32.642735],\n",
       "       [32.782127],\n",
       "       [32.790745],\n",
       "       [32.875603],\n",
       "       [32.852833],\n",
       "       [32.894024],\n",
       "       [32.942085],\n",
       "       [32.96202 ],\n",
       "       [32.91099 ],\n",
       "       [32.982086],\n",
       "       [32.960693],\n",
       "       [32.985714],\n",
       "       [32.959827],\n",
       "       [32.945652],\n",
       "       [32.97053 ],\n",
       "       [32.980766],\n",
       "       [32.971535],\n",
       "       [32.918705],\n",
       "       [32.837715],\n",
       "       [32.77329 ],\n",
       "       [32.76386 ],\n",
       "       [32.674213],\n",
       "       [32.521755],\n",
       "       [32.361813],\n",
       "       [32.12475 ],\n",
       "       [31.976694],\n",
       "       [31.781834],\n",
       "       [31.657196],\n",
       "       [31.84766 ],\n",
       "       [31.967094],\n",
       "       [32.1455  ],\n",
       "       [32.30433 ],\n",
       "       [32.399075],\n",
       "       [32.463146],\n",
       "       [32.52261 ],\n",
       "       [32.584   ],\n",
       "       [32.598446],\n",
       "       [32.59325 ],\n",
       "       [32.62756 ],\n",
       "       [32.63975 ],\n",
       "       [32.679436],\n",
       "       [32.692635],\n",
       "       [32.73461 ],\n",
       "       [32.75676 ],\n",
       "       [32.73292 ],\n",
       "       [32.729244],\n",
       "       [32.71018 ],\n",
       "       [32.711796],\n",
       "       [32.7281  ],\n",
       "       [32.768963],\n",
       "       [32.785843],\n",
       "       [32.833458],\n",
       "       [32.859596],\n",
       "       [32.819424],\n",
       "       [32.77557 ],\n",
       "       [32.779278],\n",
       "       [32.76917 ],\n",
       "       [32.808132],\n",
       "       [32.734104],\n",
       "       [32.781555],\n",
       "       [32.739735],\n",
       "       [32.683224],\n",
       "       [32.70165 ],\n",
       "       [32.707783],\n",
       "       [32.774258],\n",
       "       [32.77394 ],\n",
       "       [32.78648 ],\n",
       "       [32.767525],\n",
       "       [32.67473 ],\n",
       "       [32.706017],\n",
       "       [32.672543],\n",
       "       [32.685394],\n",
       "       [32.66989 ],\n",
       "       [32.6584  ],\n",
       "       [32.623734],\n",
       "       [32.58766 ],\n",
       "       [32.594887],\n",
       "       [32.597095],\n",
       "       [32.620964],\n",
       "       [32.64107 ],\n",
       "       [32.681515],\n",
       "       [32.70848 ],\n",
       "       [32.70213 ],\n",
       "       [32.723156],\n",
       "       [32.744656],\n",
       "       [32.749363],\n",
       "       [32.745186],\n",
       "       [32.72904 ],\n",
       "       [32.786163],\n",
       "       [32.81635 ],\n",
       "       [32.892067],\n",
       "       [32.871906],\n",
       "       [32.886757],\n",
       "       [32.93372 ],\n",
       "       [32.951412],\n",
       "       [32.9569  ],\n",
       "       [32.912098],\n",
       "       [32.887276],\n",
       "       [32.88463 ],\n",
       "       [32.879433],\n",
       "       [32.851723],\n",
       "       [32.764057],\n",
       "       [32.660324],\n",
       "       [32.61838 ],\n",
       "       [32.566013],\n",
       "       [32.511623],\n",
       "       [32.42746 ],\n",
       "       [32.418186],\n",
       "       [32.2779  ],\n",
       "       [32.105022],\n",
       "       [32.02524 ],\n",
       "       [31.909323],\n",
       "       [31.926165],\n",
       "       [32.074562],\n",
       "       [32.196136],\n",
       "       [32.307907],\n",
       "       [32.37651 ],\n",
       "       [32.476498],\n",
       "       [32.52415 ],\n",
       "       [32.548183],\n",
       "       [32.57553 ],\n",
       "       [32.587006],\n",
       "       [32.616474],\n",
       "       [32.64597 ],\n",
       "       [32.673977],\n",
       "       [32.728516],\n",
       "       [32.775826],\n",
       "       [32.81104 ],\n",
       "       [32.869316],\n",
       "       [32.87178 ],\n",
       "       [32.85171 ],\n",
       "       [32.85161 ],\n",
       "       [32.877655],\n",
       "       [32.938763],\n",
       "       [32.95367 ],\n",
       "       [32.967453],\n",
       "       [32.91892 ],\n",
       "       [32.92135 ],\n",
       "       [32.911816],\n",
       "       [32.9751  ],\n",
       "       [32.933464],\n",
       "       [32.902546],\n",
       "       [32.868465],\n",
       "       [32.829567],\n",
       "       [32.841488],\n",
       "       [32.792416],\n",
       "       [32.86567 ],\n",
       "       [32.85358 ],\n",
       "       [32.875797],\n",
       "       [32.908875],\n",
       "       [32.906433],\n",
       "       [32.942738],\n",
       "       [32.964745],\n",
       "       [32.96654 ],\n",
       "       [33.013252],\n",
       "       [33.06797 ],\n",
       "       [33.064545],\n",
       "       [33.08414 ],\n",
       "       [33.1116  ],\n",
       "       [33.135468],\n",
       "       [33.24625 ],\n",
       "       [33.29362 ],\n",
       "       [33.26603 ],\n",
       "       [33.27342 ],\n",
       "       [33.28387 ],\n",
       "       [33.327145],\n",
       "       [33.321   ],\n",
       "       [33.4309  ]], dtype=float32)"
      ]
     },
     "execution_count": 36,
     "metadata": {},
     "output_type": "execute_result"
    }
   ],
   "source": [
    "y_pred"
   ]
  },
  {
   "cell_type": "markdown",
   "metadata": {},
   "source": [
    "### Visualization "
   ]
  },
  {
   "cell_type": "code",
   "execution_count": 37,
   "metadata": {},
   "outputs": [
    {
     "data": {
      "image/png": "[encoded data removed]",
      "text/plain": [
       "<Figure size 432x288 with 1 Axes>"
      ]
     },
     "metadata": {
      "needs_background": "light"
     },
     "output_type": "display_data"
    }
   ],
   "source": [
    "# 6 훈련 과정 시각화 (정확도)\n",
    "plt.plot(history.history['accuracy'])\n",
    "plt.title('Model accuracy')\n",
    "plt.xlabel('Epoch')\n",
    "plt.ylabel('Accuracy')\n",
    "plt.legend(['Train', 'Test'], loc='upper left')\n",
    "plt.show()"
   ]
  },
  {
   "cell_type": "code",
   "execution_count": 38,
   "metadata": {},
   "outputs": [
    {
     "data": {
      "image/png": "[encoded data removed]",
      "text/plain": [
       "<Figure size 432x288 with 1 Axes>"
      ]
     },
     "metadata": {
      "needs_background": "light"
     },
     "output_type": "display_data"
    }
   ],
   "source": [
    "# 7 훈련 과정 시각화 (손실)\n",
    "plt.plot(history.history['loss'])\n",
    "plt.title('Model loss')\n",
    "plt.xlabel('Epoch')\n",
    "plt.ylabel('Loss')\n",
    "plt.legend(['Train', 'Test'], loc='upper left')\n",
    "plt.show()"
   ]
  },
  {
   "cell_type": "code",
   "execution_count": 43,
   "metadata": {
    "scrolled": false
   },
   "outputs": [
    {
     "data": {
      "image/png": "[encoded data removed]",
      "text/plain": [
       "<Figure size 1008x648 with 1 Axes>"
      ]
     },
     "metadata": {
      "needs_background": "light"
     },
     "output_type": "display_data"
    }
   ],
   "source": [
    "# Visualising the results\n",
    "plt.figure(figsize=(14,9))\n",
    "plt.plot(y_test, color = 'red', label = 'Real VDS Data')\n",
    "plt.plot(y_pred, color = 'blue', label = 'Predicted VDS Data')\n",
    "plt.title('Traffic Speed Prediction')\n",
    "plt.xlabel('Time')\n",
    "plt.ylabel('VDS (Speed)')\n",
    "plt.legend()\n",
    "plt.show()"
   ]
  },
  {
   "cell_type": "code",
   "execution_count": null,
   "metadata": {},
   "outputs": [],
   "source": []
  }
 ],
 "metadata": {
  "kernelspec": {
   "display_name": "tf",
   "language": "python",
   "name": "tf"
  },
  "language_info": {
   "codemirror_mode": {
    "name": "ipython",
    "version": 3
   },
   "file_extension": ".py",
   "mimetype": "text/x-python",
   "name": "python",
   "nbconvert_exporter": "python",
   "pygments_lexer": "ipython3",
   "version": "3.7.6"
  }
 },
 "nbformat": 4,
 "nbformat_minor": 2
}
