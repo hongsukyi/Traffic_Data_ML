{
  "cells": [
    {
      "cell_type": "markdown",
      "metadata": {
        "id": "_TZBKyxZM09o"
      },
      "source": [
        "# 교통 데이터 VDS을 이용한 머신러닝 분류 \n",
        "## k-NN"
      ]
    },
    {
      "cell_type": "markdown",
      "metadata": {
        "id": "OidGumNFM094"
      },
      "source": [
        "## I. 데이터 가져오기 \n",
        "- 판다스를 이용하여 교통 데이터 가져오기"
      ]
    },
    {
      "cell_type": "code",
      "execution_count": 1,
      "metadata": {
        "id": "AT0hLjgl-f1j"
      },
      "outputs": [],
      "source": [
        "import tensorflow as tf\n",
        "gpus = tf.config.experimental.list_physical_devices('GPU')\n",
        "for gpu in gpus:\n",
        "    tf.config.experimental.set_memory_growth(gpu, True)"
      ]
    },
    {
      "cell_type": "code",
      "execution_count": 2,
      "metadata": {
        "id": "4v2sflRrM095"
      },
      "outputs": [],
      "source": [
        "import pandas as pd"
      ]
    },
    {
      "cell_type": "code",
      "execution_count": 3,
      "metadata": {
        "id": "AJPJFZblM09w"
      },
      "outputs": [],
      "source": [
        "import warnings\n",
        "warnings.filterwarnings(\"ignore\")"
      ]
    },
    {
      "cell_type": "code",
      "execution_count": 4,
      "metadata": {
        "id": "Bi0X_MlTM09-",
        "colab": {
          "base_uri": "https://localhost:8080/",
          "height": 206
        },
        "outputId": "c6aeb3ec-2fa9-4011-a58a-045725314fdd"
      },
      "outputs": [
        {
          "output_type": "execute_result",
          "data": {
            "text/plain": [
              "              Date  ToVol  SmVol  MeVol  LaVol  Speed  Occ.Rate\n",
              "0  2017-04-02 0:00     43     34      9      0   50.3      1.90\n",
              "1  2017-04-02 0:05     45     32     13      0   58.9      1.84\n",
              "2  2017-04-02 0:10     46     34     12      0   50.6      1.87\n",
              "3  2017-04-02 0:15     45     36      9      0   50.9      1.72\n",
              "4  2017-04-02 0:20     27     13     13      1   62.2      1.12"
            ],
            "text/html": [
              "\n",
              "  <div id=\"df-f13fa8da-b1f4-410b-b871-e25d028dde72\">\n",
              "    <div class=\"colab-df-container\">\n",
              "      <div>\n",
              "<style scoped>\n",
              "    .dataframe tbody tr th:only-of-type {\n",
              "        vertical-align: middle;\n",
              "    }\n",
              "\n",
              "    .dataframe tbody tr th {\n",
              "        vertical-align: top;\n",
              "    }\n",
              "\n",
              "    .dataframe thead th {\n",
              "        text-align: right;\n",
              "    }\n",
              "</style>\n",
              "<table border=\"1\" class=\"dataframe\">\n",
              "  <thead>\n",
              "    <tr style=\"text-align: right;\">\n",
              "      <th></th>\n",
              "      <th>Date</th>\n",
              "      <th>ToVol</th>\n",
              "      <th>SmVol</th>\n",
              "      <th>MeVol</th>\n",
              "      <th>LaVol</th>\n",
              "      <th>Speed</th>\n",
              "      <th>Occ.Rate</th>\n",
              "    </tr>\n",
              "  </thead>\n",
              "  <tbody>\n",
              "    <tr>\n",
              "      <th>0</th>\n",
              "      <td>2017-04-02 0:00</td>\n",
              "      <td>43</td>\n",
              "      <td>34</td>\n",
              "      <td>9</td>\n",
              "      <td>0</td>\n",
              "      <td>50.3</td>\n",
              "      <td>1.90</td>\n",
              "    </tr>\n",
              "    <tr>\n",
              "      <th>1</th>\n",
              "      <td>2017-04-02 0:05</td>\n",
              "      <td>45</td>\n",
              "      <td>32</td>\n",
              "      <td>13</td>\n",
              "      <td>0</td>\n",
              "      <td>58.9</td>\n",
              "      <td>1.84</td>\n",
              "    </tr>\n",
              "    <tr>\n",
              "      <th>2</th>\n",
              "      <td>2017-04-02 0:10</td>\n",
              "      <td>46</td>\n",
              "      <td>34</td>\n",
              "      <td>12</td>\n",
              "      <td>0</td>\n",
              "      <td>50.6</td>\n",
              "      <td>1.87</td>\n",
              "    </tr>\n",
              "    <tr>\n",
              "      <th>3</th>\n",
              "      <td>2017-04-02 0:15</td>\n",
              "      <td>45</td>\n",
              "      <td>36</td>\n",
              "      <td>9</td>\n",
              "      <td>0</td>\n",
              "      <td>50.9</td>\n",
              "      <td>1.72</td>\n",
              "    </tr>\n",
              "    <tr>\n",
              "      <th>4</th>\n",
              "      <td>2017-04-02 0:20</td>\n",
              "      <td>27</td>\n",
              "      <td>13</td>\n",
              "      <td>13</td>\n",
              "      <td>1</td>\n",
              "      <td>62.2</td>\n",
              "      <td>1.12</td>\n",
              "    </tr>\n",
              "  </tbody>\n",
              "</table>\n",
              "</div>\n",
              "      <button class=\"colab-df-convert\" onclick=\"convertToInteractive('df-f13fa8da-b1f4-410b-b871-e25d028dde72')\"\n",
              "              title=\"Convert this dataframe to an interactive table.\"\n",
              "              style=\"display:none;\">\n",
              "        \n",
              "  <svg xmlns=\"http://www.w3.org/2000/svg\" height=\"24px\"viewBox=\"0 0 24 24\"\n",
              "       width=\"24px\">\n",
              "    <path d=\"M0 0h24v24H0V0z\" fill=\"none\"/>\n",
              "    <path d=\"M18.56 5.44l.94 2.06.94-2.06 2.06-.94-2.06-.94-.94-2.06-.94 2.06-2.06.94zm-11 1L8.5 8.5l.94-2.06 2.06-.94-2.06-.94L8.5 2.5l-.94 2.06-2.06.94zm10 10l.94 2.06.94-2.06 2.06-.94-2.06-.94-.94-2.06-.94 2.06-2.06.94z\"/><path d=\"M17.41 7.96l-1.37-1.37c-.4-.4-.92-.59-1.43-.59-.52 0-1.04.2-1.43.59L10.3 9.45l-7.72 7.72c-.78.78-.78 2.05 0 2.83L4 21.41c.39.39.9.59 1.41.59.51 0 1.02-.2 1.41-.59l7.78-7.78 2.81-2.81c.8-.78.8-2.07 0-2.86zM5.41 20L4 18.59l7.72-7.72 1.47 1.35L5.41 20z\"/>\n",
              "  </svg>\n",
              "      </button>\n",
              "      \n",
              "  <style>\n",
              "    .colab-df-container {\n",
              "      display:flex;\n",
              "      flex-wrap:wrap;\n",
              "      gap: 12px;\n",
              "    }\n",
              "\n",
              "    .colab-df-convert {\n",
              "      background-color: #E8F0FE;\n",
              "      border: none;\n",
              "      border-radius: 50%;\n",
              "      cursor: pointer;\n",
              "      display: none;\n",
              "      fill: #1967D2;\n",
              "      height: 32px;\n",
              "      padding: 0 0 0 0;\n",
              "      width: 32px;\n",
              "    }\n",
              "\n",
              "    .colab-df-convert:hover {\n",
              "      background-color: #E2EBFA;\n",
              "      box-shadow: 0px 1px 2px rgba(60, 64, 67, 0.3), 0px 1px 3px 1px rgba(60, 64, 67, 0.15);\n",
              "      fill: #174EA6;\n",
              "    }\n",
              "\n",
              "    [theme=dark] .colab-df-convert {\n",
              "      background-color: #3B4455;\n",
              "      fill: #D2E3FC;\n",
              "    }\n",
              "\n",
              "    [theme=dark] .colab-df-convert:hover {\n",
              "      background-color: #434B5C;\n",
              "      box-shadow: 0px 1px 3px 1px rgba(0, 0, 0, 0.15);\n",
              "      filter: drop-shadow(0px 1px 2px rgba(0, 0, 0, 0.3));\n",
              "      fill: #FFFFFF;\n",
              "    }\n",
              "  </style>\n",
              "\n",
              "      <script>\n",
              "        const buttonEl =\n",
              "          document.querySelector('#df-f13fa8da-b1f4-410b-b871-e25d028dde72 button.colab-df-convert');\n",
              "        buttonEl.style.display =\n",
              "          google.colab.kernel.accessAllowed ? 'block' : 'none';\n",
              "\n",
              "        async function convertToInteractive(key) {\n",
              "          const element = document.querySelector('#df-f13fa8da-b1f4-410b-b871-e25d028dde72');\n",
              "          const dataTable =\n",
              "            await google.colab.kernel.invokeFunction('convertToInteractive',\n",
              "                                                     [key], {});\n",
              "          if (!dataTable) return;\n",
              "\n",
              "          const docLinkHtml = 'Like what you see? Visit the ' +\n",
              "            '<a target=\"_blank\" href=https://colab.research.google.com/notebooks/data_table.ipynb>data table notebook</a>'\n",
              "            + ' to learn more about interactive tables.';\n",
              "          element.innerHTML = '';\n",
              "          dataTable['output_type'] = 'display_data';\n",
              "          await google.colab.output.renderOutput(dataTable, element);\n",
              "          const docLink = document.createElement('div');\n",
              "          docLink.innerHTML = docLinkHtml;\n",
              "          element.appendChild(docLink);\n",
              "        }\n",
              "      </script>\n",
              "    </div>\n",
              "  </div>\n",
              "  "
            ]
          },
          "metadata": {},
          "execution_count": 4
        }
      ],
      "source": [
        "df = pd.read_csv('./daejeon_vds16.csv')\n",
        "df.head()"
      ]
    },
    {
      "cell_type": "code",
      "execution_count": 5,
      "metadata": {
        "colab": {
          "base_uri": "https://localhost:8080/",
          "height": 301
        },
        "id": "L-eoyB-t-f1p",
        "outputId": "3d6f7098-4f82-40c5-b304-cdbe7c820ae0"
      },
      "outputs": [
        {
          "output_type": "execute_result",
          "data": {
            "text/plain": [
              "array([<matplotlib.axes._subplots.AxesSubplot object at 0x7fc403680590>],\n",
              "      dtype=object)"
            ]
          },
          "metadata": {},
          "execution_count": 5
        },
        {
          "output_type": "display_data",
          "data": {
            "text/plain": [
              "<Figure size 432x288 with 1 Axes>"
            ],
            "image/png": "[encoded data removed]"
          },
          "metadata": {
            "needs_background": "light"
          }
        }
      ],
      "source": [
        "# 교통량 그림 그려보기\n",
        "df_plt = df['Speed']\n",
        "df_plt.plot(subplots=True)"
      ]
    },
    {
      "cell_type": "markdown",
      "metadata": {
        "id": "1W5r6IGF-f1q"
      },
      "source": [
        "- 5분 간격 데이터를 하루 동안 수집하면 그 갯수는 12(1시간) * 24 = 288\n",
        "- 하루 동안 데이터를 그려보자 "
      ]
    },
    {
      "cell_type": "markdown",
      "metadata": {
        "id": "RYAp6RqFM0-D"
      },
      "source": [
        "## II. 라벨을 정하기\n",
        "- 지도학습을 위해서 데이터를 Feature와 Label로 나누자.\n",
        "- 무엇이 Feature이며 무엇이 Label 인가?\n",
        "- 라벨은 무엇으로 정하는게 좋은가? "
      ]
    },
    {
      "cell_type": "code",
      "execution_count": 6,
      "metadata": {
        "id": "coN_9W1uM0-D"
      },
      "outputs": [],
      "source": [
        "def get_score(v):\n",
        "    if v < 30:\n",
        "        score = 'Jam'\n",
        "    elif v < 50:\n",
        "        score = 'Slow'\n",
        "    else :\n",
        "        score = 'Normal'\n",
        "    return score"
      ]
    },
    {
      "cell_type": "code",
      "execution_count": 7,
      "metadata": {
        "colab": {
          "base_uri": "https://localhost:8080/",
          "height": 206
        },
        "id": "jr21m5kbM0-E",
        "outputId": "7447f74b-30f1-4f7a-c379-f674e40eaf73",
        "scrolled": true
      },
      "outputs": [
        {
          "output_type": "execute_result",
          "data": {
            "text/plain": [
              "              Date  ToVol  SmVol  MeVol  LaVol  Speed  Occ.Rate label_speed\n",
              "0  2017-04-02 0:00     43     34      9      0   50.3      1.90      Normal\n",
              "1  2017-04-02 0:05     45     32     13      0   58.9      1.84      Normal\n",
              "2  2017-04-02 0:10     46     34     12      0   50.6      1.87      Normal\n",
              "3  2017-04-02 0:15     45     36      9      0   50.9      1.72      Normal\n",
              "4  2017-04-02 0:20     27     13     13      1   62.2      1.12      Normal"
            ],
            "text/html": [
              "\n",
              "  <div id=\"df-6aa92cfe-384e-43c5-9bcd-183338418413\">\n",
              "    <div class=\"colab-df-container\">\n",
              "      <div>\n",
              "<style scoped>\n",
              "    .dataframe tbody tr th:only-of-type {\n",
              "        vertical-align: middle;\n",
              "    }\n",
              "\n",
              "    .dataframe tbody tr th {\n",
              "        vertical-align: top;\n",
              "    }\n",
              "\n",
              "    .dataframe thead th {\n",
              "        text-align: right;\n",
              "    }\n",
              "</style>\n",
              "<table border=\"1\" class=\"dataframe\">\n",
              "  <thead>\n",
              "    <tr style=\"text-align: right;\">\n",
              "      <th></th>\n",
              "      <th>Date</th>\n",
              "      <th>ToVol</th>\n",
              "      <th>SmVol</th>\n",
              "      <th>MeVol</th>\n",
              "      <th>LaVol</th>\n",
              "      <th>Speed</th>\n",
              "      <th>Occ.Rate</th>\n",
              "      <th>label_speed</th>\n",
              "    </tr>\n",
              "  </thead>\n",
              "  <tbody>\n",
              "    <tr>\n",
              "      <th>0</th>\n",
              "      <td>2017-04-02 0:00</td>\n",
              "      <td>43</td>\n",
              "      <td>34</td>\n",
              "      <td>9</td>\n",
              "      <td>0</td>\n",
              "      <td>50.3</td>\n",
              "      <td>1.90</td>\n",
              "      <td>Normal</td>\n",
              "    </tr>\n",
              "    <tr>\n",
              "      <th>1</th>\n",
              "      <td>2017-04-02 0:05</td>\n",
              "      <td>45</td>\n",
              "      <td>32</td>\n",
              "      <td>13</td>\n",
              "      <td>0</td>\n",
              "      <td>58.9</td>\n",
              "      <td>1.84</td>\n",
              "      <td>Normal</td>\n",
              "    </tr>\n",
              "    <tr>\n",
              "      <th>2</th>\n",
              "      <td>2017-04-02 0:10</td>\n",
              "      <td>46</td>\n",
              "      <td>34</td>\n",
              "      <td>12</td>\n",
              "      <td>0</td>\n",
              "      <td>50.6</td>\n",
              "      <td>1.87</td>\n",
              "      <td>Normal</td>\n",
              "    </tr>\n",
              "    <tr>\n",
              "      <th>3</th>\n",
              "      <td>2017-04-02 0:15</td>\n",
              "      <td>45</td>\n",
              "      <td>36</td>\n",
              "      <td>9</td>\n",
              "      <td>0</td>\n",
              "      <td>50.9</td>\n",
              "      <td>1.72</td>\n",
              "      <td>Normal</td>\n",
              "    </tr>\n",
              "    <tr>\n",
              "      <th>4</th>\n",
              "      <td>2017-04-02 0:20</td>\n",
              "      <td>27</td>\n",
              "      <td>13</td>\n",
              "      <td>13</td>\n",
              "      <td>1</td>\n",
              "      <td>62.2</td>\n",
              "      <td>1.12</td>\n",
              "      <td>Normal</td>\n",
              "    </tr>\n",
              "  </tbody>\n",
              "</table>\n",
              "</div>\n",
              "      <button class=\"colab-df-convert\" onclick=\"convertToInteractive('df-6aa92cfe-384e-43c5-9bcd-183338418413')\"\n",
              "              title=\"Convert this dataframe to an interactive table.\"\n",
              "              style=\"display:none;\">\n",
              "        \n",
              "  <svg xmlns=\"http://www.w3.org/2000/svg\" height=\"24px\"viewBox=\"0 0 24 24\"\n",
              "       width=\"24px\">\n",
              "    <path d=\"M0 0h24v24H0V0z\" fill=\"none\"/>\n",
              "    <path d=\"M18.56 5.44l.94 2.06.94-2.06 2.06-.94-2.06-.94-.94-2.06-.94 2.06-2.06.94zm-11 1L8.5 8.5l.94-2.06 2.06-.94-2.06-.94L8.5 2.5l-.94 2.06-2.06.94zm10 10l.94 2.06.94-2.06 2.06-.94-2.06-.94-.94-2.06-.94 2.06-2.06.94z\"/><path d=\"M17.41 7.96l-1.37-1.37c-.4-.4-.92-.59-1.43-.59-.52 0-1.04.2-1.43.59L10.3 9.45l-7.72 7.72c-.78.78-.78 2.05 0 2.83L4 21.41c.39.39.9.59 1.41.59.51 0 1.02-.2 1.41-.59l7.78-7.78 2.81-2.81c.8-.78.8-2.07 0-2.86zM5.41 20L4 18.59l7.72-7.72 1.47 1.35L5.41 20z\"/>\n",
              "  </svg>\n",
              "      </button>\n",
              "      \n",
              "  <style>\n",
              "    .colab-df-container {\n",
              "      display:flex;\n",
              "      flex-wrap:wrap;\n",
              "      gap: 12px;\n",
              "    }\n",
              "\n",
              "    .colab-df-convert {\n",
              "      background-color: #E8F0FE;\n",
              "      border: none;\n",
              "      border-radius: 50%;\n",
              "      cursor: pointer;\n",
              "      display: none;\n",
              "      fill: #1967D2;\n",
              "      height: 32px;\n",
              "      padding: 0 0 0 0;\n",
              "      width: 32px;\n",
              "    }\n",
              "\n",
              "    .colab-df-convert:hover {\n",
              "      background-color: #E2EBFA;\n",
              "      box-shadow: 0px 1px 2px rgba(60, 64, 67, 0.3), 0px 1px 3px 1px rgba(60, 64, 67, 0.15);\n",
              "      fill: #174EA6;\n",
              "    }\n",
              "\n",
              "    [theme=dark] .colab-df-convert {\n",
              "      background-color: #3B4455;\n",
              "      fill: #D2E3FC;\n",
              "    }\n",
              "\n",
              "    [theme=dark] .colab-df-convert:hover {\n",
              "      background-color: #434B5C;\n",
              "      box-shadow: 0px 1px 3px 1px rgba(0, 0, 0, 0.15);\n",
              "      filter: drop-shadow(0px 1px 2px rgba(0, 0, 0, 0.3));\n",
              "      fill: #FFFFFF;\n",
              "    }\n",
              "  </style>\n",
              "\n",
              "      <script>\n",
              "        const buttonEl =\n",
              "          document.querySelector('#df-6aa92cfe-384e-43c5-9bcd-183338418413 button.colab-df-convert');\n",
              "        buttonEl.style.display =\n",
              "          google.colab.kernel.accessAllowed ? 'block' : 'none';\n",
              "\n",
              "        async function convertToInteractive(key) {\n",
              "          const element = document.querySelector('#df-6aa92cfe-384e-43c5-9bcd-183338418413');\n",
              "          const dataTable =\n",
              "            await google.colab.kernel.invokeFunction('convertToInteractive',\n",
              "                                                     [key], {});\n",
              "          if (!dataTable) return;\n",
              "\n",
              "          const docLinkHtml = 'Like what you see? Visit the ' +\n",
              "            '<a target=\"_blank\" href=https://colab.research.google.com/notebooks/data_table.ipynb>data table notebook</a>'\n",
              "            + ' to learn more about interactive tables.';\n",
              "          element.innerHTML = '';\n",
              "          dataTable['output_type'] = 'display_data';\n",
              "          await google.colab.output.renderOutput(dataTable, element);\n",
              "          const docLink = document.createElement('div');\n",
              "          docLink.innerHTML = docLinkHtml;\n",
              "          element.appendChild(docLink);\n",
              "        }\n",
              "      </script>\n",
              "    </div>\n",
              "  </div>\n",
              "  "
            ]
          },
          "metadata": {},
          "execution_count": 7
        }
      ],
      "source": [
        "df[\"label_speed\"] = df[\"Speed\"].apply(lambda v: get_score(v))\n",
        "df.head(5)"
      ]
    },
    {
      "cell_type": "markdown",
      "metadata": {
        "id": "Td2I4AR4M0-F"
      },
      "source": [
        "### 라벨을 위해 'label'의 텍스트는 범주형 혹은 숫자로 인코딩 해야한다"
      ]
    },
    {
      "cell_type": "markdown",
      "metadata": {
        "id": "sxOfxQUvM0-G"
      },
      "source": [
        "## 3. 데이터 가시화 "
      ]
    },
    {
      "cell_type": "code",
      "execution_count": 8,
      "metadata": {
        "id": "LaS3I1XfM0-G"
      },
      "outputs": [],
      "source": [
        "import matplotlib.pyplot as plt"
      ]
    },
    {
      "cell_type": "markdown",
      "metadata": {
        "id": "aAXcROI3M0-J"
      },
      "source": [
        "## 4 머신러닝을 위한 입력 데이터 만들자\n",
        "- 우선 무슨 문제를 풀어야 하는가?\n",
        "- 지도학습이며 라벨이 있고, 제일 먼저 해보는 것은 분류를 해보자\n",
        "- 즉, 교통 속도 라벨을 이용하여 해당 도로의 교통 흐름을 분류해보고 정확도를 논의하자"
      ]
    },
    {
      "cell_type": "markdown",
      "metadata": {
        "id": "Y-VhK-wRM0-J"
      },
      "source": [
        "### 1) 입력 X와 출력 y의 값을 정하기"
      ]
    },
    {
      "cell_type": "code",
      "execution_count": 9,
      "metadata": {
        "colab": {
          "base_uri": "https://localhost:8080/"
        },
        "execution": {
          "iopub.execute_input": "2020-11-04T17:04:31.233488Z",
          "iopub.status.busy": "2020-11-04T17:04:31.232181Z",
          "iopub.status.idle": "2020-11-04T17:04:31.235325Z",
          "shell.execute_reply": "2020-11-04T17:04:31.232878Z"
        },
        "id": "pGvLbBh9M0-J",
        "outputId": "7e0d7de4-c97f-4798-c48d-1d723d54d1ea",
        "papermill": {
          "duration": 0.048394,
          "end_time": "2020-11-04T17:04:31.235443",
          "exception": false,
          "start_time": "2020-11-04T17:04:31.187049",
          "status": "completed"
        },
        "tags": []
      },
      "outputs": [
        {
          "output_type": "execute_result",
          "data": {
            "text/plain": [
              "array(['Normal', 'Slow', 'Jam'], dtype=object)"
            ]
          },
          "metadata": {},
          "execution_count": 9
        }
      ],
      "source": [
        "df['label_speed'].unique()"
      ]
    },
    {
      "cell_type": "markdown",
      "metadata": {
        "id": "nbvbQnNc-f1w"
      },
      "source": [
        "- 머신러닝에서 특징(Feature)에 대하여, 그리고 라벨에 대하여 다시한번 복습합시다 "
      ]
    },
    {
      "cell_type": "code",
      "execution_count": 10,
      "metadata": {
        "execution": {
          "iopub.execute_input": "2020-11-04T17:04:31.233488Z",
          "iopub.status.busy": "2020-11-04T17:04:31.232181Z",
          "iopub.status.idle": "2020-11-04T17:04:31.235325Z",
          "shell.execute_reply": "2020-11-04T17:04:31.232878Z"
        },
        "id": "jODGCJY5M0-J",
        "papermill": {
          "duration": 0.048394,
          "end_time": "2020-11-04T17:04:31.235443",
          "exception": false,
          "start_time": "2020-11-04T17:04:31.187049",
          "status": "completed"
        },
        "tags": []
      },
      "outputs": [],
      "source": [
        "#feature_cols = ['ToVol', 'SmVol', 'Speed', 'Occ.Rate']\n",
        "#feature_cols = ['ToVol', 'SmVol', 'LaVol', 'MeVol']\n",
        "feature_cols = ['ToVol','Occ.Rate','LaVol', 'MeVol']\n",
        "\n",
        "target_col = 'label_speed'\n",
        "X = df[feature_cols]\n",
        "y = df[target_col]"
      ]
    },
    {
      "cell_type": "markdown",
      "metadata": {
        "id": "3FKoWfUWM0-K",
        "papermill": {
          "duration": 0.032638,
          "end_time": "2020-11-04T17:04:33.305151",
          "exception": false,
          "start_time": "2020-11-04T17:04:33.272513",
          "status": "completed"
        },
        "tags": []
      },
      "source": [
        "### 2) 출력용 라벨을 머신러닝 \n",
        "- 텍스트를 숫자로 바꾸자\n",
        "- One-Hot Encoding\n",
        "- 자연어 처리에는 Embedding을 사용함. \n",
        "- Word2Vec "
      ]
    },
    {
      "cell_type": "code",
      "execution_count": 11,
      "metadata": {
        "execution": {
          "iopub.execute_input": "2020-11-04T17:04:33.381959Z",
          "iopub.status.busy": "2020-11-04T17:04:33.381045Z",
          "iopub.status.idle": "2020-11-04T17:04:33.385463Z",
          "shell.execute_reply": "2020-11-04T17:04:33.384834Z"
        },
        "id": "ztjlMHzEM0-K",
        "papermill": {
          "duration": 0.046987,
          "end_time": "2020-11-04T17:04:33.385580",
          "exception": false,
          "start_time": "2020-11-04T17:04:33.338593",
          "status": "completed"
        },
        "tags": []
      },
      "outputs": [],
      "source": [
        "class_dic = {'Jam':0, 'Slow':1, 'Normal':2}\n",
        "y_ohc = y.apply(lambda z: class_dic[z])"
      ]
    },
    {
      "cell_type": "code",
      "execution_count": 12,
      "metadata": {
        "colab": {
          "base_uri": "https://localhost:8080/"
        },
        "execution": {
          "iopub.execute_input": "2020-11-04T17:04:33.381959Z",
          "iopub.status.busy": "2020-11-04T17:04:33.381045Z",
          "iopub.status.idle": "2020-11-04T17:04:33.385463Z",
          "shell.execute_reply": "2020-11-04T17:04:33.384834Z"
        },
        "id": "zJH95lDzM0-L",
        "outputId": "2230ede2-40a9-4f45-a482-671b91eba0df",
        "papermill": {
          "duration": 0.046987,
          "end_time": "2020-11-04T17:04:33.385580",
          "exception": false,
          "start_time": "2020-11-04T17:04:33.338593",
          "status": "completed"
        },
        "tags": []
      },
      "outputs": [
        {
          "output_type": "execute_result",
          "data": {
            "text/plain": [
              "0    2\n",
              "1    2\n",
              "2    2\n",
              "3    2\n",
              "4    2\n",
              "Name: label_speed, dtype: int64"
            ]
          },
          "metadata": {},
          "execution_count": 12
        }
      ],
      "source": [
        "y_ohc.head()"
      ]
    },
    {
      "cell_type": "markdown",
      "metadata": {
        "id": "8GwFxVXkM0-L"
      },
      "source": [
        "### 3) 데이터를 훈련과 테스트로 나누자 \n",
        "- (실전) 데이터를 validation을 포함해서 나눌수 있다.\n",
        "- (해보기) 전체 데이터를 train : validation : test = 0.6: 0.2: 0.2 로 나누어라"
      ]
    },
    {
      "cell_type": "code",
      "execution_count": 13,
      "metadata": {
        "id": "6gvGzzM3M0-L"
      },
      "outputs": [],
      "source": [
        "from sklearn.model_selection import train_test_split\n",
        "\n",
        "#from sklearn.model_selection import learning_curve, train_test_split, KFold,  ShuffleSplit\n",
        "\n",
        "X_train, X_test, y_train, y_test = train_test_split(X, y_ohc, test_size=0.20, random_state=30)"
      ]
    },
    {
      "cell_type": "code",
      "execution_count": 14,
      "metadata": {
        "colab": {
          "base_uri": "https://localhost:8080/"
        },
        "id": "8uKEdHULM0-L",
        "outputId": "8d329758-19b3-4395-8d2e-24bcc3ab6e48"
      },
      "outputs": [
        {
          "output_type": "stream",
          "name": "stdout",
          "text": [
            "(6451, 4) (6451,)\n",
            "(1613, 4) (1613,)\n"
          ]
        }
      ],
      "source": [
        "print(X_train.shape, y_train.shape)\n",
        "print(X_test.shape,  y_test.shape)"
      ]
    },
    {
      "cell_type": "markdown",
      "metadata": {
        "id": "iDupEfaN-f11"
      },
      "source": [
        "- 머신러닝에서는 훈련과정에서 입력 특징 데이터를 표준화, 정규화를 한다.\n",
        "- 왜?"
      ]
    },
    {
      "cell_type": "code",
      "execution_count": 15,
      "metadata": {
        "id": "xIxqnYdhM0-L"
      },
      "outputs": [],
      "source": [
        "from sklearn.preprocessing import StandardScaler\n",
        "scaler = StandardScaler()\n",
        "\n",
        "X_train = scaler.fit_transform(X_train)\n",
        "X_test = scaler.transform(X_test)"
      ]
    },
    {
      "cell_type": "markdown",
      "metadata": {
        "id": "kY2smZwEM0-M"
      },
      "source": [
        "# 5. 머신러닝 모델을 만들자"
      ]
    },
    {
      "cell_type": "code",
      "execution_count": 16,
      "metadata": {
        "id": "pR3SfdoK-f12"
      },
      "outputs": [],
      "source": [
        "import numpy as np\n",
        "def plot_ml_curve(estimator, title, X, y, ylim=None, cv=None,\n",
        "                        n_jobs=None, train_sizes=np.linspace(.1, 1.0, 20)):   \n",
        "    plt.figure()\n",
        "    plt.title(title)\n",
        "    plt.xlabel(\"Training examples\")\n",
        "    plt.ylabel(\"Score\")\n",
        "    \n",
        "    train_sizes, train_scores, test_scores = learning_curve(\n",
        "        estimator, X, y, cv=cv, n_jobs=n_jobs, train_sizes=train_sizes)\n",
        "    \n",
        "    train_mean = np.mean(train_scores, axis=1)\n",
        "    train_std = np.std(train_scores, axis=1)\n",
        "    test_mean = np.mean(test_scores, axis=1)\n",
        "    test_std = np.std(test_scores, axis=1)\n",
        "    plt.grid()\n",
        "\n",
        "    plt.fill_between(train_sizes, train_mean - train_std,\n",
        "                     train_mean + train_std, alpha=0.1, color=\"r\")\n",
        "    plt.fill_between(train_sizes, test_mean - test_std,\n",
        "                     test_mean + test_std, alpha=0.1, color=\"g\")\n",
        "    plt.plot(train_sizes, train_mean, 'o-', color=\"r\", label=\"Training score\")\n",
        "    plt.plot(train_sizes, test_mean, 'o-', color=\"g\", label=\"Cross-validation score\")\n",
        "\n",
        "    plt.legend(loc='lower right')\n",
        "    return plt"
      ]
    },
    {
      "cell_type": "markdown",
      "metadata": {
        "id": "2OC306luM0-O"
      },
      "source": [
        "### 3 K-Nearest Neighbours"
      ]
    },
    {
      "cell_type": "code",
      "execution_count": 17,
      "metadata": {
        "id": "AXGNtNEi-f14"
      },
      "outputs": [],
      "source": [
        "from sklearn.neighbors import KNeighborsClassifier "
      ]
    },
    {
      "cell_type": "markdown",
      "metadata": {
        "id": "C0pq-fXQ-f14"
      },
      "source": [
        "- class sklearn.neighbors.KNeighborsClassifier(n_neighbors=5, *, weights='uniform', algorithm='auto', leaf_size=30, p=2, metric='minkowski', metric_params=None, n_jobs=None)\n",
        "\n",
        "- n_neighbors :  default=5"
      ]
    },
    {
      "cell_type": "code",
      "execution_count": 18,
      "metadata": {
        "id": "ggp66fzo-f14"
      },
      "outputs": [],
      "source": [
        "from sklearn import metrics   \n",
        "from sklearn.metrics import plot_roc_curve\n",
        "from sklearn.model_selection import ShuffleSplit, learning_curve"
      ]
    },
    {
      "cell_type": "code",
      "execution_count": 19,
      "metadata": {
        "colab": {
          "base_uri": "https://localhost:8080/"
        },
        "id": "aDL8wfRXM0-P",
        "outputId": "abe273d1-54f9-4b22-fb6e-1d3251529c26"
      },
      "outputs": [
        {
          "output_type": "execute_result",
          "data": {
            "text/plain": [
              "KNeighborsClassifier(n_neighbors=9)"
            ]
          },
          "metadata": {},
          "execution_count": 19
        }
      ],
      "source": [
        "model = KNeighborsClassifier(n_neighbors=9)\n",
        "model.fit(X_train,y_train)"
      ]
    },
    {
      "cell_type": "code",
      "execution_count": 20,
      "metadata": {
        "colab": {
          "base_uri": "https://localhost:8080/"
        },
        "outputId": "15294133-696c-4d5e-cb8a-16395be7acf8",
        "id": "eIKcYWWI-f15"
      },
      "outputs": [
        {
          "output_type": "execute_result",
          "data": {
            "text/plain": [
              "0.8710477371357719"
            ]
          },
          "metadata": {},
          "execution_count": 20
        }
      ],
      "source": [
        "pred = model.predict(X_test)\n",
        "metrics.accuracy_score(pred,y_test)"
      ]
    },
    {
      "cell_type": "code",
      "source": [
        ""
      ],
      "metadata": {
        "id": "0Hnw2la_BRNq"
      },
      "execution_count": 20,
      "outputs": []
    },
    {
      "cell_type": "code",
      "execution_count": 21,
      "metadata": {
        "colab": {
          "base_uri": "https://localhost:8080/",
          "height": 313
        },
        "id": "xADpZohDM0-P",
        "outputId": "15c885f8-9c60-4e93-a99c-64ed5019c95d"
      },
      "outputs": [
        {
          "output_type": "execute_result",
          "data": {
            "text/plain": [
              "<module 'matplotlib.pyplot' from '/usr/local/lib/python3.7/dist-packages/matplotlib/pyplot.py'>"
            ]
          },
          "metadata": {},
          "execution_count": 21
        },
        {
          "output_type": "display_data",
          "data": {
            "text/plain": [
              "<Figure size 432x288 with 1 Axes>"
            ],
            "image/png": "[encoded data removed]"
          },
          "metadata": {
            "needs_background": "light"
          }
        }
      ],
      "source": [
        "title = \"K-Nearest Neighbours (KNN)\"\n",
        "cv = ShuffleSplit(n_splits=4, test_size=0.2, random_state=0)\n",
        "\n",
        "plot_ml_curve(model, title, X, y,  cv=cv, n_jobs=4)"
      ]
    },
    {
      "cell_type": "markdown",
      "metadata": {
        "id": "Z0PxRtKZM0-P"
      },
      "source": [
        "#### 3.1 최적의 k-NN의 정확도 확인 "
      ]
    },
    {
      "cell_type": "code",
      "execution_count": 22,
      "metadata": {
        "colab": {
          "base_uri": "https://localhost:8080/",
          "height": 465
        },
        "id": "0CAcYCJeM0-P",
        "outputId": "5ff7decc-5383-411f-bb8f-2c949dd4812f"
      },
      "outputs": [
        {
          "output_type": "execute_result",
          "data": {
            "text/plain": [
              "([<matplotlib.axis.XTick at 0x7fc3f03ae310>,\n",
              "  <matplotlib.axis.XTick at 0x7fc3f03ae990>,\n",
              "  <matplotlib.axis.XTick at 0x7fc3f03aefd0>,\n",
              "  <matplotlib.axis.XTick at 0x7fc3f034f790>,\n",
              "  <matplotlib.axis.XTick at 0x7fc3f034fd10>,\n",
              "  <matplotlib.axis.XTick at 0x7fc3f0355310>,\n",
              "  <matplotlib.axis.XTick at 0x7fc3f0355810>,\n",
              "  <matplotlib.axis.XTick at 0x7fc3f0355d50>,\n",
              "  <matplotlib.axis.XTick at 0x7fc3f035c350>,\n",
              "  <matplotlib.axis.XTick at 0x7fc3f035c810>],\n",
              " <a list of 10 Text major ticklabel objects>)"
            ]
          },
          "metadata": {},
          "execution_count": 22
        },
        {
          "output_type": "display_data",
          "data": {
            "text/plain": [
              "<Figure size 432x288 with 1 Axes>"
            ],
            "image/png": "[encoded data removed]"
          },
          "metadata": {
            "needs_background": "light"
          }
        }
      ],
      "source": [
        "a_index = list(range(1,11))\n",
        "a = pd.Series()\n",
        "x = [1,2,3,4,5,6,7,8,9,10]\n",
        "for i in list(range(1,11)):\n",
        "    kcs = KNeighborsClassifier(n_neighbors=i) \n",
        "    kcs.fit(X_train,y_train)\n",
        "    y_pred = kcs.predict(X_test)\n",
        "    a=a.append(pd.Series(\n",
        "        metrics.accuracy_score(y_pred,y_test)))\n",
        "    \n",
        "plt.plot(a_index, a,'ro--')\n",
        "plt.xticks(x)"
      ]
    },
    {
      "cell_type": "code",
      "source": [
        "from sklearn.svm import SVC "
      ],
      "metadata": {
        "id": "21uHB3ttCQxa"
      },
      "execution_count": 23,
      "outputs": []
    },
    {
      "cell_type": "code",
      "source": [
        "model = SVC()\n",
        "model.fit(X_train, y_train)\n",
        "pred = model.predict(X_test)\n"
      ],
      "metadata": {
        "id": "3eSw_7tLBSeL"
      },
      "execution_count": 24,
      "outputs": []
    },
    {
      "cell_type": "code",
      "source": [
        "metrics.accuracy_score(pred, y_test)"
      ],
      "metadata": {
        "colab": {
          "base_uri": "https://localhost:8080/"
        },
        "id": "4yD5tBonCOw1",
        "outputId": "fc08e2dc-3173-43e7-e983-409ca4eccc3f"
      },
      "execution_count": 25,
      "outputs": [
        {
          "output_type": "execute_result",
          "data": {
            "text/plain": [
              "0.8747675139491631"
            ]
          },
          "metadata": {},
          "execution_count": 25
        }
      ]
    },
    {
      "cell_type": "code",
      "source": [
        "title='SVC'\n",
        "cv = ShuffleSplit(n_splits=4, test_size=0.2, random_state=0)\n",
        "plot_ml_curve(model, title, X, y,  cv=cv)"
      ],
      "metadata": {
        "colab": {
          "base_uri": "https://localhost:8080/",
          "height": 313
        },
        "id": "eXYPCv7TCxZQ",
        "outputId": "00a41a2e-9928-4606-bc7b-241b9d55ef5e"
      },
      "execution_count": 26,
      "outputs": [
        {
          "output_type": "execute_result",
          "data": {
            "text/plain": [
              "<module 'matplotlib.pyplot' from '/usr/local/lib/python3.7/dist-packages/matplotlib/pyplot.py'>"
            ]
          },
          "metadata": {},
          "execution_count": 26
        },
        {
          "output_type": "display_data",
          "data": {
            "text/plain": [
              "<Figure size 432x288 with 1 Axes>"
            ],
            "image/png": "[encoded data removed]"
          },
          "metadata": {
            "needs_background": "light"
          }
        }
      ]
    },
    {
      "cell_type": "code",
      "source": [
        "from sklearn.ensemble import RandomForestClassifier"
      ],
      "metadata": {
        "id": "fJ6gyv8EDrUJ"
      },
      "execution_count": 27,
      "outputs": []
    },
    {
      "cell_type": "code",
      "source": [
        "model = RandomForestClassifier(n_estimators=100, max_depth=3)\n",
        "model.fit(X_train, y_train)\n",
        "pred = model.predict(X_test)\n",
        "metrics.accuracy_score(pred, y_test)"
      ],
      "metadata": {
        "colab": {
          "base_uri": "https://localhost:8080/"
        },
        "id": "SFkvOQNODEC9",
        "outputId": "124ea5fe-c8cc-4611-e616-d459b6e26acf"
      },
      "execution_count": 28,
      "outputs": [
        {
          "output_type": "execute_result",
          "data": {
            "text/plain": [
              "0.8561686298822071"
            ]
          },
          "metadata": {},
          "execution_count": 28
        }
      ]
    },
    {
      "cell_type": "code",
      "source": [
        "title='RandomForestC'\n",
        "cv = ShuffleSplit(n_splits=4, test_size=0.2, random_state=0)\n",
        "plot_ml_curve(model, title, X, y,  cv=cv)"
      ],
      "metadata": {
        "colab": {
          "base_uri": "https://localhost:8080/",
          "height": 313
        },
        "id": "MPRDC4I5D0tq",
        "outputId": "b50f2a01-6f5a-458d-b1aa-437ee0e5174e"
      },
      "execution_count": 29,
      "outputs": [
        {
          "output_type": "execute_result",
          "data": {
            "text/plain": [
              "<module 'matplotlib.pyplot' from '/usr/local/lib/python3.7/dist-packages/matplotlib/pyplot.py'>"
            ]
          },
          "metadata": {},
          "execution_count": 29
        },
        {
          "output_type": "display_data",
          "data": {
            "text/plain": [
              "<Figure size 432x288 with 1 Axes>"
            ],
            "image/png": "[encoded data removed]"
          },
          "metadata": {
            "needs_background": "light"
          }
        }
      ]
    },
    {
      "cell_type": "code",
      "source": [
        "from sklearn.tree import DecisionTreeClassifier"
      ],
      "metadata": {
        "id": "z-OeP_89Ea73"
      },
      "execution_count": 30,
      "outputs": []
    },
    {
      "cell_type": "code",
      "source": [
        "model = DecisionTreeClassifier()\n",
        "model.fit(X_train, y_train)\n",
        "pred = model.predict(X_test)\n",
        "metrics.accuracy_score(pred, y_test)"
      ],
      "metadata": {
        "colab": {
          "base_uri": "https://localhost:8080/"
        },
        "id": "66JNq_v4Ecqh",
        "outputId": "a686c610-dcdd-419a-e0c0-4fb2dd92fd2f"
      },
      "execution_count": 31,
      "outputs": [
        {
          "output_type": "execute_result",
          "data": {
            "text/plain": [
              "0.8183508989460633"
            ]
          },
          "metadata": {},
          "execution_count": 31
        }
      ]
    },
    {
      "cell_type": "code",
      "source": [
        "title='DTC'\n",
        "cv = ShuffleSplit(n_splits=4, test_size=0.2, random_state=0)\n",
        "plot_ml_curve(model, title, X, y,  cv=cv)"
      ],
      "metadata": {
        "colab": {
          "base_uri": "https://localhost:8080/",
          "height": 313
        },
        "id": "01JOMEesEcut",
        "outputId": "5bf3bb8a-0b8c-46a6-cf7d-80c2e2f3354b"
      },
      "execution_count": 32,
      "outputs": [
        {
          "output_type": "execute_result",
          "data": {
            "text/plain": [
              "<module 'matplotlib.pyplot' from '/usr/local/lib/python3.7/dist-packages/matplotlib/pyplot.py'>"
            ]
          },
          "metadata": {},
          "execution_count": 32
        },
        {
          "output_type": "display_data",
          "data": {
            "text/plain": [
              "<Figure size 432x288 with 1 Axes>"
            ],
            "image/png": "[encoded data removed]"
          },
          "metadata": {
            "needs_background": "light"
          }
        }
      ]
    },
    {
      "cell_type": "code",
      "source": [
        "import tensorflow as tf\n",
        "\n",
        "\n"
      ],
      "metadata": {
        "colab": {
          "base_uri": "https://localhost:8080/",
          "height": 354
        },
        "id": "OoSzGWZIEcyL",
        "outputId": "9af7d470-0ec4-46cc-c59a-cc75ec479a52"
      },
      "execution_count": 33,
      "outputs": [
        {
          "output_type": "error",
          "ename": "ModuleNotFoundError",
          "evalue": "ignored",
          "traceback": [
            "\u001b[0;31m---------------------------------------------------------------------------\u001b[0m",
            "\u001b[0;31mModuleNotFoundError\u001b[0m                       Traceback (most recent call last)",
            "\u001b[0;32m<ipython-input-33-e09de1fe8c0b>\u001b[0m in \u001b[0;36m<module>\u001b[0;34m()\u001b[0m\n\u001b[1;32m      2\u001b[0m \u001b[0;32mfrom\u001b[0m \u001b[0mtensorflow\u001b[0m \u001b[0;32mimport\u001b[0m \u001b[0mkeras\u001b[0m\u001b[0;34m\u001b[0m\u001b[0;34m\u001b[0m\u001b[0m\n\u001b[1;32m      3\u001b[0m \u001b[0;32mfrom\u001b[0m \u001b[0mtensorflow\u001b[0m\u001b[0;34m.\u001b[0m\u001b[0mkeras\u001b[0m \u001b[0;32mimport\u001b[0m \u001b[0mSequential\u001b[0m\u001b[0;34m,\u001b[0m \u001b[0moptimizers\u001b[0m\u001b[0;34m\u001b[0m\u001b[0;34m\u001b[0m\u001b[0m\n\u001b[0;32m----> 4\u001b[0;31m \u001b[0;32mfrom\u001b[0m \u001b[0mtensorlfow\u001b[0m\u001b[0;34m.\u001b[0m\u001b[0mkeras\u001b[0m\u001b[0;34m.\u001b[0m\u001b[0mlayers\u001b[0m \u001b[0;32mimport\u001b[0m \u001b[0mFlatten\u001b[0m\u001b[0;34m,\u001b[0m \u001b[0mDense\u001b[0m\u001b[0;34m,\u001b[0m \u001b[0mSoftmax\u001b[0m\u001b[0;34m\u001b[0m\u001b[0;34m\u001b[0m\u001b[0m\n\u001b[0m",
            "\u001b[0;31mModuleNotFoundError\u001b[0m: No module named 'tensorlfow'",
            "",
            "\u001b[0;31m---------------------------------------------------------------------------\u001b[0;32m\nNOTE: If your import is failing due to a missing package, you can\nmanually install dependencies using either !pip or !apt.\n\nTo view examples of installing some common dependencies, click the\n\"Open Examples\" button below.\n\u001b[0;31m---------------------------------------------------------------------------\u001b[0m\n"
          ],
          "errorDetails": {
            "actions": [
              {
                "action": "open_url",
                "actionText": "Open Examples",
                "url": "/notebooks/snippets/importing_libraries.ipynb"
              }
            ]
          }
        }
      ]
    },
    {
      "cell_type": "code",
      "source": [
        "import tensorflow as tf"
      ],
      "metadata": {
        "id": "Kr6Vb8nxIyVj"
      },
      "execution_count": 34,
      "outputs": []
    },
    {
      "cell_type": "code",
      "source": [
        "from tensorflow import keras"
      ],
      "metadata": {
        "id": "u42U46LkEc1s"
      },
      "execution_count": 35,
      "outputs": []
    },
    {
      "cell_type": "code",
      "source": [
        "from tensorflow.keras import Sequential, optimizers"
      ],
      "metadata": {
        "id": "1FfM67NVI2A9"
      },
      "execution_count": 36,
      "outputs": []
    },
    {
      "cell_type": "code",
      "source": [
        "from tensorflow.keras.layers import Flatten, Dense, Softmax"
      ],
      "metadata": {
        "id": "S7n7stmNI4H8"
      },
      "execution_count": 38,
      "outputs": []
    },
    {
      "cell_type": "code",
      "source": [
        "num_features = len(X_train[1])\n",
        "num_features"
      ],
      "metadata": {
        "colab": {
          "base_uri": "https://localhost:8080/"
        },
        "id": "X7JOhEU6JgIv",
        "outputId": "54c759c9-b9a9-4ae1-c6c2-856f4a243557"
      },
      "execution_count": 43,
      "outputs": [
        {
          "output_type": "execute_result",
          "data": {
            "text/plain": [
              "4"
            ]
          },
          "metadata": {},
          "execution_count": 43
        }
      ]
    },
    {
      "cell_type": "code",
      "source": [
        "model = Sequential([\n",
        "                    Dense(64, activation='relu',input_shape=[num_features]),\n",
        "                    Dense(64, activation='relu'),\n",
        "                    Dense(32, activation='relu'),\n",
        "                    Dense(3, activation='softmax')\n",
        "])"
      ],
      "metadata": {
        "id": "3K2WU8qNI6gd"
      },
      "execution_count": 44,
      "outputs": []
    },
    {
      "cell_type": "code",
      "source": [
        "model.compile(loss='SparseCategoricalCrossentropy',\n",
        "              optimizer='adam', metrics=['accuracy'])"
      ],
      "metadata": {
        "id": "Dydg2OUcJ4mc"
      },
      "execution_count": 48,
      "outputs": []
    },
    {
      "cell_type": "code",
      "source": [
        "history = model.fit(X_train,y_train, epochs=100,\n",
        "                    validation_data=(X_test,y_test),\n",
        "                    batch_size=32, verbose=2)"
      ],
      "metadata": {
        "colab": {
          "base_uri": "https://localhost:8080/"
        },
        "id": "UlkC0buYJ8pz",
        "outputId": "816d180d-c383-41f4-e33e-18ce4e844ba7"
      },
      "execution_count": 49,
      "outputs": [
        {
          "output_type": "stream",
          "name": "stdout",
          "text": [
            "Epoch 1/100\n",
            "202/202 - 5s - loss: 0.4374 - accuracy: 0.8492 - val_loss: 0.3439 - val_accuracy: 0.8636 - 5s/epoch - 25ms/step\n",
            "Epoch 2/100\n",
            "202/202 - 1s - loss: 0.3247 - accuracy: 0.8744 - val_loss: 0.3627 - val_accuracy: 0.8655 - 732ms/epoch - 4ms/step\n",
            "Epoch 3/100\n",
            "202/202 - 1s - loss: 0.3154 - accuracy: 0.8805 - val_loss: 0.3440 - val_accuracy: 0.8717 - 760ms/epoch - 4ms/step\n",
            "Epoch 4/100\n",
            "202/202 - 1s - loss: 0.3055 - accuracy: 0.8856 - val_loss: 0.3224 - val_accuracy: 0.8772 - 768ms/epoch - 4ms/step\n",
            "Epoch 5/100\n",
            "202/202 - 1s - loss: 0.3009 - accuracy: 0.8867 - val_loss: 0.3217 - val_accuracy: 0.8710 - 925ms/epoch - 5ms/step\n",
            "Epoch 6/100\n",
            "202/202 - 1s - loss: 0.2951 - accuracy: 0.8889 - val_loss: 0.3133 - val_accuracy: 0.8760 - 782ms/epoch - 4ms/step\n",
            "Epoch 7/100\n",
            "202/202 - 1s - loss: 0.2877 - accuracy: 0.8898 - val_loss: 0.3131 - val_accuracy: 0.8803 - 755ms/epoch - 4ms/step\n",
            "Epoch 8/100\n",
            "202/202 - 1s - loss: 0.2817 - accuracy: 0.8909 - val_loss: 0.2942 - val_accuracy: 0.8872 - 793ms/epoch - 4ms/step\n",
            "Epoch 9/100\n",
            "202/202 - 1s - loss: 0.2770 - accuracy: 0.8935 - val_loss: 0.2963 - val_accuracy: 0.8890 - 726ms/epoch - 4ms/step\n",
            "Epoch 10/100\n",
            "202/202 - 1s - loss: 0.2740 - accuracy: 0.8957 - val_loss: 0.3014 - val_accuracy: 0.8797 - 760ms/epoch - 4ms/step\n",
            "Epoch 11/100\n",
            "202/202 - 1s - loss: 0.2715 - accuracy: 0.8944 - val_loss: 0.3117 - val_accuracy: 0.8834 - 822ms/epoch - 4ms/step\n",
            "Epoch 12/100\n",
            "202/202 - 1s - loss: 0.2721 - accuracy: 0.8978 - val_loss: 0.2963 - val_accuracy: 0.8878 - 769ms/epoch - 4ms/step\n",
            "Epoch 13/100\n",
            "202/202 - 1s - loss: 0.2725 - accuracy: 0.8944 - val_loss: 0.2953 - val_accuracy: 0.8791 - 819ms/epoch - 4ms/step\n",
            "Epoch 14/100\n",
            "202/202 - 1s - loss: 0.2642 - accuracy: 0.8971 - val_loss: 0.2896 - val_accuracy: 0.8834 - 792ms/epoch - 4ms/step\n",
            "Epoch 15/100\n",
            "202/202 - 1s - loss: 0.2650 - accuracy: 0.8969 - val_loss: 0.2952 - val_accuracy: 0.8853 - 739ms/epoch - 4ms/step\n",
            "Epoch 16/100\n",
            "202/202 - 1s - loss: 0.2654 - accuracy: 0.8966 - val_loss: 0.2821 - val_accuracy: 0.8915 - 754ms/epoch - 4ms/step\n",
            "Epoch 17/100\n",
            "202/202 - 1s - loss: 0.2628 - accuracy: 0.8989 - val_loss: 0.2877 - val_accuracy: 0.8921 - 761ms/epoch - 4ms/step\n",
            "Epoch 18/100\n",
            "202/202 - 1s - loss: 0.2671 - accuracy: 0.8982 - val_loss: 0.3098 - val_accuracy: 0.8841 - 779ms/epoch - 4ms/step\n",
            "Epoch 19/100\n",
            "202/202 - 1s - loss: 0.2614 - accuracy: 0.8997 - val_loss: 0.2862 - val_accuracy: 0.8878 - 902ms/epoch - 4ms/step\n",
            "Epoch 20/100\n",
            "202/202 - 1s - loss: 0.2622 - accuracy: 0.8980 - val_loss: 0.2811 - val_accuracy: 0.8934 - 809ms/epoch - 4ms/step\n",
            "Epoch 21/100\n",
            "202/202 - 1s - loss: 0.2590 - accuracy: 0.8985 - val_loss: 0.2953 - val_accuracy: 0.8847 - 948ms/epoch - 5ms/step\n",
            "Epoch 22/100\n",
            "202/202 - 1s - loss: 0.2602 - accuracy: 0.8978 - val_loss: 0.2894 - val_accuracy: 0.8859 - 745ms/epoch - 4ms/step\n",
            "Epoch 23/100\n",
            "202/202 - 1s - loss: 0.2609 - accuracy: 0.8960 - val_loss: 0.3110 - val_accuracy: 0.8859 - 778ms/epoch - 4ms/step\n",
            "Epoch 24/100\n",
            "202/202 - 1s - loss: 0.2601 - accuracy: 0.8999 - val_loss: 0.2937 - val_accuracy: 0.8847 - 786ms/epoch - 4ms/step\n",
            "Epoch 25/100\n",
            "202/202 - 1s - loss: 0.2603 - accuracy: 0.8977 - val_loss: 0.2807 - val_accuracy: 0.8946 - 779ms/epoch - 4ms/step\n",
            "Epoch 26/100\n",
            "202/202 - 1s - loss: 0.2601 - accuracy: 0.8974 - val_loss: 0.3034 - val_accuracy: 0.8828 - 781ms/epoch - 4ms/step\n",
            "Epoch 27/100\n",
            "202/202 - 1s - loss: 0.2594 - accuracy: 0.8986 - val_loss: 0.2957 - val_accuracy: 0.8859 - 839ms/epoch - 4ms/step\n",
            "Epoch 28/100\n",
            "202/202 - 1s - loss: 0.2562 - accuracy: 0.8954 - val_loss: 0.2817 - val_accuracy: 0.8946 - 796ms/epoch - 4ms/step\n",
            "Epoch 29/100\n",
            "202/202 - 1s - loss: 0.2583 - accuracy: 0.8977 - val_loss: 0.2959 - val_accuracy: 0.8865 - 768ms/epoch - 4ms/step\n",
            "Epoch 30/100\n",
            "202/202 - 1s - loss: 0.2564 - accuracy: 0.8974 - val_loss: 0.2852 - val_accuracy: 0.8927 - 766ms/epoch - 4ms/step\n",
            "Epoch 31/100\n",
            "202/202 - 1s - loss: 0.2561 - accuracy: 0.9022 - val_loss: 0.2988 - val_accuracy: 0.8896 - 794ms/epoch - 4ms/step\n",
            "Epoch 32/100\n",
            "202/202 - 1s - loss: 0.2554 - accuracy: 0.9030 - val_loss: 0.2892 - val_accuracy: 0.8834 - 802ms/epoch - 4ms/step\n",
            "Epoch 33/100\n",
            "202/202 - 1s - loss: 0.2547 - accuracy: 0.8989 - val_loss: 0.2898 - val_accuracy: 0.8934 - 762ms/epoch - 4ms/step\n",
            "Epoch 34/100\n",
            "202/202 - 1s - loss: 0.2543 - accuracy: 0.8983 - val_loss: 0.2837 - val_accuracy: 0.8934 - 749ms/epoch - 4ms/step\n",
            "Epoch 35/100\n",
            "202/202 - 1s - loss: 0.2538 - accuracy: 0.8996 - val_loss: 0.2950 - val_accuracy: 0.8909 - 751ms/epoch - 4ms/step\n",
            "Epoch 36/100\n",
            "202/202 - 1s - loss: 0.2536 - accuracy: 0.8985 - val_loss: 0.2836 - val_accuracy: 0.8927 - 784ms/epoch - 4ms/step\n",
            "Epoch 37/100\n",
            "202/202 - 1s - loss: 0.2530 - accuracy: 0.8985 - val_loss: 0.2919 - val_accuracy: 0.8878 - 750ms/epoch - 4ms/step\n",
            "Epoch 38/100\n",
            "202/202 - 1s - loss: 0.2527 - accuracy: 0.9005 - val_loss: 0.2889 - val_accuracy: 0.8940 - 759ms/epoch - 4ms/step\n",
            "Epoch 39/100\n",
            "202/202 - 1s - loss: 0.2514 - accuracy: 0.9009 - val_loss: 0.2887 - val_accuracy: 0.8878 - 804ms/epoch - 4ms/step\n",
            "Epoch 40/100\n",
            "202/202 - 1s - loss: 0.2512 - accuracy: 0.8989 - val_loss: 0.2887 - val_accuracy: 0.8915 - 761ms/epoch - 4ms/step\n",
            "Epoch 41/100\n",
            "202/202 - 1s - loss: 0.2515 - accuracy: 0.8997 - val_loss: 0.2823 - val_accuracy: 0.8909 - 783ms/epoch - 4ms/step\n",
            "Epoch 42/100\n",
            "202/202 - 1s - loss: 0.2528 - accuracy: 0.8999 - val_loss: 0.2965 - val_accuracy: 0.8822 - 761ms/epoch - 4ms/step\n",
            "Epoch 43/100\n",
            "202/202 - 1s - loss: 0.2525 - accuracy: 0.8982 - val_loss: 0.2894 - val_accuracy: 0.8915 - 762ms/epoch - 4ms/step\n",
            "Epoch 44/100\n",
            "202/202 - 1s - loss: 0.2515 - accuracy: 0.9031 - val_loss: 0.2904 - val_accuracy: 0.8921 - 815ms/epoch - 4ms/step\n",
            "Epoch 45/100\n",
            "202/202 - 1s - loss: 0.2507 - accuracy: 0.9002 - val_loss: 0.2865 - val_accuracy: 0.8872 - 795ms/epoch - 4ms/step\n",
            "Epoch 46/100\n",
            "202/202 - 1s - loss: 0.2513 - accuracy: 0.8999 - val_loss: 0.2852 - val_accuracy: 0.8915 - 772ms/epoch - 4ms/step\n",
            "Epoch 47/100\n",
            "202/202 - 1s - loss: 0.2499 - accuracy: 0.9016 - val_loss: 0.2855 - val_accuracy: 0.8878 - 988ms/epoch - 5ms/step\n",
            "Epoch 48/100\n",
            "202/202 - 1s - loss: 0.2516 - accuracy: 0.9002 - val_loss: 0.2848 - val_accuracy: 0.8921 - 794ms/epoch - 4ms/step\n",
            "Epoch 49/100\n",
            "202/202 - 1s - loss: 0.2502 - accuracy: 0.9022 - val_loss: 0.2872 - val_accuracy: 0.8872 - 757ms/epoch - 4ms/step\n",
            "Epoch 50/100\n",
            "202/202 - 1s - loss: 0.2493 - accuracy: 0.9017 - val_loss: 0.2859 - val_accuracy: 0.8884 - 778ms/epoch - 4ms/step\n",
            "Epoch 51/100\n",
            "202/202 - 1s - loss: 0.2526 - accuracy: 0.9017 - val_loss: 0.3128 - val_accuracy: 0.8810 - 750ms/epoch - 4ms/step\n",
            "Epoch 52/100\n",
            "202/202 - 1s - loss: 0.2482 - accuracy: 0.9006 - val_loss: 0.2878 - val_accuracy: 0.8903 - 807ms/epoch - 4ms/step\n",
            "Epoch 53/100\n",
            "202/202 - 1s - loss: 0.2475 - accuracy: 0.9028 - val_loss: 0.2918 - val_accuracy: 0.8896 - 795ms/epoch - 4ms/step\n",
            "Epoch 54/100\n",
            "202/202 - 1s - loss: 0.2473 - accuracy: 0.9050 - val_loss: 0.2924 - val_accuracy: 0.8896 - 750ms/epoch - 4ms/step\n",
            "Epoch 55/100\n",
            "202/202 - 1s - loss: 0.2483 - accuracy: 0.9042 - val_loss: 0.2908 - val_accuracy: 0.8903 - 764ms/epoch - 4ms/step\n",
            "Epoch 56/100\n",
            "202/202 - 1s - loss: 0.2514 - accuracy: 0.9003 - val_loss: 0.2945 - val_accuracy: 0.8859 - 772ms/epoch - 4ms/step\n",
            "Epoch 57/100\n",
            "202/202 - 1s - loss: 0.2460 - accuracy: 0.9056 - val_loss: 0.2933 - val_accuracy: 0.8859 - 775ms/epoch - 4ms/step\n",
            "Epoch 58/100\n",
            "202/202 - 1s - loss: 0.2478 - accuracy: 0.9020 - val_loss: 0.2908 - val_accuracy: 0.8841 - 760ms/epoch - 4ms/step\n",
            "Epoch 59/100\n",
            "202/202 - 1s - loss: 0.2494 - accuracy: 0.9030 - val_loss: 0.2955 - val_accuracy: 0.8921 - 744ms/epoch - 4ms/step\n",
            "Epoch 60/100\n",
            "202/202 - 1s - loss: 0.2448 - accuracy: 0.9036 - val_loss: 0.2927 - val_accuracy: 0.8884 - 807ms/epoch - 4ms/step\n",
            "Epoch 61/100\n",
            "202/202 - 1s - loss: 0.2460 - accuracy: 0.9025 - val_loss: 0.3021 - val_accuracy: 0.8872 - 765ms/epoch - 4ms/step\n",
            "Epoch 62/100\n",
            "202/202 - 1s - loss: 0.2458 - accuracy: 0.9048 - val_loss: 0.3000 - val_accuracy: 0.8884 - 763ms/epoch - 4ms/step\n",
            "Epoch 63/100\n",
            "202/202 - 1s - loss: 0.2436 - accuracy: 0.9059 - val_loss: 0.2889 - val_accuracy: 0.8915 - 929ms/epoch - 5ms/step\n",
            "Epoch 64/100\n",
            "202/202 - 1s - loss: 0.2421 - accuracy: 0.9030 - val_loss: 0.2918 - val_accuracy: 0.8903 - 781ms/epoch - 4ms/step\n",
            "Epoch 65/100\n",
            "202/202 - 1s - loss: 0.2430 - accuracy: 0.9016 - val_loss: 0.2960 - val_accuracy: 0.8884 - 799ms/epoch - 4ms/step\n",
            "Epoch 66/100\n",
            "202/202 - 1s - loss: 0.2443 - accuracy: 0.9053 - val_loss: 0.2947 - val_accuracy: 0.8878 - 742ms/epoch - 4ms/step\n",
            "Epoch 67/100\n",
            "202/202 - 1s - loss: 0.2464 - accuracy: 0.9027 - val_loss: 0.2949 - val_accuracy: 0.8884 - 766ms/epoch - 4ms/step\n",
            "Epoch 68/100\n",
            "202/202 - 1s - loss: 0.2464 - accuracy: 0.9033 - val_loss: 0.2906 - val_accuracy: 0.8896 - 764ms/epoch - 4ms/step\n",
            "Epoch 69/100\n",
            "202/202 - 1s - loss: 0.2427 - accuracy: 0.9068 - val_loss: 0.2951 - val_accuracy: 0.8853 - 752ms/epoch - 4ms/step\n",
            "Epoch 70/100\n",
            "202/202 - 1s - loss: 0.2455 - accuracy: 0.9033 - val_loss: 0.2972 - val_accuracy: 0.8859 - 809ms/epoch - 4ms/step\n",
            "Epoch 71/100\n",
            "202/202 - 1s - loss: 0.2454 - accuracy: 0.9033 - val_loss: 0.2962 - val_accuracy: 0.8909 - 798ms/epoch - 4ms/step\n",
            "Epoch 72/100\n",
            "202/202 - 1s - loss: 0.2444 - accuracy: 0.9030 - val_loss: 0.2962 - val_accuracy: 0.8915 - 740ms/epoch - 4ms/step\n",
            "Epoch 73/100\n",
            "202/202 - 1s - loss: 0.2420 - accuracy: 0.9047 - val_loss: 0.2915 - val_accuracy: 0.8903 - 750ms/epoch - 4ms/step\n",
            "Epoch 74/100\n",
            "202/202 - 1s - loss: 0.2437 - accuracy: 0.9033 - val_loss: 0.3040 - val_accuracy: 0.8841 - 750ms/epoch - 4ms/step\n",
            "Epoch 75/100\n",
            "202/202 - 1s - loss: 0.2446 - accuracy: 0.9048 - val_loss: 0.2965 - val_accuracy: 0.8890 - 816ms/epoch - 4ms/step\n",
            "Epoch 76/100\n",
            "202/202 - 1s - loss: 0.2430 - accuracy: 0.9034 - val_loss: 0.2985 - val_accuracy: 0.8872 - 774ms/epoch - 4ms/step\n",
            "Epoch 77/100\n",
            "202/202 - 1s - loss: 0.2418 - accuracy: 0.9054 - val_loss: 0.2965 - val_accuracy: 0.8903 - 785ms/epoch - 4ms/step\n",
            "Epoch 78/100\n",
            "202/202 - 1s - loss: 0.2419 - accuracy: 0.9054 - val_loss: 0.2977 - val_accuracy: 0.8884 - 725ms/epoch - 4ms/step\n",
            "Epoch 79/100\n",
            "202/202 - 1s - loss: 0.2403 - accuracy: 0.9047 - val_loss: 0.2991 - val_accuracy: 0.8816 - 773ms/epoch - 4ms/step\n",
            "Epoch 80/100\n",
            "202/202 - 1s - loss: 0.2431 - accuracy: 0.9065 - val_loss: 0.3038 - val_accuracy: 0.8865 - 779ms/epoch - 4ms/step\n",
            "Epoch 81/100\n",
            "202/202 - 1s - loss: 0.2426 - accuracy: 0.9044 - val_loss: 0.2934 - val_accuracy: 0.8884 - 753ms/epoch - 4ms/step\n",
            "Epoch 82/100\n",
            "202/202 - 1s - loss: 0.2400 - accuracy: 0.9065 - val_loss: 0.2976 - val_accuracy: 0.8940 - 721ms/epoch - 4ms/step\n",
            "Epoch 83/100\n",
            "202/202 - 1s - loss: 0.2399 - accuracy: 0.9051 - val_loss: 0.3155 - val_accuracy: 0.8890 - 751ms/epoch - 4ms/step\n",
            "Epoch 84/100\n",
            "202/202 - 1s - loss: 0.2418 - accuracy: 0.9054 - val_loss: 0.3016 - val_accuracy: 0.8872 - 768ms/epoch - 4ms/step\n",
            "Epoch 85/100\n",
            "202/202 - 1s - loss: 0.2420 - accuracy: 0.9070 - val_loss: 0.3101 - val_accuracy: 0.8884 - 756ms/epoch - 4ms/step\n",
            "Epoch 86/100\n",
            "202/202 - 1s - loss: 0.2397 - accuracy: 0.9062 - val_loss: 0.3022 - val_accuracy: 0.8896 - 750ms/epoch - 4ms/step\n",
            "Epoch 87/100\n",
            "202/202 - 1s - loss: 0.2396 - accuracy: 0.9070 - val_loss: 0.2955 - val_accuracy: 0.8865 - 753ms/epoch - 4ms/step\n",
            "Epoch 88/100\n",
            "202/202 - 1s - loss: 0.2415 - accuracy: 0.9053 - val_loss: 0.3034 - val_accuracy: 0.8853 - 801ms/epoch - 4ms/step\n",
            "Epoch 89/100\n",
            "202/202 - 1s - loss: 0.2398 - accuracy: 0.9061 - val_loss: 0.3014 - val_accuracy: 0.8927 - 780ms/epoch - 4ms/step\n",
            "Epoch 90/100\n",
            "202/202 - 1s - loss: 0.2393 - accuracy: 0.9054 - val_loss: 0.2971 - val_accuracy: 0.8890 - 777ms/epoch - 4ms/step\n",
            "Epoch 91/100\n",
            "202/202 - 1s - loss: 0.2381 - accuracy: 0.9065 - val_loss: 0.3016 - val_accuracy: 0.8847 - 760ms/epoch - 4ms/step\n",
            "Epoch 92/100\n",
            "202/202 - 1s - loss: 0.2398 - accuracy: 0.9058 - val_loss: 0.3048 - val_accuracy: 0.8816 - 740ms/epoch - 4ms/step\n",
            "Epoch 93/100\n",
            "202/202 - 1s - loss: 0.2379 - accuracy: 0.9082 - val_loss: 0.3013 - val_accuracy: 0.8884 - 778ms/epoch - 4ms/step\n",
            "Epoch 94/100\n",
            "202/202 - 1s - loss: 0.2394 - accuracy: 0.9075 - val_loss: 0.3067 - val_accuracy: 0.8859 - 749ms/epoch - 4ms/step\n",
            "Epoch 95/100\n",
            "202/202 - 1s - loss: 0.2391 - accuracy: 0.9076 - val_loss: 0.2971 - val_accuracy: 0.8890 - 758ms/epoch - 4ms/step\n",
            "Epoch 96/100\n",
            "202/202 - 1s - loss: 0.2357 - accuracy: 0.9096 - val_loss: 0.3123 - val_accuracy: 0.8785 - 774ms/epoch - 4ms/step\n",
            "Epoch 97/100\n",
            "202/202 - 1s - loss: 0.2386 - accuracy: 0.9075 - val_loss: 0.3116 - val_accuracy: 0.8903 - 790ms/epoch - 4ms/step\n",
            "Epoch 98/100\n",
            "202/202 - 1s - loss: 0.2375 - accuracy: 0.9075 - val_loss: 0.3034 - val_accuracy: 0.8859 - 792ms/epoch - 4ms/step\n",
            "Epoch 99/100\n",
            "202/202 - 1s - loss: 0.2368 - accuracy: 0.9065 - val_loss: 0.3070 - val_accuracy: 0.8822 - 797ms/epoch - 4ms/step\n",
            "Epoch 100/100\n",
            "202/202 - 1s - loss: 0.2379 - accuracy: 0.9073 - val_loss: 0.3066 - val_accuracy: 0.8884 - 803ms/epoch - 4ms/step\n"
          ]
        }
      ]
    },
    {
      "cell_type": "code",
      "source": [
        "model.evaluate(X_test,y_test)"
      ],
      "metadata": {
        "colab": {
          "base_uri": "https://localhost:8080/"
        },
        "id": "L0c06O4VJ8tD",
        "outputId": "6d3f27f0-3a78-4110-f678-f17c68c04542"
      },
      "execution_count": 50,
      "outputs": [
        {
          "output_type": "stream",
          "name": "stdout",
          "text": [
            "51/51 [==============================] - 0s 3ms/step - loss: 0.3066 - accuracy: 0.8884\n"
          ]
        },
        {
          "output_type": "execute_result",
          "data": {
            "text/plain": [
              "[0.30664196610450745, 0.8884066939353943]"
            ]
          },
          "metadata": {},
          "execution_count": 50
        }
      ]
    },
    {
      "cell_type": "code",
      "source": [
        ""
      ],
      "metadata": {
        "id": "8oJmqQ74J8wT"
      },
      "execution_count": null,
      "outputs": []
    },
    {
      "cell_type": "code",
      "source": [
        ""
      ],
      "metadata": {
        "id": "1iQKL0RvK3k5"
      },
      "execution_count": null,
      "outputs": []
    }
  ],
  "metadata": {
    "accelerator": "GPU",
    "colab": {
      "collapsed_sections": [
        "hAi2SkaJM0-M"
      ],
      "name": "lab2-05-vds_ML_kNN.ipynb",
      "provenance": []
    },
    "kernelspec": {
      "display_name": "Python 3",
      "name": "python3"
    },
    "language_info": {
      "name": "python"
    },
    "papermill": {
      "duration": 31.125685,
      "end_time": "2020-11-04T17:04:50.944017",
      "environment_variables": {},
      "exception": null,
      "input_path": "__notebook__.ipynb",
      "output_path": "__notebook__.ipynb",
      "parameters": {},
      "start_time": "2020-11-04T17:04:19.818332",
      "version": "2.1.0"
    },
    "gpuClass": "standard"
  },
  "nbformat": 4,
  "nbformat_minor": 0
}