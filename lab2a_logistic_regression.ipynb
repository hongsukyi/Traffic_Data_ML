{
 "cells": [
  {
   "cell_type": "markdown",
   "metadata": {
    "colab": {},
    "colab_type": "code",
    "id": "dk3ggjvmFUV5",
    "slideshow": {
     "slide_type": "slide"
    }
   },
   "source": [
    "# Tensorflow 2.x로 시작하는 로지스틱 회귀"
   ]
  },
  {
   "cell_type": "markdown",
   "metadata": {},
   "source": [
    "#### Sigmoid 함수 살펴보자"
   ]
  },
  {
   "cell_type": "code",
   "execution_count": null,
   "metadata": {},
   "outputs": [],
   "source": [
    "#%matplotlib inline"
   ]
  },
  {
   "cell_type": "code",
   "execution_count": null,
   "metadata": {},
   "outputs": [],
   "source": [
    "import numpy as np \n",
    "import matplotlib.pyplot as plt "
   ]
  },
  {
   "cell_type": "code",
   "execution_count": null,
   "metadata": {},
   "outputs": [],
   "source": [
    "def sigmoid(x):\n",
    "    return 1/(1+np.exp(-x))"
   ]
  },
  {
   "cell_type": "code",
   "execution_count": null,
   "metadata": {},
   "outputs": [],
   "source": [
    "x = np.arange(-5.0, 5.0, 0.1)\n",
    "y = sigmoid(x)"
   ]
  },
  {
   "cell_type": "code",
   "execution_count": null,
   "metadata": {},
   "outputs": [],
   "source": [
    "plt.plot(x, y, 'g')\n",
    "plt.plot([0,0],[1.0,0.0], ':')      # 가운데 점선 추가\n",
    "plt.title('Sigmoid Function')\n",
    "plt.grid()\n",
    "plt.show()"
   ]
  },
  {
   "cell_type": "markdown",
   "metadata": {},
   "source": [
    "### 가중치 변화에 따른 그래프"
   ]
  },
  {
   "cell_type": "code",
   "execution_count": null,
   "metadata": {},
   "outputs": [],
   "source": [
    "y1 = sigmoid(0.5*x)\n",
    "\n",
    "y2 = sigmoid(x)\n",
    "\n",
    "y3 = sigmoid(2*x)"
   ]
  },
  {
   "cell_type": "code",
   "execution_count": null,
   "metadata": {
    "scrolled": true
   },
   "outputs": [],
   "source": [
    "plt.plot(x, y1, 'r', linestyle='--')  # W의 값이 0.5일때\n",
    "plt.plot(x, y2, 'g')                  # W의 값이 1일때\n",
    "plt.plot(x, y3, 'b', linestyle='--')  # W의 값이 2일때\n",
    "plt.plot([0,0],[1.0,0.0], ':')        # 가운데 점선 추가\n",
    "plt.title('Sigmoid Function')\n",
    "plt.show()"
   ]
  },
  {
   "cell_type": "markdown",
   "metadata": {},
   "source": [
    "### 편향 변화에 따른 그래프 "
   ]
  },
  {
   "cell_type": "code",
   "execution_count": null,
   "metadata": {
    "scrolled": true
   },
   "outputs": [],
   "source": [
    "y1 = sigmoid(x+0.5)\n",
    "y2 = sigmoid(x+1)\n",
    "y3 = sigmoid(x+1.5)\n",
    "\n",
    "plt.plot(x, y1, 'r', linestyle='--')    # x + 0.5\n",
    "plt.plot(x, y2, 'g')                    # x + 1\n",
    "plt.plot(x, y3, 'b', linestyle='--')     # x + 1.5\n",
    "plt.plot([0,0],[1.0,0.0], ':')          # 가운데 점선 추가\n",
    "plt.title('Sigmoid Function')\n",
    "plt.show()"
   ]
  },
  {
   "cell_type": "markdown",
   "metadata": {},
   "source": [
    "### 케라스로 구현하는 로지스틱 회귀"
   ]
  },
  {
   "cell_type": "code",
   "execution_count": 1,
   "metadata": {},
   "outputs": [],
   "source": [
    "import numpy as np"
   ]
  },
  {
   "cell_type": "code",
   "execution_count": 2,
   "metadata": {},
   "outputs": [],
   "source": [
    "from tensorflow.keras.models import Sequential \n",
    "from tensorflow.keras.layers import Dense \n",
    "from tensorflow.keras import optimizers  "
   ]
  },
  {
   "cell_type": "code",
   "execution_count": 3,
   "metadata": {},
   "outputs": [],
   "source": [
    "X=np.array([-50, -40, -30, -20, -10, -5, 0, 5, 10, 20, 30, 40, 50])\n",
    "y=np.array([0, 0, 0, 0, 0, 0, 0, 0, 1, 1, 1, 1, 1])                  #숫자 10부터 1"
   ]
  },
  {
   "cell_type": "code",
   "execution_count": 4,
   "metadata": {},
   "outputs": [],
   "source": [
    "model=Sequential()"
   ]
  },
  {
   "cell_type": "code",
   "execution_count": 5,
   "metadata": {},
   "outputs": [],
   "source": [
    "model.add(Dense(1, input_dim=1, activation='sigmoid'))"
   ]
  },
  {
   "cell_type": "code",
   "execution_count": 6,
   "metadata": {},
   "outputs": [
    {
     "name": "stderr",
     "output_type": "stream",
     "text": [
      "C:\\Users\\admin\\Anaconda3\\envs\\tf2.5\\lib\\site-packages\\keras\\optimizer_v2\\optimizer_v2.py:355: UserWarning: The `lr` argument is deprecated, use `learning_rate` instead.\n",
      "  warnings.warn(\n"
     ]
    }
   ],
   "source": [
    "sgd=optimizers.SGD(lr=0.01)"
   ]
  },
  {
   "cell_type": "markdown",
   "metadata": {},
   "source": [
    "- 회귀의 손실함수는 오차(MSE)를 사용해야 하지만, 로지스틱은 특별히 Accuracy를 자주 쓴다."
   ]
  },
  {
   "cell_type": "code",
   "execution_count": 7,
   "metadata": {},
   "outputs": [],
   "source": [
    "model.compile(optimizer=sgd ,loss='binary_crossentropy',metrics=['binary_accuracy'])"
   ]
  },
  {
   "cell_type": "code",
   "execution_count": 8,
   "metadata": {},
   "outputs": [
    {
     "name": "stdout",
     "output_type": "stream",
     "text": [
      "Epoch 1/20\n",
      "1/1 [==============================] - 5s 5s/step - loss: 0.2111 - binary_accuracy: 0.9231\n",
      "Epoch 2/20\n",
      "1/1 [==============================] - 0s 6ms/step - loss: 0.2106 - binary_accuracy: 0.9231\n",
      "Epoch 3/20\n",
      "1/1 [==============================] - 0s 5ms/step - loss: 0.2101 - binary_accuracy: 0.9231\n",
      "Epoch 4/20\n",
      "1/1 [==============================] - 0s 10ms/step - loss: 0.2096 - binary_accuracy: 0.9231\n",
      "Epoch 5/20\n",
      "1/1 [==============================] - 0s 5ms/step - loss: 0.2092 - binary_accuracy: 0.9231\n",
      "Epoch 6/20\n",
      "1/1 [==============================] - 0s 10ms/step - loss: 0.2087 - binary_accuracy: 0.9231\n",
      "Epoch 7/20\n",
      "1/1 [==============================] - 0s 5ms/step - loss: 0.2083 - binary_accuracy: 0.9231\n",
      "Epoch 8/20\n",
      "1/1 [==============================] - 0s 4ms/step - loss: 0.2078 - binary_accuracy: 0.9231\n",
      "Epoch 9/20\n",
      "1/1 [==============================] - 0s 4ms/step - loss: 0.2074 - binary_accuracy: 0.9231\n",
      "Epoch 10/20\n",
      "1/1 [==============================] - 0s 5ms/step - loss: 0.2070 - binary_accuracy: 0.9231\n",
      "Epoch 11/20\n",
      "1/1 [==============================] - 0s 4ms/step - loss: 0.2066 - binary_accuracy: 0.9231\n",
      "Epoch 12/20\n",
      "1/1 [==============================] - 0s 7ms/step - loss: 0.2062 - binary_accuracy: 0.9231\n",
      "Epoch 13/20\n",
      "1/1 [==============================] - 0s 5ms/step - loss: 0.2058 - binary_accuracy: 0.9231\n",
      "Epoch 14/20\n",
      "1/1 [==============================] - 0s 6ms/step - loss: 0.2054 - binary_accuracy: 0.9231\n",
      "Epoch 15/20\n",
      "1/1 [==============================] - 0s 5ms/step - loss: 0.2050 - binary_accuracy: 0.9231\n",
      "Epoch 16/20\n",
      "1/1 [==============================] - 0s 5ms/step - loss: 0.2046 - binary_accuracy: 0.9231\n",
      "Epoch 17/20\n",
      "1/1 [==============================] - 0s 3ms/step - loss: 0.2043 - binary_accuracy: 0.9231\n",
      "Epoch 18/20\n",
      "1/1 [==============================] - 0s 3ms/step - loss: 0.2039 - binary_accuracy: 0.9231\n",
      "Epoch 19/20\n",
      "1/1 [==============================] - 0s 4ms/step - loss: 0.2035 - binary_accuracy: 0.9231\n",
      "Epoch 20/20\n",
      "1/1 [==============================] - 0s 4ms/step - loss: 0.2032 - binary_accuracy: 0.9231\n"
     ]
    }
   ],
   "source": [
    "# 옵티마이저는 경사하강법 sgd를 사용합니다.\n",
    "# 손실 함수(Loss function)는 binary_crossentropy(이진 크로스 엔트로피)를 사용합니다.\n",
    "history = model.fit(X,y, epochs=20, shuffle=False)"
   ]
  },
  {
   "cell_type": "code",
   "execution_count": 9,
   "metadata": {},
   "outputs": [],
   "source": [
    "import matplotlib.pyplot as plt\n",
    "%matplotlib inline"
   ]
  },
  {
   "cell_type": "code",
   "execution_count": null,
   "metadata": {},
   "outputs": [],
   "source": [
    "plt.plot(X, model.predict(X), 'b', X,y, 'k.')"
   ]
  },
  {
   "cell_type": "code",
   "execution_count": null,
   "metadata": {
    "scrolled": true
   },
   "outputs": [],
   "source": [
    "print(model.predict([1, 2, 3, 4, 4.5]))"
   ]
  },
  {
   "cell_type": "code",
   "execution_count": null,
   "metadata": {},
   "outputs": [],
   "source": [
    "print(model.predict([11, 21, 31, 41, 500]))"
   ]
  },
  {
   "cell_type": "code",
   "execution_count": null,
   "metadata": {
    "scrolled": true
   },
   "outputs": [],
   "source": [
    "epochs = range(1, len(history.history['binary_accuracy']) + 1)\n",
    "plt.plot(epochs, history.history['binary_accuracy'])\n",
    "plt.title('model Accuracy')\n",
    "plt.ylabel('binary_accuracy')\n",
    "plt.xlabel('epoch')\n",
    "plt.legend(['train'])\n",
    "plt.show()"
   ]
  }
 ],
 "metadata": {
  "colab": {
   "collapsed_sections": [],
   "name": "lab-02-1-Simple-Liner-Regression-eager.ipynb",
   "provenance": [],
   "version": "0.3.2"
  },
  "kernelspec": {
   "display_name": "tf2.5",
   "language": "python",
   "name": "tf2.5"
  },
  "language_info": {
   "codemirror_mode": {
    "name": "ipython",
    "version": 3
   },
   "file_extension": ".py",
   "mimetype": "text/x-python",
   "name": "python",
   "nbconvert_exporter": "python",
   "pygments_lexer": "ipython3",
   "version": "3.8.0"
  }
 },
 "nbformat": 4,
 "nbformat_minor": 4
}
