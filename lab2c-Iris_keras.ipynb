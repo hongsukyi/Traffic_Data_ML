{
 "cells": [
  {
   "cell_type": "markdown",
   "metadata": {},
   "source": [
    "# 붓꽃(Iris) 데이터 분류 "
   ]
  },
  {
   "cell_type": "markdown",
   "metadata": {},
   "source": [
    "## 1. 라이브러리 설정하기"
   ]
  },
  {
   "cell_type": "code",
   "execution_count": null,
   "metadata": {},
   "outputs": [],
   "source": [
    "import tensorflow as tf\n",
    "from tensorflow import keras\n",
    "\n",
    "from tensorflow.keras import Sequential \n",
    "from tensorflow.keras.layers import Dense, Softmax\n",
    "#from tensorflow.keras import optimizers"
   ]
  },
  {
   "cell_type": "code",
   "execution_count": null,
   "metadata": {
    "_cell_guid": "b1076dfc-b9ad-4769-8c92-a6c4dae69d19",
    "_uuid": "8f2839f25d086af736a60e9eeb907d3b93b6e0e5",
    "execution": {
     "iopub.execute_input": "2020-11-04T17:04:24.701190Z",
     "iopub.status.busy": "2020-11-04T17:04:24.700340Z",
     "iopub.status.idle": "2020-11-04T17:04:31.060006Z",
     "shell.execute_reply": "2020-11-04T17:04:31.058608Z"
    },
    "papermill": {
     "duration": 6.402538,
     "end_time": "2020-11-04T17:04:31.060152",
     "exception": false,
     "start_time": "2020-11-04T17:04:24.657614",
     "status": "completed"
    },
    "tags": []
   },
   "outputs": [],
   "source": [
    "%matplotlib inline"
   ]
  },
  {
   "cell_type": "markdown",
   "metadata": {},
   "source": [
    "## 2. 데이터 가져오기 "
   ]
  },
  {
   "cell_type": "code",
   "execution_count": null,
   "metadata": {},
   "outputs": [],
   "source": [
    "import pandas as pd\n",
    "\n",
    "df = pd.read_csv('./input/Iris.csv')\n",
    "df.shape"
   ]
  },
  {
   "cell_type": "code",
   "execution_count": null,
   "metadata": {
    "_cell_guid": "79c7e3d0-c299-4dcb-8224-4455121ee9b0",
    "_uuid": "d629ff2d2480ee46fbb7e2d37f6b5fab8052498a",
    "execution": {
     "iopub.execute_input": "2020-11-04T17:04:31.122865Z",
     "iopub.status.busy": "2020-11-04T17:04:31.121940Z",
     "iopub.status.idle": "2020-11-04T17:04:31.153982Z",
     "shell.execute_reply": "2020-11-04T17:04:31.154592Z"
    },
    "papermill": {
     "duration": 0.065893,
     "end_time": "2020-11-04T17:04:31.154757",
     "exception": false,
     "start_time": "2020-11-04T17:04:31.088864",
     "status": "completed"
    },
    "tags": []
   },
   "outputs": [],
   "source": [
    "df.head(2)"
   ]
  },
  {
   "cell_type": "markdown",
   "metadata": {},
   "source": [
    "** 라벨을 위해 Species의 텍스트는 범주형 혹은 숫자로 인코딩 해야한다"
   ]
  },
  {
   "cell_type": "markdown",
   "metadata": {},
   "source": [
    "## 3. 데이터 가시화 "
   ]
  },
  {
   "cell_type": "code",
   "execution_count": null,
   "metadata": {},
   "outputs": [],
   "source": [
    "import matplotlib.pyplot as plt\n",
    "import seaborn as sns\n",
    "\n",
    "plt.figure(figsize=(14,6))\n",
    "sns.scatterplot(data=df, x = 'SepalLengthCm', \n",
    "    y = 'SepalWidthCm', hue='Species', style='Species')\n",
    "plt.figure(figsize=(14,6))\n",
    "sns.scatterplot(data=df, x = 'PetalLengthCm', \n",
    "    y = 'PetalWidthCm', hue='Species', style='Species')"
   ]
  },
  {
   "cell_type": "code",
   "execution_count": null,
   "metadata": {},
   "outputs": [],
   "source": [
    "df.drop('Id',axis=1,inplace=True)"
   ]
  },
  {
   "cell_type": "markdown",
   "metadata": {},
   "source": [
    "## 4 머신러닝을 위한 입력 데이터 만들자"
   ]
  },
  {
   "cell_type": "markdown",
   "metadata": {},
   "source": [
    "### 1) 입력 X와 출력 y의 값을 정하기"
   ]
  },
  {
   "cell_type": "code",
   "execution_count": null,
   "metadata": {
    "execution": {
     "iopub.execute_input": "2020-11-04T17:04:31.233488Z",
     "iopub.status.busy": "2020-11-04T17:04:31.232181Z",
     "iopub.status.idle": "2020-11-04T17:04:31.235325Z",
     "shell.execute_reply": "2020-11-04T17:04:31.232878Z"
    },
    "papermill": {
     "duration": 0.048394,
     "end_time": "2020-11-04T17:04:31.235443",
     "exception": false,
     "start_time": "2020-11-04T17:04:31.187049",
     "status": "completed"
    },
    "tags": []
   },
   "outputs": [],
   "source": [
    "df['Species'].unique()\n",
    "\n",
    "df['Species'] = df['Species'].str[5:]\n",
    "df.head()"
   ]
  },
  {
   "cell_type": "code",
   "execution_count": null,
   "metadata": {
    "execution": {
     "iopub.execute_input": "2020-11-04T17:04:31.233488Z",
     "iopub.status.busy": "2020-11-04T17:04:31.232181Z",
     "iopub.status.idle": "2020-11-04T17:04:31.235325Z",
     "shell.execute_reply": "2020-11-04T17:04:31.232878Z"
    },
    "papermill": {
     "duration": 0.048394,
     "end_time": "2020-11-04T17:04:31.235443",
     "exception": false,
     "start_time": "2020-11-04T17:04:31.187049",
     "status": "completed"
    },
    "tags": []
   },
   "outputs": [],
   "source": [
    "feature_cols = ['SepalLengthCm', 'SepalWidthCm', 'PetalLengthCm', 'PetalWidthCm']\n",
    "target_col = 'Species'\n",
    "X = df[feature_cols]\n",
    "y = df[target_col]"
   ]
  },
  {
   "cell_type": "markdown",
   "metadata": {
    "papermill": {
     "duration": 0.032638,
     "end_time": "2020-11-04T17:04:33.305151",
     "exception": false,
     "start_time": "2020-11-04T17:04:33.272513",
     "status": "completed"
    },
    "tags": []
   },
   "source": [
    "### 출력용 라벨을 머신러닝용을 다루자\n",
    "\n",
    "- 타켓의 텍스트를 숫자로 바꾸자 "
   ]
  },
  {
   "cell_type": "code",
   "execution_count": null,
   "metadata": {
    "execution": {
     "iopub.execute_input": "2020-11-04T17:04:33.381959Z",
     "iopub.status.busy": "2020-11-04T17:04:33.381045Z",
     "iopub.status.idle": "2020-11-04T17:04:33.385463Z",
     "shell.execute_reply": "2020-11-04T17:04:33.384834Z"
    },
    "papermill": {
     "duration": 0.046987,
     "end_time": "2020-11-04T17:04:33.385580",
     "exception": false,
     "start_time": "2020-11-04T17:04:33.338593",
     "status": "completed"
    },
    "tags": []
   },
   "outputs": [],
   "source": [
    "class_dic = {'setosa':0, 'versicolor':1, 'virginica':2}\n",
    "y_ohc = y.apply(lambda z: class_dic[z])"
   ]
  },
  {
   "cell_type": "markdown",
   "metadata": {},
   "source": [
    "# 머신러닝 모델을 만들자"
   ]
  },
  {
   "cell_type": "markdown",
   "metadata": {
    "papermill": {
     "duration": 0.037726,
     "end_time": "2020-11-04T17:04:34.990595",
     "exception": false,
     "start_time": "2020-11-04T17:04:34.952869",
     "status": "completed"
    },
    "tags": []
   },
   "source": [
    "- 데이터의 범위를 [0,1] 사이로 스케일 \n",
    "- 사이킷런의 MinMaxScaler()"
   ]
  },
  {
   "cell_type": "markdown",
   "metadata": {},
   "source": [
    "### 데이터를 훈련과 테스트로 나누자 \n",
    "- (실전) 데이터를 validation을 포함해서 나눌수 있다.\n",
    "- (해보기) 전체 데이터를 train : validation : test = 0.6: 0.2: 0.2 로 나누어라"
   ]
  },
  {
   "cell_type": "code",
   "execution_count": null,
   "metadata": {},
   "outputs": [],
   "source": [
    "import sklearn\n",
    "\n",
    "from sklearn.preprocessing import MinMaxScaler\n",
    "scaler = MinMaxScaler()\n",
    "X_scaled = scaler.fit_transform(X)"
   ]
  },
  {
   "cell_type": "code",
   "execution_count": null,
   "metadata": {},
   "outputs": [],
   "source": [
    "from sklearn.model_selection import train_test_split\n",
    "X_train, X_test, y_train, y_test = train_test_split(X_scaled, y_ohc, test_size=0.2,random_state=20)\n",
    "\n",
    "X_train.shape"
   ]
  },
  {
   "cell_type": "code",
   "execution_count": null,
   "metadata": {
    "execution": {
     "iopub.execute_input": "2020-11-04T17:04:35.629046Z",
     "iopub.status.busy": "2020-11-04T17:04:35.628258Z",
     "iopub.status.idle": "2020-11-04T17:04:39.004594Z",
     "shell.execute_reply": "2020-11-04T17:04:39.007106Z"
    },
    "papermill": {
     "duration": 3.433685,
     "end_time": "2020-11-04T17:04:39.007334",
     "exception": false,
     "start_time": "2020-11-04T17:04:35.573649",
     "status": "completed"
    },
    "tags": []
   },
   "outputs": [],
   "source": [
    "model = keras.Sequential([\n",
    "    keras.layers.Dense(3, activation = 'softmax', input_shape=[4])])\n",
    "\n",
    "model.compile(loss='SparseCategoricalCrossentropy', optimizer='adam', metrics=['accuracy'])\n",
    "model.summary()"
   ]
  },
  {
   "cell_type": "code",
   "execution_count": null,
   "metadata": {
    "execution": {
     "iopub.execute_input": "2020-11-04T17:04:39.120037Z",
     "iopub.status.busy": "2020-11-04T17:04:39.119339Z",
     "iopub.status.idle": "2020-11-04T17:04:45.279356Z",
     "shell.execute_reply": "2020-11-04T17:04:45.278439Z"
    },
    "papermill": {
     "duration": 6.210997,
     "end_time": "2020-11-04T17:04:45.279480",
     "exception": false,
     "start_time": "2020-11-04T17:04:39.068483",
     "status": "completed"
    },
    "tags": []
   },
   "outputs": [],
   "source": [
    "history = model.fit(X_train, y_train, epochs = 300, batch_size = 64, verbose=2)            "
   ]
  },
  {
   "cell_type": "code",
   "execution_count": null,
   "metadata": {
    "execution": {
     "iopub.execute_input": "2020-11-04T17:04:46.563639Z",
     "iopub.status.busy": "2020-11-04T17:04:46.562865Z",
     "iopub.status.idle": "2020-11-04T17:04:46.769315Z",
     "shell.execute_reply": "2020-11-04T17:04:46.769854Z"
    },
    "papermill": {
     "duration": 0.478418,
     "end_time": "2020-11-04T17:04:46.770005",
     "exception": false,
     "start_time": "2020-11-04T17:04:46.291587",
     "status": "completed"
    },
    "tags": []
   },
   "outputs": [],
   "source": [
    "model.evaluate(X_test, y_test)"
   ]
  },
  {
   "cell_type": "code",
   "execution_count": null,
   "metadata": {},
   "outputs": [],
   "source": [
    "import numpy as np\n",
    "acc_dnn = history.history['accuracy'][np.argmin(history.history['loss'])]\n",
    "print('The accuracy of the Deep Learning is:', acc_dnn)"
   ]
  },
  {
   "cell_type": "code",
   "execution_count": null,
   "metadata": {},
   "outputs": [],
   "source": [
    "import yiDL_util as myplot\n",
    "myplot.plot_history(history)"
   ]
  },
  {
   "cell_type": "code",
   "execution_count": null,
   "metadata": {},
   "outputs": [],
   "source": []
  },
  {
   "cell_type": "code",
   "execution_count": null,
   "metadata": {},
   "outputs": [],
   "source": []
  }
 ],
 "metadata": {
  "kernelspec": {
   "display_name": "tf2.5",
   "language": "python",
   "name": "tf2.5"
  },
  "language_info": {
   "codemirror_mode": {
    "name": "ipython",
    "version": 3
   },
   "file_extension": ".py",
   "mimetype": "text/x-python",
   "name": "python",
   "nbconvert_exporter": "python",
   "pygments_lexer": "ipython3",
   "version": "3.8.0"
  },
  "papermill": {
   "duration": 31.125685,
   "end_time": "2020-11-04T17:04:50.944017",
   "environment_variables": {},
   "exception": null,
   "input_path": "__notebook__.ipynb",
   "output_path": "__notebook__.ipynb",
   "parameters": {},
   "start_time": "2020-11-04T17:04:19.818332",
   "version": "2.1.0"
  }
 },
 "nbformat": 4,
 "nbformat_minor": 4
}
