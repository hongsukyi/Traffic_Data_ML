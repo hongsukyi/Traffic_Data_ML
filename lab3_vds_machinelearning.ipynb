{
 "cells": [
  {
   "cell_type": "markdown",
   "metadata": {},
   "source": [
    "# 교통 데이터 VDS \n",
    "- 머신러닝 모델\n",
    "- 딥러닝 모델 사용"
   ]
  },
  {
   "cell_type": "markdown",
   "metadata": {},
   "source": [
    "## 1. 라이브러리 설정하기"
   ]
  },
  {
   "cell_type": "code",
   "execution_count": 1,
   "metadata": {},
   "outputs": [],
   "source": [
    "import warnings\n",
    "warnings.filterwarnings(\"ignore\")"
   ]
  },
  {
   "cell_type": "code",
   "execution_count": 2,
   "metadata": {},
   "outputs": [],
   "source": [
    "import numpy as np\n",
    "def plot_ml_curve(estimator, title, X, y, ylim=None, cv=None,\n",
    "                        n_jobs=None, train_sizes=np.linspace(.1, 1.0, 20)):   \n",
    "    plt.figure()\n",
    "    plt.title(title)\n",
    "    if ylim is not None:\n",
    "        plt.ylim(*ylim)\n",
    "    plt.xlabel(\"Training examples\")\n",
    "    plt.ylabel(\"Score\")\n",
    "    train_sizes, train_scores, test_scores = learning_curve(\n",
    "        estimator, X, y, cv=cv, n_jobs=n_jobs, train_sizes=train_sizes)\n",
    "    train_scores_mean = np.mean(train_scores, axis=1)\n",
    "    train_scores_std = np.std(train_scores, axis=1)\n",
    "    test_scores_mean = np.mean(test_scores, axis=1)\n",
    "    test_scores_std = np.std(test_scores, axis=1)\n",
    "    plt.grid()\n",
    "\n",
    "    plt.fill_between(train_sizes, train_scores_mean - train_scores_std,\n",
    "                     train_scores_mean + train_scores_std, alpha=0.1, color=\"r\")\n",
    "    plt.fill_between(train_sizes, test_scores_mean - test_scores_std,\n",
    "                     test_scores_mean + test_scores_std, alpha=0.1, color=\"g\")\n",
    "    plt.plot(train_sizes, train_scores_mean, 'o-', color=\"r\", label=\"Training score\")\n",
    "    plt.plot(train_sizes, test_scores_mean, 'o-', color=\"g\", label=\"Cross-validation score\")\n",
    "\n",
    "    plt.legend(loc='lower right')\n",
    "    return plt"
   ]
  },
  {
   "cell_type": "code",
   "execution_count": null,
   "metadata": {},
   "outputs": [],
   "source": []
  },
  {
   "cell_type": "markdown",
   "metadata": {},
   "source": [
    "## 2. 데이터 가져오기 \n",
    "- 판다스를 이용하여 iris 데이터 가져오기"
   ]
  },
  {
   "cell_type": "code",
   "execution_count": 3,
   "metadata": {},
   "outputs": [],
   "source": [
    "import pandas as pd"
   ]
  },
  {
   "cell_type": "code",
   "execution_count": 4,
   "metadata": {},
   "outputs": [],
   "source": [
    "from pandas import datetime"
   ]
  },
  {
   "cell_type": "code",
   "execution_count": 5,
   "metadata": {},
   "outputs": [],
   "source": [
    "def parser(x):\n",
    "    return datetime.strptime(x, '%Y-%m-%d %H:%M')"
   ]
  },
  {
   "cell_type": "code",
   "execution_count": 6,
   "metadata": {},
   "outputs": [],
   "source": [
    "df = pd.read_csv('./daejeon_vds16.csv',  date_parser=parser)"
   ]
  },
  {
   "cell_type": "code",
   "execution_count": 7,
   "metadata": {},
   "outputs": [
    {
     "data": {
      "text/html": [
       "<div>\n",
       "<style scoped>\n",
       "    .dataframe tbody tr th:only-of-type {\n",
       "        vertical-align: middle;\n",
       "    }\n",
       "\n",
       "    .dataframe tbody tr th {\n",
       "        vertical-align: top;\n",
       "    }\n",
       "\n",
       "    .dataframe thead th {\n",
       "        text-align: right;\n",
       "    }\n",
       "</style>\n",
       "<table border=\"1\" class=\"dataframe\">\n",
       "  <thead>\n",
       "    <tr style=\"text-align: right;\">\n",
       "      <th></th>\n",
       "      <th>Date</th>\n",
       "      <th>ToVol</th>\n",
       "      <th>SmVol</th>\n",
       "      <th>MeVol</th>\n",
       "      <th>LaVol</th>\n",
       "      <th>Speed</th>\n",
       "      <th>Occ.Rate</th>\n",
       "    </tr>\n",
       "  </thead>\n",
       "  <tbody>\n",
       "    <tr>\n",
       "      <th>0</th>\n",
       "      <td>2017-04-02 0:00</td>\n",
       "      <td>43</td>\n",
       "      <td>34</td>\n",
       "      <td>9</td>\n",
       "      <td>0</td>\n",
       "      <td>50.3</td>\n",
       "      <td>1.90</td>\n",
       "    </tr>\n",
       "    <tr>\n",
       "      <th>1</th>\n",
       "      <td>2017-04-02 0:05</td>\n",
       "      <td>45</td>\n",
       "      <td>32</td>\n",
       "      <td>13</td>\n",
       "      <td>0</td>\n",
       "      <td>58.9</td>\n",
       "      <td>1.84</td>\n",
       "    </tr>\n",
       "    <tr>\n",
       "      <th>2</th>\n",
       "      <td>2017-04-02 0:10</td>\n",
       "      <td>46</td>\n",
       "      <td>34</td>\n",
       "      <td>12</td>\n",
       "      <td>0</td>\n",
       "      <td>50.6</td>\n",
       "      <td>1.87</td>\n",
       "    </tr>\n",
       "    <tr>\n",
       "      <th>3</th>\n",
       "      <td>2017-04-02 0:15</td>\n",
       "      <td>45</td>\n",
       "      <td>36</td>\n",
       "      <td>9</td>\n",
       "      <td>0</td>\n",
       "      <td>50.9</td>\n",
       "      <td>1.72</td>\n",
       "    </tr>\n",
       "    <tr>\n",
       "      <th>4</th>\n",
       "      <td>2017-04-02 0:20</td>\n",
       "      <td>27</td>\n",
       "      <td>13</td>\n",
       "      <td>13</td>\n",
       "      <td>1</td>\n",
       "      <td>62.2</td>\n",
       "      <td>1.12</td>\n",
       "    </tr>\n",
       "  </tbody>\n",
       "</table>\n",
       "</div>"
      ],
      "text/plain": [
       "              Date  ToVol  SmVol  MeVol  LaVol  Speed  Occ.Rate\n",
       "0  2017-04-02 0:00     43     34      9      0   50.3      1.90\n",
       "1  2017-04-02 0:05     45     32     13      0   58.9      1.84\n",
       "2  2017-04-02 0:10     46     34     12      0   50.6      1.87\n",
       "3  2017-04-02 0:15     45     36      9      0   50.9      1.72\n",
       "4  2017-04-02 0:20     27     13     13      1   62.2      1.12"
      ]
     },
     "execution_count": 7,
     "metadata": {},
     "output_type": "execute_result"
    }
   ],
   "source": [
    "df.head()"
   ]
  },
  {
   "cell_type": "code",
   "execution_count": 8,
   "metadata": {},
   "outputs": [
    {
     "name": "stdout",
     "output_type": "stream",
     "text": [
      "<class 'pandas.core.frame.DataFrame'>\n",
      "RangeIndex: 8064 entries, 0 to 8063\n",
      "Data columns (total 7 columns):\n",
      " #   Column    Non-Null Count  Dtype  \n",
      "---  ------    --------------  -----  \n",
      " 0   Date      8064 non-null   object \n",
      " 1   ToVol     8064 non-null   int64  \n",
      " 2   SmVol     8064 non-null   int64  \n",
      " 3   MeVol     8064 non-null   int64  \n",
      " 4   LaVol     8064 non-null   int64  \n",
      " 5   Speed     8064 non-null   float64\n",
      " 6   Occ.Rate  8064 non-null   float64\n",
      "dtypes: float64(2), int64(4), object(1)\n",
      "memory usage: 441.1+ KB\n"
     ]
    }
   ],
   "source": [
    "df.info()"
   ]
  },
  {
   "cell_type": "code",
   "execution_count": 9,
   "metadata": {},
   "outputs": [
    {
     "data": {
      "text/html": [
       "<div>\n",
       "<style scoped>\n",
       "    .dataframe tbody tr th:only-of-type {\n",
       "        vertical-align: middle;\n",
       "    }\n",
       "\n",
       "    .dataframe tbody tr th {\n",
       "        vertical-align: top;\n",
       "    }\n",
       "\n",
       "    .dataframe thead th {\n",
       "        text-align: right;\n",
       "    }\n",
       "</style>\n",
       "<table border=\"1\" class=\"dataframe\">\n",
       "  <thead>\n",
       "    <tr style=\"text-align: right;\">\n",
       "      <th></th>\n",
       "      <th>ToVol</th>\n",
       "      <th>SmVol</th>\n",
       "      <th>MeVol</th>\n",
       "      <th>LaVol</th>\n",
       "      <th>Speed</th>\n",
       "      <th>Occ.Rate</th>\n",
       "    </tr>\n",
       "  </thead>\n",
       "  <tbody>\n",
       "    <tr>\n",
       "      <th>count</th>\n",
       "      <td>8064.000000</td>\n",
       "      <td>8064.000000</td>\n",
       "      <td>8064.000000</td>\n",
       "      <td>8064.000000</td>\n",
       "      <td>8064.000000</td>\n",
       "      <td>8064.000000</td>\n",
       "    </tr>\n",
       "    <tr>\n",
       "      <th>mean</th>\n",
       "      <td>110.459945</td>\n",
       "      <td>79.353299</td>\n",
       "      <td>29.948537</td>\n",
       "      <td>1.158110</td>\n",
       "      <td>49.327431</td>\n",
       "      <td>6.166941</td>\n",
       "    </tr>\n",
       "    <tr>\n",
       "      <th>std</th>\n",
       "      <td>63.954451</td>\n",
       "      <td>46.802106</td>\n",
       "      <td>19.081136</td>\n",
       "      <td>1.530192</td>\n",
       "      <td>7.921856</td>\n",
       "      <td>6.739946</td>\n",
       "    </tr>\n",
       "    <tr>\n",
       "      <th>min</th>\n",
       "      <td>6.000000</td>\n",
       "      <td>2.000000</td>\n",
       "      <td>0.000000</td>\n",
       "      <td>0.000000</td>\n",
       "      <td>9.100000</td>\n",
       "      <td>0.230000</td>\n",
       "    </tr>\n",
       "    <tr>\n",
       "      <th>25%</th>\n",
       "      <td>50.000000</td>\n",
       "      <td>35.000000</td>\n",
       "      <td>13.000000</td>\n",
       "      <td>0.000000</td>\n",
       "      <td>44.900000</td>\n",
       "      <td>2.140000</td>\n",
       "    </tr>\n",
       "    <tr>\n",
       "      <th>50%</th>\n",
       "      <td>122.000000</td>\n",
       "      <td>87.000000</td>\n",
       "      <td>29.000000</td>\n",
       "      <td>1.000000</td>\n",
       "      <td>48.500000</td>\n",
       "      <td>5.550000</td>\n",
       "    </tr>\n",
       "    <tr>\n",
       "      <th>75%</th>\n",
       "      <td>155.000000</td>\n",
       "      <td>111.000000</td>\n",
       "      <td>44.000000</td>\n",
       "      <td>2.000000</td>\n",
       "      <td>54.200000</td>\n",
       "      <td>7.290000</td>\n",
       "    </tr>\n",
       "    <tr>\n",
       "      <th>max</th>\n",
       "      <td>338.000000</td>\n",
       "      <td>250.000000</td>\n",
       "      <td>145.000000</td>\n",
       "      <td>16.000000</td>\n",
       "      <td>87.800000</td>\n",
       "      <td>82.100000</td>\n",
       "    </tr>\n",
       "  </tbody>\n",
       "</table>\n",
       "</div>"
      ],
      "text/plain": [
       "             ToVol        SmVol        MeVol        LaVol        Speed  \\\n",
       "count  8064.000000  8064.000000  8064.000000  8064.000000  8064.000000   \n",
       "mean    110.459945    79.353299    29.948537     1.158110    49.327431   \n",
       "std      63.954451    46.802106    19.081136     1.530192     7.921856   \n",
       "min       6.000000     2.000000     0.000000     0.000000     9.100000   \n",
       "25%      50.000000    35.000000    13.000000     0.000000    44.900000   \n",
       "50%     122.000000    87.000000    29.000000     1.000000    48.500000   \n",
       "75%     155.000000   111.000000    44.000000     2.000000    54.200000   \n",
       "max     338.000000   250.000000   145.000000    16.000000    87.800000   \n",
       "\n",
       "          Occ.Rate  \n",
       "count  8064.000000  \n",
       "mean      6.166941  \n",
       "std       6.739946  \n",
       "min       0.230000  \n",
       "25%       2.140000  \n",
       "50%       5.550000  \n",
       "75%       7.290000  \n",
       "max      82.100000  "
      ]
     },
     "execution_count": 9,
     "metadata": {},
     "output_type": "execute_result"
    }
   ],
   "source": [
    "df.describe()"
   ]
  },
  {
   "cell_type": "code",
   "execution_count": 10,
   "metadata": {},
   "outputs": [
    {
     "name": "stdout",
     "output_type": "stream",
     "text": [
      "Date        2017-04-29 9:55\n",
      "ToVol                   338\n",
      "SmVol                   250\n",
      "MeVol                   145\n",
      "LaVol                    16\n",
      "Speed                  87.8\n",
      "Occ.Rate               82.1\n",
      "dtype: object\n"
     ]
    }
   ],
   "source": [
    "maxs = df.max()\n",
    "print(maxs)"
   ]
  },
  {
   "cell_type": "code",
   "execution_count": 11,
   "metadata": {},
   "outputs": [
    {
     "data": {
      "text/html": [
       "<div>\n",
       "<style scoped>\n",
       "    .dataframe tbody tr th:only-of-type {\n",
       "        vertical-align: middle;\n",
       "    }\n",
       "\n",
       "    .dataframe tbody tr th {\n",
       "        vertical-align: top;\n",
       "    }\n",
       "\n",
       "    .dataframe thead th {\n",
       "        text-align: right;\n",
       "    }\n",
       "</style>\n",
       "<table border=\"1\" class=\"dataframe\">\n",
       "  <thead>\n",
       "    <tr style=\"text-align: right;\">\n",
       "      <th></th>\n",
       "      <th>Date</th>\n",
       "      <th>ToVol</th>\n",
       "      <th>SmVol</th>\n",
       "      <th>MeVol</th>\n",
       "      <th>LaVol</th>\n",
       "      <th>Speed</th>\n",
       "      <th>Occ.Rate</th>\n",
       "    </tr>\n",
       "  </thead>\n",
       "  <tbody>\n",
       "    <tr>\n",
       "      <th>8059</th>\n",
       "      <td>2017-04-29 23:35</td>\n",
       "      <td>45</td>\n",
       "      <td>35</td>\n",
       "      <td>10</td>\n",
       "      <td>0</td>\n",
       "      <td>51.3</td>\n",
       "      <td>2.01</td>\n",
       "    </tr>\n",
       "    <tr>\n",
       "      <th>8060</th>\n",
       "      <td>2017-04-29 23:40</td>\n",
       "      <td>47</td>\n",
       "      <td>33</td>\n",
       "      <td>14</td>\n",
       "      <td>0</td>\n",
       "      <td>53.9</td>\n",
       "      <td>1.89</td>\n",
       "    </tr>\n",
       "    <tr>\n",
       "      <th>8061</th>\n",
       "      <td>2017-04-29 23:45</td>\n",
       "      <td>32</td>\n",
       "      <td>28</td>\n",
       "      <td>4</td>\n",
       "      <td>0</td>\n",
       "      <td>50.6</td>\n",
       "      <td>1.36</td>\n",
       "    </tr>\n",
       "    <tr>\n",
       "      <th>8062</th>\n",
       "      <td>2017-04-29 23:50</td>\n",
       "      <td>31</td>\n",
       "      <td>21</td>\n",
       "      <td>10</td>\n",
       "      <td>0</td>\n",
       "      <td>59.3</td>\n",
       "      <td>1.40</td>\n",
       "    </tr>\n",
       "    <tr>\n",
       "      <th>8063</th>\n",
       "      <td>2017-04-29 23:55</td>\n",
       "      <td>39</td>\n",
       "      <td>33</td>\n",
       "      <td>6</td>\n",
       "      <td>0</td>\n",
       "      <td>52.5</td>\n",
       "      <td>1.74</td>\n",
       "    </tr>\n",
       "  </tbody>\n",
       "</table>\n",
       "</div>"
      ],
      "text/plain": [
       "                  Date  ToVol  SmVol  MeVol  LaVol  Speed  Occ.Rate\n",
       "8059  2017-04-29 23:35     45     35     10      0   51.3      2.01\n",
       "8060  2017-04-29 23:40     47     33     14      0   53.9      1.89\n",
       "8061  2017-04-29 23:45     32     28      4      0   50.6      1.36\n",
       "8062  2017-04-29 23:50     31     21     10      0   59.3      1.40\n",
       "8063  2017-04-29 23:55     39     33      6      0   52.5      1.74"
      ]
     },
     "execution_count": 11,
     "metadata": {},
     "output_type": "execute_result"
    }
   ],
   "source": [
    "df.tail()"
   ]
  },
  {
   "cell_type": "markdown",
   "metadata": {},
   "source": [
    "## 라벨을 정하기\n",
    "### 속도 Speed를 라벨로 정하자"
   ]
  },
  {
   "cell_type": "code",
   "execution_count": 12,
   "metadata": {},
   "outputs": [],
   "source": [
    "def get_score(v):\n",
    "    if v < 20:\n",
    "        score = 'Jam'\n",
    "    elif v < 40:\n",
    "        score = 'Slow'\n",
    "    else :\n",
    "        score = 'Normal'\n",
    "    return score"
   ]
  },
  {
   "cell_type": "code",
   "execution_count": 13,
   "metadata": {
    "scrolled": true
   },
   "outputs": [
    {
     "data": {
      "text/html": [
       "<div>\n",
       "<style scoped>\n",
       "    .dataframe tbody tr th:only-of-type {\n",
       "        vertical-align: middle;\n",
       "    }\n",
       "\n",
       "    .dataframe tbody tr th {\n",
       "        vertical-align: top;\n",
       "    }\n",
       "\n",
       "    .dataframe thead th {\n",
       "        text-align: right;\n",
       "    }\n",
       "</style>\n",
       "<table border=\"1\" class=\"dataframe\">\n",
       "  <thead>\n",
       "    <tr style=\"text-align: right;\">\n",
       "      <th></th>\n",
       "      <th>Date</th>\n",
       "      <th>ToVol</th>\n",
       "      <th>SmVol</th>\n",
       "      <th>MeVol</th>\n",
       "      <th>LaVol</th>\n",
       "      <th>Speed</th>\n",
       "      <th>Occ.Rate</th>\n",
       "      <th>label</th>\n",
       "    </tr>\n",
       "  </thead>\n",
       "  <tbody>\n",
       "    <tr>\n",
       "      <th>0</th>\n",
       "      <td>2017-04-02 0:00</td>\n",
       "      <td>43</td>\n",
       "      <td>34</td>\n",
       "      <td>9</td>\n",
       "      <td>0</td>\n",
       "      <td>50.3</td>\n",
       "      <td>1.90</td>\n",
       "      <td>Normal</td>\n",
       "    </tr>\n",
       "    <tr>\n",
       "      <th>1</th>\n",
       "      <td>2017-04-02 0:05</td>\n",
       "      <td>45</td>\n",
       "      <td>32</td>\n",
       "      <td>13</td>\n",
       "      <td>0</td>\n",
       "      <td>58.9</td>\n",
       "      <td>1.84</td>\n",
       "      <td>Normal</td>\n",
       "    </tr>\n",
       "    <tr>\n",
       "      <th>2</th>\n",
       "      <td>2017-04-02 0:10</td>\n",
       "      <td>46</td>\n",
       "      <td>34</td>\n",
       "      <td>12</td>\n",
       "      <td>0</td>\n",
       "      <td>50.6</td>\n",
       "      <td>1.87</td>\n",
       "      <td>Normal</td>\n",
       "    </tr>\n",
       "    <tr>\n",
       "      <th>3</th>\n",
       "      <td>2017-04-02 0:15</td>\n",
       "      <td>45</td>\n",
       "      <td>36</td>\n",
       "      <td>9</td>\n",
       "      <td>0</td>\n",
       "      <td>50.9</td>\n",
       "      <td>1.72</td>\n",
       "      <td>Normal</td>\n",
       "    </tr>\n",
       "    <tr>\n",
       "      <th>4</th>\n",
       "      <td>2017-04-02 0:20</td>\n",
       "      <td>27</td>\n",
       "      <td>13</td>\n",
       "      <td>13</td>\n",
       "      <td>1</td>\n",
       "      <td>62.2</td>\n",
       "      <td>1.12</td>\n",
       "      <td>Normal</td>\n",
       "    </tr>\n",
       "    <tr>\n",
       "      <th>...</th>\n",
       "      <td>...</td>\n",
       "      <td>...</td>\n",
       "      <td>...</td>\n",
       "      <td>...</td>\n",
       "      <td>...</td>\n",
       "      <td>...</td>\n",
       "      <td>...</td>\n",
       "      <td>...</td>\n",
       "    </tr>\n",
       "    <tr>\n",
       "      <th>8059</th>\n",
       "      <td>2017-04-29 23:35</td>\n",
       "      <td>45</td>\n",
       "      <td>35</td>\n",
       "      <td>10</td>\n",
       "      <td>0</td>\n",
       "      <td>51.3</td>\n",
       "      <td>2.01</td>\n",
       "      <td>Normal</td>\n",
       "    </tr>\n",
       "    <tr>\n",
       "      <th>8060</th>\n",
       "      <td>2017-04-29 23:40</td>\n",
       "      <td>47</td>\n",
       "      <td>33</td>\n",
       "      <td>14</td>\n",
       "      <td>0</td>\n",
       "      <td>53.9</td>\n",
       "      <td>1.89</td>\n",
       "      <td>Normal</td>\n",
       "    </tr>\n",
       "    <tr>\n",
       "      <th>8061</th>\n",
       "      <td>2017-04-29 23:45</td>\n",
       "      <td>32</td>\n",
       "      <td>28</td>\n",
       "      <td>4</td>\n",
       "      <td>0</td>\n",
       "      <td>50.6</td>\n",
       "      <td>1.36</td>\n",
       "      <td>Normal</td>\n",
       "    </tr>\n",
       "    <tr>\n",
       "      <th>8062</th>\n",
       "      <td>2017-04-29 23:50</td>\n",
       "      <td>31</td>\n",
       "      <td>21</td>\n",
       "      <td>10</td>\n",
       "      <td>0</td>\n",
       "      <td>59.3</td>\n",
       "      <td>1.40</td>\n",
       "      <td>Normal</td>\n",
       "    </tr>\n",
       "    <tr>\n",
       "      <th>8063</th>\n",
       "      <td>2017-04-29 23:55</td>\n",
       "      <td>39</td>\n",
       "      <td>33</td>\n",
       "      <td>6</td>\n",
       "      <td>0</td>\n",
       "      <td>52.5</td>\n",
       "      <td>1.74</td>\n",
       "      <td>Normal</td>\n",
       "    </tr>\n",
       "  </tbody>\n",
       "</table>\n",
       "<p>8064 rows × 8 columns</p>\n",
       "</div>"
      ],
      "text/plain": [
       "                  Date  ToVol  SmVol  MeVol  LaVol  Speed  Occ.Rate   label\n",
       "0      2017-04-02 0:00     43     34      9      0   50.3      1.90  Normal\n",
       "1      2017-04-02 0:05     45     32     13      0   58.9      1.84  Normal\n",
       "2      2017-04-02 0:10     46     34     12      0   50.6      1.87  Normal\n",
       "3      2017-04-02 0:15     45     36      9      0   50.9      1.72  Normal\n",
       "4      2017-04-02 0:20     27     13     13      1   62.2      1.12  Normal\n",
       "...                ...    ...    ...    ...    ...    ...       ...     ...\n",
       "8059  2017-04-29 23:35     45     35     10      0   51.3      2.01  Normal\n",
       "8060  2017-04-29 23:40     47     33     14      0   53.9      1.89  Normal\n",
       "8061  2017-04-29 23:45     32     28      4      0   50.6      1.36  Normal\n",
       "8062  2017-04-29 23:50     31     21     10      0   59.3      1.40  Normal\n",
       "8063  2017-04-29 23:55     39     33      6      0   52.5      1.74  Normal\n",
       "\n",
       "[8064 rows x 8 columns]"
      ]
     },
     "execution_count": 13,
     "metadata": {},
     "output_type": "execute_result"
    }
   ],
   "source": [
    "df[\"label\"] = df[\"Speed\"].apply(lambda v: get_score(v))\n",
    "df"
   ]
  },
  {
   "cell_type": "code",
   "execution_count": 14,
   "metadata": {},
   "outputs": [
    {
     "name": "stdout",
     "output_type": "stream",
     "text": [
      "<class 'pandas.core.frame.DataFrame'>\n",
      "RangeIndex: 8064 entries, 0 to 8063\n",
      "Data columns (total 8 columns):\n",
      " #   Column    Non-Null Count  Dtype  \n",
      "---  ------    --------------  -----  \n",
      " 0   Date      8064 non-null   object \n",
      " 1   ToVol     8064 non-null   int64  \n",
      " 2   SmVol     8064 non-null   int64  \n",
      " 3   MeVol     8064 non-null   int64  \n",
      " 4   LaVol     8064 non-null   int64  \n",
      " 5   Speed     8064 non-null   float64\n",
      " 6   Occ.Rate  8064 non-null   float64\n",
      " 7   label     8064 non-null   object \n",
      "dtypes: float64(2), int64(4), object(2)\n",
      "memory usage: 504.1+ KB\n"
     ]
    }
   ],
   "source": [
    "df.info()"
   ]
  },
  {
   "cell_type": "code",
   "execution_count": 15,
   "metadata": {},
   "outputs": [
    {
     "data": {
      "text/html": [
       "<div>\n",
       "<style scoped>\n",
       "    .dataframe tbody tr th:only-of-type {\n",
       "        vertical-align: middle;\n",
       "    }\n",
       "\n",
       "    .dataframe tbody tr th {\n",
       "        vertical-align: top;\n",
       "    }\n",
       "\n",
       "    .dataframe thead th {\n",
       "        text-align: right;\n",
       "    }\n",
       "</style>\n",
       "<table border=\"1\" class=\"dataframe\">\n",
       "  <thead>\n",
       "    <tr style=\"text-align: right;\">\n",
       "      <th></th>\n",
       "      <th>Date</th>\n",
       "      <th>ToVol</th>\n",
       "      <th>SmVol</th>\n",
       "      <th>MeVol</th>\n",
       "      <th>LaVol</th>\n",
       "      <th>Speed</th>\n",
       "      <th>Occ.Rate</th>\n",
       "      <th>label</th>\n",
       "    </tr>\n",
       "  </thead>\n",
       "  <tbody>\n",
       "    <tr>\n",
       "      <th>0</th>\n",
       "      <td>2017-04-02 0:00</td>\n",
       "      <td>43</td>\n",
       "      <td>34</td>\n",
       "      <td>9</td>\n",
       "      <td>0</td>\n",
       "      <td>50.3</td>\n",
       "      <td>1.90</td>\n",
       "      <td>Normal</td>\n",
       "    </tr>\n",
       "    <tr>\n",
       "      <th>1</th>\n",
       "      <td>2017-04-02 0:05</td>\n",
       "      <td>45</td>\n",
       "      <td>32</td>\n",
       "      <td>13</td>\n",
       "      <td>0</td>\n",
       "      <td>58.9</td>\n",
       "      <td>1.84</td>\n",
       "      <td>Normal</td>\n",
       "    </tr>\n",
       "    <tr>\n",
       "      <th>2</th>\n",
       "      <td>2017-04-02 0:10</td>\n",
       "      <td>46</td>\n",
       "      <td>34</td>\n",
       "      <td>12</td>\n",
       "      <td>0</td>\n",
       "      <td>50.6</td>\n",
       "      <td>1.87</td>\n",
       "      <td>Normal</td>\n",
       "    </tr>\n",
       "    <tr>\n",
       "      <th>3</th>\n",
       "      <td>2017-04-02 0:15</td>\n",
       "      <td>45</td>\n",
       "      <td>36</td>\n",
       "      <td>9</td>\n",
       "      <td>0</td>\n",
       "      <td>50.9</td>\n",
       "      <td>1.72</td>\n",
       "      <td>Normal</td>\n",
       "    </tr>\n",
       "    <tr>\n",
       "      <th>4</th>\n",
       "      <td>2017-04-02 0:20</td>\n",
       "      <td>27</td>\n",
       "      <td>13</td>\n",
       "      <td>13</td>\n",
       "      <td>1</td>\n",
       "      <td>62.2</td>\n",
       "      <td>1.12</td>\n",
       "      <td>Normal</td>\n",
       "    </tr>\n",
       "  </tbody>\n",
       "</table>\n",
       "</div>"
      ],
      "text/plain": [
       "              Date  ToVol  SmVol  MeVol  LaVol  Speed  Occ.Rate   label\n",
       "0  2017-04-02 0:00     43     34      9      0   50.3      1.90  Normal\n",
       "1  2017-04-02 0:05     45     32     13      0   58.9      1.84  Normal\n",
       "2  2017-04-02 0:10     46     34     12      0   50.6      1.87  Normal\n",
       "3  2017-04-02 0:15     45     36      9      0   50.9      1.72  Normal\n",
       "4  2017-04-02 0:20     27     13     13      1   62.2      1.12  Normal"
      ]
     },
     "execution_count": 15,
     "metadata": {},
     "output_type": "execute_result"
    }
   ],
   "source": [
    "df.head()"
   ]
  },
  {
   "cell_type": "markdown",
   "metadata": {},
   "source": [
    "** 라벨을 위해 'label'의 텍스트는 범주형 혹은 숫자로 인코딩 해야한다"
   ]
  },
  {
   "cell_type": "markdown",
   "metadata": {},
   "source": [
    "## 3. 데이터 가시화 "
   ]
  },
  {
   "cell_type": "code",
   "execution_count": 16,
   "metadata": {},
   "outputs": [],
   "source": [
    "import matplotlib.pyplot as plt\n",
    "import seaborn as sns\n",
    "plt.style.use(\"classic\")"
   ]
  },
  {
   "cell_type": "code",
   "execution_count": null,
   "metadata": {
    "execution": {
     "iopub.execute_input": "2020-11-04T17:04:31.460758Z",
     "iopub.status.busy": "2020-11-04T17:04:31.459830Z",
     "iopub.status.idle": "2020-11-04T17:04:32.681289Z",
     "shell.execute_reply": "2020-11-04T17:04:32.680199Z"
    },
    "papermill": {
     "duration": 1.261363,
     "end_time": "2020-11-04T17:04:32.681425",
     "exception": false,
     "start_time": "2020-11-04T17:04:31.420062",
     "status": "completed"
    },
    "scrolled": true,
    "tags": []
   },
   "outputs": [
    {
     "data": {
      "text/plain": [
       "<matplotlib.axes._subplots.AxesSubplot at 0x19fa940fbc8>"
      ]
     },
     "execution_count": 17,
     "metadata": {},
     "output_type": "execute_result"
    }
   ],
   "source": [
    "import seaborn as sns\n",
    "plt.figure(figsize=(14,8))\n",
    "sns.scatterplot(data=df, x = 'Date', y = 'Speed', hue='label', style='label')"
   ]
  },
  {
   "cell_type": "code",
   "execution_count": null,
   "metadata": {},
   "outputs": [],
   "source": [
    "df.head()"
   ]
  },
  {
   "cell_type": "code",
   "execution_count": null,
   "metadata": {},
   "outputs": [],
   "source": [
    "# df.set_index('Date', inplace=True)"
   ]
  },
  {
   "cell_type": "code",
   "execution_count": null,
   "metadata": {
    "execution": {
     "iopub.execute_input": "2020-11-04T17:04:32.772085Z",
     "iopub.status.busy": "2020-11-04T17:04:32.765188Z",
     "iopub.status.idle": "2020-11-04T17:04:33.012640Z",
     "shell.execute_reply": "2020-11-04T17:04:33.013323Z"
    },
    "papermill": {
     "duration": 0.295723,
     "end_time": "2020-11-04T17:04:33.013493",
     "exception": false,
     "start_time": "2020-11-04T17:04:32.717770",
     "status": "completed"
    },
    "tags": []
   },
   "outputs": [],
   "source": [
    "plt.figure(figsize=(14,6))\n",
    "sns.scatterplot(data=df, x = 'Date', y = 'ToVol', hue='label', style='label')"
   ]
  },
  {
   "cell_type": "code",
   "execution_count": null,
   "metadata": {},
   "outputs": [],
   "source": [
    "df.hist(edgecolor='black', linewidth=1.2)\n",
    "fig=plt.gcf()\n",
    "fig.set_size_inches(16,8)\n",
    "plt.show()"
   ]
  },
  {
   "cell_type": "code",
   "execution_count": null,
   "metadata": {},
   "outputs": [],
   "source": [
    "plt.figure(figsize=(15,10))\n",
    "\n",
    "plt.subplot(2,2,1)\n",
    "sns.violinplot(x='label',y='ToVol',data=df)\n",
    "plt.subplot(2,2,2)\n",
    "sns.violinplot(x='label',y='Speed',data=df)\n",
    "plt.subplot(2,2,3)\n",
    "sns.violinplot(x='label',y='Occ.Rate',data=df)\n",
    "plt.subplot(2,2,4)\n",
    "sns.violinplot(x='label',y='LaVol',data=df)"
   ]
  },
  {
   "cell_type": "code",
   "execution_count": null,
   "metadata": {},
   "outputs": [],
   "source": [
    "sns.pairplot(df,hue='label')"
   ]
  },
  {
   "cell_type": "code",
   "execution_count": null,
   "metadata": {
    "scrolled": true
   },
   "outputs": [],
   "source": [
    "plt.figure(figsize=(12,6)) \n",
    "sns.heatmap(df.corr(),annot=True,cmap='YlGnBu')\n",
    "plt.show()"
   ]
  },
  {
   "cell_type": "markdown",
   "metadata": {},
   "source": [
    "## 4 머신러닝을 위한 입력 데이터 만들자"
   ]
  },
  {
   "cell_type": "markdown",
   "metadata": {},
   "source": [
    "### 1) 입력 X와 출력 y의 값을 정하기"
   ]
  },
  {
   "cell_type": "code",
   "execution_count": null,
   "metadata": {
    "execution": {
     "iopub.execute_input": "2020-11-04T17:04:31.233488Z",
     "iopub.status.busy": "2020-11-04T17:04:31.232181Z",
     "iopub.status.idle": "2020-11-04T17:04:31.235325Z",
     "shell.execute_reply": "2020-11-04T17:04:31.232878Z"
    },
    "papermill": {
     "duration": 0.048394,
     "end_time": "2020-11-04T17:04:31.235443",
     "exception": false,
     "start_time": "2020-11-04T17:04:31.187049",
     "status": "completed"
    },
    "tags": []
   },
   "outputs": [],
   "source": [
    "df['label'].unique()"
   ]
  },
  {
   "cell_type": "code",
   "execution_count": null,
   "metadata": {
    "execution": {
     "iopub.execute_input": "2020-11-04T17:04:31.233488Z",
     "iopub.status.busy": "2020-11-04T17:04:31.232181Z",
     "iopub.status.idle": "2020-11-04T17:04:31.235325Z",
     "shell.execute_reply": "2020-11-04T17:04:31.232878Z"
    },
    "papermill": {
     "duration": 0.048394,
     "end_time": "2020-11-04T17:04:31.235443",
     "exception": false,
     "start_time": "2020-11-04T17:04:31.187049",
     "status": "completed"
    },
    "tags": []
   },
   "outputs": [],
   "source": [
    "#feature_cols = ['ToVol', 'SmVol', 'Speed', 'Occ.Rate']\n",
    "#feature_cols = ['ToVol', 'SmVol', 'LaVol', 'MeVol']\n",
    "feature_cols = ['ToVol','Occ.Rate']\n",
    "target_col = 'label'\n",
    "X = df[feature_cols]\n",
    "y = df[target_col]"
   ]
  },
  {
   "cell_type": "markdown",
   "metadata": {
    "execution": {
     "iopub.execute_input": "2020-11-04T17:04:33.231887Z",
     "iopub.status.busy": "2020-11-04T17:04:33.230910Z",
     "iopub.status.idle": "2020-11-04T17:04:33.235806Z",
     "shell.execute_reply": "2020-11-04T17:04:33.236625Z"
    },
    "papermill": {
     "duration": 0.051411,
     "end_time": "2020-11-04T17:04:33.236826",
     "exception": false,
     "start_time": "2020-11-04T17:04:33.185415",
     "status": "completed"
    },
    "tags": []
   },
   "source": [
    "X = df.drop(['Species','Id'], axis=1)"
   ]
  },
  {
   "cell_type": "code",
   "execution_count": null,
   "metadata": {},
   "outputs": [],
   "source": [
    "X.head()"
   ]
  },
  {
   "cell_type": "markdown",
   "metadata": {
    "execution": {
     "iopub.execute_input": "2020-11-04T17:04:33.231887Z",
     "iopub.status.busy": "2020-11-04T17:04:33.230910Z",
     "iopub.status.idle": "2020-11-04T17:04:33.235806Z",
     "shell.execute_reply": "2020-11-04T17:04:33.236625Z"
    },
    "papermill": {
     "duration": 0.051411,
     "end_time": "2020-11-04T17:04:33.236826",
     "exception": false,
     "start_time": "2020-11-04T17:04:33.185415",
     "status": "completed"
    },
    "tags": []
   },
   "source": [
    "y = df['Species']"
   ]
  },
  {
   "cell_type": "code",
   "execution_count": null,
   "metadata": {
    "execution": {
     "iopub.execute_input": "2020-11-04T17:04:33.231887Z",
     "iopub.status.busy": "2020-11-04T17:04:33.230910Z",
     "iopub.status.idle": "2020-11-04T17:04:33.235806Z",
     "shell.execute_reply": "2020-11-04T17:04:33.236625Z"
    },
    "papermill": {
     "duration": 0.051411,
     "end_time": "2020-11-04T17:04:33.236826",
     "exception": false,
     "start_time": "2020-11-04T17:04:33.185415",
     "status": "completed"
    },
    "tags": []
   },
   "outputs": [],
   "source": [
    "y.head()"
   ]
  },
  {
   "cell_type": "markdown",
   "metadata": {
    "papermill": {
     "duration": 0.032638,
     "end_time": "2020-11-04T17:04:33.305151",
     "exception": false,
     "start_time": "2020-11-04T17:04:33.272513",
     "status": "completed"
    },
    "tags": []
   },
   "source": [
    "### 2) 출력용 라벨을 머신러닝 \n",
    "#### 텍스트를 숫자로 바꾸자 "
   ]
  },
  {
   "cell_type": "code",
   "execution_count": null,
   "metadata": {
    "execution": {
     "iopub.execute_input": "2020-11-04T17:04:33.381959Z",
     "iopub.status.busy": "2020-11-04T17:04:33.381045Z",
     "iopub.status.idle": "2020-11-04T17:04:33.385463Z",
     "shell.execute_reply": "2020-11-04T17:04:33.384834Z"
    },
    "papermill": {
     "duration": 0.046987,
     "end_time": "2020-11-04T17:04:33.385580",
     "exception": false,
     "start_time": "2020-11-04T17:04:33.338593",
     "status": "completed"
    },
    "tags": []
   },
   "outputs": [],
   "source": [
    "class_dic = {'Jam':0, 'Slow':1, 'Normal':2}\n",
    "y_ohc = y.apply(lambda z: class_dic[z])"
   ]
  },
  {
   "cell_type": "code",
   "execution_count": null,
   "metadata": {
    "execution": {
     "iopub.execute_input": "2020-11-04T17:04:33.381959Z",
     "iopub.status.busy": "2020-11-04T17:04:33.381045Z",
     "iopub.status.idle": "2020-11-04T17:04:33.385463Z",
     "shell.execute_reply": "2020-11-04T17:04:33.384834Z"
    },
    "papermill": {
     "duration": 0.046987,
     "end_time": "2020-11-04T17:04:33.385580",
     "exception": false,
     "start_time": "2020-11-04T17:04:33.338593",
     "status": "completed"
    },
    "tags": []
   },
   "outputs": [],
   "source": [
    "y_ohc.head()"
   ]
  },
  {
   "cell_type": "markdown",
   "metadata": {},
   "source": [
    "### 3) 데이터를 훈련과 테스트로 나누자 \n",
    "- (실전) 데이터를 validation을 포함해서 나눌수 있다.\n",
    "- (해보기) 전체 데이터를 train : validation : test = 0.6: 0.2: 0.2 로 나누어라"
   ]
  },
  {
   "cell_type": "code",
   "execution_count": null,
   "metadata": {},
   "outputs": [],
   "source": [
    "from sklearn.model_selection import train_test_split,  ShuffleSplit, learning_curve\n",
    "#from sklearn.model_selection import learning_curve, train_test_split, KFold,  ShuffleSplit\n",
    "\n",
    "X_train, X_test, y_train, y_test = train_test_split(X, y_ohc, test_size=0.20, random_state=30)"
   ]
  },
  {
   "cell_type": "code",
   "execution_count": null,
   "metadata": {},
   "outputs": [],
   "source": [
    "print(X_train.shape, y_train.shape)\n",
    "print(X_test.shape,  y_test.shape)"
   ]
  },
  {
   "cell_type": "code",
   "execution_count": null,
   "metadata": {},
   "outputs": [],
   "source": [
    "from sklearn.preprocessing import StandardScaler\n",
    "scaler = StandardScaler()\n",
    "\n",
    "X_train = scaler.fit_transform(X_train)\n",
    "X_test = scaler.transform(X_test)"
   ]
  },
  {
   "cell_type": "code",
   "execution_count": null,
   "metadata": {},
   "outputs": [],
   "source": []
  },
  {
   "cell_type": "markdown",
   "metadata": {},
   "source": [
    "# 5. 머신러닝 모델을 만들자"
   ]
  },
  {
   "cell_type": "code",
   "execution_count": null,
   "metadata": {
    "execution": {
     "iopub.execute_input": "2020-11-04T17:04:33.460757Z",
     "iopub.status.busy": "2020-11-04T17:04:33.459921Z",
     "iopub.status.idle": "2020-11-04T17:04:33.851794Z",
     "shell.execute_reply": "2020-11-04T17:04:33.850567Z"
    },
    "papermill": {
     "duration": 0.432305,
     "end_time": "2020-11-04T17:04:33.851936",
     "exception": false,
     "start_time": "2020-11-04T17:04:33.419631",
     "status": "completed"
    },
    "tags": []
   },
   "outputs": [],
   "source": [
    "from sklearn.ensemble import RandomForestClassifier\n",
    "from sklearn.tree import DecisionTreeClassifier\n",
    "from sklearn import svm \n",
    "from sklearn.neighbors import KNeighborsClassifier       "
   ]
  },
  {
   "cell_type": "code",
   "execution_count": null,
   "metadata": {},
   "outputs": [],
   "source": [
    "#from sklearn.model_selection import ShuffleSplit"
   ]
  },
  {
   "cell_type": "markdown",
   "metadata": {},
   "source": [
    "### 0) 머신러닝 훈련과정을 그려보자"
   ]
  },
  {
   "cell_type": "markdown",
   "metadata": {},
   "source": [
    "### 1) 로지스틱 회귀"
   ]
  },
  {
   "cell_type": "code",
   "execution_count": null,
   "metadata": {},
   "outputs": [],
   "source": [
    "from sklearn.linear_model import LogisticRegression  \n",
    "from sklearn import metrics   "
   ]
  },
  {
   "cell_type": "code",
   "execution_count": null,
   "metadata": {
    "scrolled": true
   },
   "outputs": [],
   "source": [
    "m_lr = LogisticRegression()\n",
    "m_lr.fit(X_train,y_train)"
   ]
  },
  {
   "cell_type": "code",
   "execution_count": null,
   "metadata": {},
   "outputs": [],
   "source": [
    "pred = m_lr.predict(X_test)\n",
    "\n",
    "acc_lr = metrics.accuracy_score(pred,y_test)\n",
    "print('The accuracy of the Logistic Regression is', acc_lr)"
   ]
  },
  {
   "cell_type": "code",
   "execution_count": null,
   "metadata": {},
   "outputs": [],
   "source": [
    "title = \"Learning Curves (Logistic Regression)\"\n",
    "cv = ShuffleSplit(n_splits=4, test_size=0.2, random_state=0)"
   ]
  },
  {
   "cell_type": "code",
   "execution_count": null,
   "metadata": {},
   "outputs": [],
   "source": [
    "#import myUtil as myutil\n",
    "plot_ml_curve(m_lr, title, X, y, ylim=(0.6, 1.01), cv=cv)"
   ]
  },
  {
   "cell_type": "markdown",
   "metadata": {},
   "source": [
    "### 2 Support Vector Machine (SVM)"
   ]
  },
  {
   "cell_type": "code",
   "execution_count": null,
   "metadata": {},
   "outputs": [],
   "source": [
    "sv = svm.SVC() \n",
    "sv.fit(X_train,y_train) \n",
    "pred = sv.predict(X_test)\n",
    "acc_svm = metrics.accuracy_score(pred,y_test)\n",
    "print('The accuracy of the SVM is:', acc_svm)"
   ]
  },
  {
   "cell_type": "code",
   "execution_count": null,
   "metadata": {},
   "outputs": [],
   "source": [
    "%%time\n",
    "title = \"SVM Classification\"\n",
    "cv = ShuffleSplit(n_splits=4, test_size=0.2, random_state=0)\n",
    "plot_ml_curve(sv, title, X, y, ylim=(0.6, 1.01), cv=cv )"
   ]
  },
  {
   "cell_type": "markdown",
   "metadata": {},
   "source": [
    "### 3 K-Nearest Neighbours"
   ]
  },
  {
   "cell_type": "code",
   "execution_count": null,
   "metadata": {},
   "outputs": [],
   "source": [
    "knc = KNeighborsClassifier(n_neighbors=6)\n",
    "knc.fit(X_train,y_train)\n",
    "pred = knc.predict(X_test)\n",
    "acc_knn = metrics.accuracy_score(pred,y_test)\n",
    "print('The accuracy of the KNN is', acc_knn)"
   ]
  },
  {
   "cell_type": "code",
   "execution_count": null,
   "metadata": {},
   "outputs": [],
   "source": [
    "title = \"K-Nearest Neighbours (KNN)\"\n",
    "cv = ShuffleSplit(n_splits=4, test_size=0.2, random_state=0)\n",
    "\n",
    "plot_ml_curve(knc, title, X, y, ylim=(0.6, 1.01), cv=cv, n_jobs=4)"
   ]
  },
  {
   "cell_type": "markdown",
   "metadata": {},
   "source": [
    "#### 3.1 최적의 k-NN의 정확도 확인 "
   ]
  },
  {
   "cell_type": "code",
   "execution_count": null,
   "metadata": {},
   "outputs": [],
   "source": [
    "a_index = list(range(1,11))\n",
    "a = pd.Series()\n",
    "x = [1,2,3,4,5,6,7,8,9,10]\n",
    "for i in list(range(1,11)):\n",
    "    kcs = KNeighborsClassifier(n_neighbors=i) \n",
    "    kcs.fit(X_train,y_train)\n",
    "    y_pred = kcs.predict(X_test)\n",
    "    a=a.append(pd.Series(\n",
    "        metrics.accuracy_score(y_pred,y_test)))\n",
    "    \n",
    "plt.plot(a_index, a)\n",
    "plt.xticks(x)"
   ]
  },
  {
   "cell_type": "markdown",
   "metadata": {
    "papermill": {
     "duration": 0.035138,
     "end_time": "2020-11-04T17:04:34.002922",
     "exception": false,
     "start_time": "2020-11-04T17:04:33.967784",
     "status": "completed"
    },
    "tags": []
   },
   "source": [
    "### 4 램덤포레스트 (RandomForestClassifier)"
   ]
  },
  {
   "cell_type": "code",
   "execution_count": null,
   "metadata": {
    "execution": {
     "iopub.execute_input": "2020-11-04T17:04:34.092688Z",
     "iopub.status.busy": "2020-11-04T17:04:34.091790Z",
     "iopub.status.idle": "2020-11-04T17:04:34.114636Z",
     "shell.execute_reply": "2020-11-04T17:04:34.114034Z"
    },
    "papermill": {
     "duration": 0.076342,
     "end_time": "2020-11-04T17:04:34.114764",
     "exception": false,
     "start_time": "2020-11-04T17:04:34.038422",
     "status": "completed"
    },
    "tags": []
   },
   "outputs": [],
   "source": [
    "m_rf = RandomForestClassifier(n_estimators=100, max_depth = 3)"
   ]
  },
  {
   "cell_type": "code",
   "execution_count": null,
   "metadata": {
    "execution": {
     "iopub.execute_input": "2020-11-04T17:04:34.092688Z",
     "iopub.status.busy": "2020-11-04T17:04:34.091790Z",
     "iopub.status.idle": "2020-11-04T17:04:34.114636Z",
     "shell.execute_reply": "2020-11-04T17:04:34.114034Z"
    },
    "papermill": {
     "duration": 0.076342,
     "end_time": "2020-11-04T17:04:34.114764",
     "exception": false,
     "start_time": "2020-11-04T17:04:34.038422",
     "status": "completed"
    },
    "tags": []
   },
   "outputs": [],
   "source": [
    "m_rf.fit(X_train, y_train)"
   ]
  },
  {
   "cell_type": "code",
   "execution_count": null,
   "metadata": {
    "execution": {
     "iopub.execute_input": "2020-11-04T17:04:34.196250Z",
     "iopub.status.busy": "2020-11-04T17:04:34.195190Z",
     "iopub.status.idle": "2020-11-04T17:04:34.198547Z",
     "shell.execute_reply": "2020-11-04T17:04:34.197951Z"
    },
    "papermill": {
     "duration": 0.048025,
     "end_time": "2020-11-04T17:04:34.198669",
     "exception": false,
     "start_time": "2020-11-04T17:04:34.150644",
     "status": "completed"
    },
    "tags": []
   },
   "outputs": [],
   "source": [
    "pred = m_rf.predict(X_test)"
   ]
  },
  {
   "cell_type": "code",
   "execution_count": null,
   "metadata": {
    "execution": {
     "iopub.execute_input": "2020-11-04T17:04:34.275059Z",
     "iopub.status.busy": "2020-11-04T17:04:34.274009Z",
     "iopub.status.idle": "2020-11-04T17:04:34.277307Z",
     "shell.execute_reply": "2020-11-04T17:04:34.276707Z"
    },
    "papermill": {
     "duration": 0.042884,
     "end_time": "2020-11-04T17:04:34.277424",
     "exception": false,
     "start_time": "2020-11-04T17:04:34.234540",
     "status": "completed"
    },
    "tags": []
   },
   "outputs": [],
   "source": [
    "acc_rf = metrics.accuracy_score(pred,y_test)\n",
    "print('The accuracy of the RFC is:', acc_rf)"
   ]
  },
  {
   "cell_type": "code",
   "execution_count": null,
   "metadata": {},
   "outputs": [],
   "source": [
    "title = \"Random Forest Classifier\"\n",
    "cv = ShuffleSplit(n_splits=4, test_size=0.2, random_state=0)\n",
    "plot_ml_curve(m_rf, title, X, y, ylim=(0.6, 1.01), cv=cv)"
   ]
  },
  {
   "cell_type": "markdown",
   "metadata": {
    "papermill": {
     "duration": 0.035571,
     "end_time": "2020-11-04T17:04:34.427777",
     "exception": false,
     "start_time": "2020-11-04T17:04:34.392206",
     "status": "completed"
    },
    "tags": []
   },
   "source": [
    "### 5 의사결정나무 (DecisionTreeClassifier)"
   ]
  },
  {
   "cell_type": "code",
   "execution_count": null,
   "metadata": {
    "execution": {
     "iopub.execute_input": "2020-11-04T17:04:34.507892Z",
     "iopub.status.busy": "2020-11-04T17:04:34.506882Z",
     "iopub.status.idle": "2020-11-04T17:04:34.512752Z",
     "shell.execute_reply": "2020-11-04T17:04:34.512026Z"
    },
    "papermill": {
     "duration": 0.049666,
     "end_time": "2020-11-04T17:04:34.512858",
     "exception": false,
     "start_time": "2020-11-04T17:04:34.463192",
     "status": "completed"
    },
    "tags": []
   },
   "outputs": [],
   "source": [
    "m_tree = DecisionTreeClassifier()\n",
    "\n",
    "m_tree.fit(X_train, y_train)"
   ]
  },
  {
   "cell_type": "code",
   "execution_count": null,
   "metadata": {
    "execution": {
     "iopub.execute_input": "2020-11-04T17:04:34.597830Z",
     "iopub.status.busy": "2020-11-04T17:04:34.596758Z",
     "iopub.status.idle": "2020-11-04T17:04:34.599842Z",
     "shell.execute_reply": "2020-11-04T17:04:34.599284Z"
    },
    "papermill": {
     "duration": 0.049145,
     "end_time": "2020-11-04T17:04:34.599962",
     "exception": false,
     "start_time": "2020-11-04T17:04:34.550817",
     "status": "completed"
    },
    "tags": []
   },
   "outputs": [],
   "source": [
    "prd = m_tree.predict(X_test)"
   ]
  },
  {
   "cell_type": "code",
   "execution_count": null,
   "metadata": {
    "execution": {
     "iopub.execute_input": "2020-11-04T17:04:34.681944Z",
     "iopub.status.busy": "2020-11-04T17:04:34.680971Z",
     "iopub.status.idle": "2020-11-04T17:04:34.684761Z",
     "shell.execute_reply": "2020-11-04T17:04:34.685390Z"
    },
    "papermill": {
     "duration": 0.047739,
     "end_time": "2020-11-04T17:04:34.685532",
     "exception": false,
     "start_time": "2020-11-04T17:04:34.637793",
     "status": "completed"
    },
    "tags": []
   },
   "outputs": [],
   "source": [
    "acc_dt = metrics.accuracy_score(pred,y_test)\n",
    "print('The accuracy of the Decision Tree is:', acc_dt)"
   ]
  },
  {
   "cell_type": "code",
   "execution_count": null,
   "metadata": {},
   "outputs": [],
   "source": [
    "title = \"Decision Tree Classifier\"\n",
    "cv = ShuffleSplit(n_splits=4, test_size=0.2, random_state=0)\n",
    "\n",
    "plot_ml_curve(m_tree, title, X, y, ylim=(0.6, 1.01), cv=cv)"
   ]
  },
  {
   "cell_type": "code",
   "execution_count": null,
   "metadata": {},
   "outputs": [],
   "source": []
  },
  {
   "cell_type": "markdown",
   "metadata": {
    "papermill": {
     "duration": 0.03818,
     "end_time": "2020-11-04T17:04:34.837136",
     "exception": false,
     "start_time": "2020-11-04T17:04:34.798956",
     "status": "completed"
    },
    "tags": []
   },
   "source": [
    "### 6. 딥러닝 "
   ]
  },
  {
   "cell_type": "markdown",
   "metadata": {
    "papermill": {
     "duration": 0.037726,
     "end_time": "2020-11-04T17:04:34.990595",
     "exception": false,
     "start_time": "2020-11-04T17:04:34.952869",
     "status": "completed"
    },
    "tags": []
   },
   "source": [
    "- 데이터의 범위를 [0,1] 사이로 스케일 \n",
    "- 사이킷런의 MinMaxScaler()"
   ]
  },
  {
   "cell_type": "code",
   "execution_count": null,
   "metadata": {
    "execution": {
     "iopub.execute_input": "2020-11-04T17:04:35.241247Z",
     "iopub.status.busy": "2020-11-04T17:04:35.240212Z",
     "iopub.status.idle": "2020-11-04T17:04:35.243472Z",
     "shell.execute_reply": "2020-11-04T17:04:35.242898Z"
    },
    "papermill": {
     "duration": 0.050968,
     "end_time": "2020-11-04T17:04:35.243590",
     "exception": false,
     "start_time": "2020-11-04T17:04:35.192622",
     "status": "completed"
    },
    "tags": []
   },
   "outputs": [],
   "source": [
    "from sklearn.preprocessing import MinMaxScaler\n",
    "scaler = MinMaxScaler()\n",
    "X_scaled = scaler.fit_transform(X)"
   ]
  },
  {
   "cell_type": "code",
   "execution_count": null,
   "metadata": {
    "execution": {
     "iopub.execute_input": "2020-11-04T17:04:35.335456Z",
     "iopub.status.busy": "2020-11-04T17:04:35.333941Z",
     "iopub.status.idle": "2020-11-04T17:04:35.340476Z",
     "shell.execute_reply": "2020-11-04T17:04:35.338912Z"
    },
    "papermill": {
     "duration": 0.058638,
     "end_time": "2020-11-04T17:04:35.341080",
     "exception": false,
     "start_time": "2020-11-04T17:04:35.282442",
     "status": "completed"
    },
    "tags": []
   },
   "outputs": [],
   "source": [
    "X_train, X_test, y_train, y_test = train_test_split(X_scaled, y_ohc, test_size=0.2,random_state=33)"
   ]
  },
  {
   "cell_type": "code",
   "execution_count": null,
   "metadata": {
    "execution": {
     "iopub.execute_input": "2020-11-04T17:04:35.435958Z",
     "iopub.status.busy": "2020-11-04T17:04:35.434770Z",
     "iopub.status.idle": "2020-11-04T17:04:35.439199Z",
     "shell.execute_reply": "2020-11-04T17:04:35.439868Z"
    },
    "papermill": {
     "duration": 0.0583,
     "end_time": "2020-11-04T17:04:35.440020",
     "exception": false,
     "start_time": "2020-11-04T17:04:35.381720",
     "status": "completed"
    },
    "tags": []
   },
   "outputs": [],
   "source": [
    "X_train.shape"
   ]
  },
  {
   "cell_type": "code",
   "execution_count": null,
   "metadata": {
    "execution": {
     "iopub.execute_input": "2020-11-04T17:04:35.435958Z",
     "iopub.status.busy": "2020-11-04T17:04:35.434770Z",
     "iopub.status.idle": "2020-11-04T17:04:35.439199Z",
     "shell.execute_reply": "2020-11-04T17:04:35.439868Z"
    },
    "papermill": {
     "duration": 0.0583,
     "end_time": "2020-11-04T17:04:35.440020",
     "exception": false,
     "start_time": "2020-11-04T17:04:35.381720",
     "status": "completed"
    },
    "tags": []
   },
   "outputs": [],
   "source": [
    "num_features = len(X_train[1]) \n",
    "num_features"
   ]
  },
  {
   "cell_type": "code",
   "execution_count": null,
   "metadata": {},
   "outputs": [],
   "source": [
    "import tensorflow as tf\n",
    "from tensorflow import keras\n",
    "\n",
    "from tensorflow.keras import Sequential, optimizers\n",
    "from tensorflow.keras.layers import Flatten, Dense, Softmax"
   ]
  },
  {
   "cell_type": "code",
   "execution_count": null,
   "metadata": {
    "execution": {
     "iopub.execute_input": "2020-11-04T17:04:35.629046Z",
     "iopub.status.busy": "2020-11-04T17:04:35.628258Z",
     "iopub.status.idle": "2020-11-04T17:04:39.004594Z",
     "shell.execute_reply": "2020-11-04T17:04:39.007106Z"
    },
    "papermill": {
     "duration": 3.433685,
     "end_time": "2020-11-04T17:04:39.007334",
     "exception": false,
     "start_time": "2020-11-04T17:04:35.573649",
     "status": "completed"
    },
    "tags": []
   },
   "outputs": [],
   "source": [
    "\n",
    "model = keras.Sequential([\n",
    "    keras.layers.Dense(64, activation = 'relu', input_shape=[num_features]),\n",
    "    keras.layers.Dense(64, activation = 'relu'),\n",
    "    keras.layers.Dense(32, activation = 'relu'),\n",
    "    keras.layers.Dense(3, activation = 'softmax')\n",
    "])\n",
    "\n",
    "model.compile(loss='SparseCategoricalCrossentropy', optimizer='adam', metrics=['accuracy'])\n",
    "model.summary()"
   ]
  },
  {
   "cell_type": "code",
   "execution_count": null,
   "metadata": {
    "execution": {
     "iopub.execute_input": "2020-11-04T17:04:39.120037Z",
     "iopub.status.busy": "2020-11-04T17:04:39.119339Z",
     "iopub.status.idle": "2020-11-04T17:04:45.279356Z",
     "shell.execute_reply": "2020-11-04T17:04:45.278439Z"
    },
    "papermill": {
     "duration": 6.210997,
     "end_time": "2020-11-04T17:04:45.279480",
     "exception": false,
     "start_time": "2020-11-04T17:04:39.068483",
     "status": "completed"
    },
    "tags": []
   },
   "outputs": [],
   "source": [
    "history = model.fit(X_train, y_train, epochs = 100, \n",
    "                    validation_data=(X_test, y_test), batch_size = 128, verbose=2)            "
   ]
  },
  {
   "cell_type": "code",
   "execution_count": null,
   "metadata": {
    "execution": {
     "iopub.execute_input": "2020-11-04T17:04:46.563639Z",
     "iopub.status.busy": "2020-11-04T17:04:46.562865Z",
     "iopub.status.idle": "2020-11-04T17:04:46.769315Z",
     "shell.execute_reply": "2020-11-04T17:04:46.769854Z"
    },
    "papermill": {
     "duration": 0.478418,
     "end_time": "2020-11-04T17:04:46.770005",
     "exception": false,
     "start_time": "2020-11-04T17:04:46.291587",
     "status": "completed"
    },
    "tags": []
   },
   "outputs": [],
   "source": [
    "model.evaluate(X_test, y_test)"
   ]
  },
  {
   "cell_type": "code",
   "execution_count": null,
   "metadata": {},
   "outputs": [],
   "source": [
    "history.history.keys()"
   ]
  },
  {
   "cell_type": "code",
   "execution_count": null,
   "metadata": {},
   "outputs": [],
   "source": [
    "acc_dnn = history.history['accuracy'][np.argmin(history.history['loss'])]\n",
    "print('The accuracy of the Deep Learning is:', acc_dnn)"
   ]
  },
  {
   "cell_type": "code",
   "execution_count": null,
   "metadata": {},
   "outputs": [],
   "source": [
    "import myutil_plot\n",
    "myutil_plot.plot_history(history)"
   ]
  },
  {
   "cell_type": "code",
   "execution_count": null,
   "metadata": {},
   "outputs": [],
   "source": [
    "models = pd.DataFrame({\n",
    "    'Model': ['Logistic Regression',  'Support Vector Machines','RandomForest',\n",
    "              'K-Nearest Neighbours', 'Decision Tree','Deep Learning'],\n",
    "    'Score': [acc_lr, acc_svm, acc_rf, acc_knn, acc_dt, acc_dnn]})\n",
    "models.sort_values(by='Score', ascending=False)"
   ]
  },
  {
   "cell_type": "code",
   "execution_count": null,
   "metadata": {},
   "outputs": [],
   "source": [
    "%matplotlib inline\n",
    "import matplotlib.pyplot as plt\n",
    "\n",
    "fig, loss_ax = plt.subplots()\n",
    "\n",
    "acc_ax = loss_ax.twinx()\n",
    "\n",
    "loss_ax.plot(history.history['loss'],'y',label='train loss')\n",
    "loss_ax.plot(history.history['val_loss'],'r',label='val loss')\n",
    "acc_ax.plot(history.history['accuracy'],'b',label='train acc')\n",
    "acc_ax.plot(history.history['val_accuracy'],'g',label='val acc')\n",
    "\n",
    "loss_ax.set_xlabel('epoch')\n",
    "loss_ax.set_ylabel('loss')\n",
    "acc_ax.set_ylabel('accuracy')\n",
    "\n",
    "loss_ax.legend(loc='center right')\n",
    "acc_ax.legend(loc='center')\n",
    "plt.show()"
   ]
  },
  {
   "cell_type": "code",
   "execution_count": null,
   "metadata": {},
   "outputs": [],
   "source": []
  },
  {
   "cell_type": "code",
   "execution_count": null,
   "metadata": {},
   "outputs": [],
   "source": []
  },
  {
   "cell_type": "code",
   "execution_count": null,
   "metadata": {},
   "outputs": [],
   "source": []
  }
 ],
 "metadata": {
  "kernelspec": {
   "display_name": "tf",
   "language": "python",
   "name": "tf"
  },
  "language_info": {
   "codemirror_mode": {
    "name": "ipython",
    "version": 3
   },
   "file_extension": ".py",
   "mimetype": "text/x-python",
   "name": "python",
   "nbconvert_exporter": "python",
   "pygments_lexer": "ipython3",
   "version": "3.7.6"
  },
  "papermill": {
   "duration": 31.125685,
   "end_time": "2020-11-04T17:04:50.944017",
   "environment_variables": {},
   "exception": null,
   "input_path": "__notebook__.ipynb",
   "output_path": "__notebook__.ipynb",
   "parameters": {},
   "start_time": "2020-11-04T17:04:19.818332",
   "version": "2.1.0"
  }
 },
 "nbformat": 4,
 "nbformat_minor": 4
}
